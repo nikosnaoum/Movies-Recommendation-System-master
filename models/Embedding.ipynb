{
 "cells": [
  {
   "cell_type": "markdown",
   "metadata": {
    "pycharm": {}
   },
   "source": [
    "# Contents\n",
    "- [Data Exploration](#Data-Exploration)\n",
    "- [Embedding Only](#Embedding-only)\n",
    "- [Non-negative Matrix factorisation (NNMF)](#Non-negative-Matrix-factorisation-(NNMF))\n",
    "- [Embedding & Neural Network](#Embedding-&-Neural-Network)\n",
    "- [Adding Genre data to the network](#Adding-Genre-data-to-the-network)"
   ]
  },
  {
   "cell_type": "code",
   "execution_count": 1,
   "metadata": {
    "pycharm": {
     "is_executing": false
    }
   },
   "outputs": [
    {
     "name": "stderr",
     "output_type": "stream",
     "text": [
      "Using TensorFlow backend.\n"
     ]
    },
    {
     "name": "stdout",
     "output_type": "stream",
     "text": [
      "   userId  movieId  rating   timestamp             title  \\\n",
      "0       0        0     4.0   964982703  Toy Story (1995)   \n",
      "1       4        0     4.0   847434962  Toy Story (1995)   \n",
      "2       6        0     4.5  1106635946  Toy Story (1995)   \n",
      "3      14        0     2.5  1510577970  Toy Story (1995)   \n",
      "4      16        0     4.5  1305696483  Toy Story (1995)   \n",
      "\n",
      "                                        genres  \n",
      "0  Adventure|Animation|Children|Comedy|Fantasy  \n",
      "1  Adventure|Animation|Children|Comedy|Fantasy  \n",
      "2  Adventure|Animation|Children|Comedy|Fantasy  \n",
      "3  Adventure|Animation|Children|Comedy|Fantasy  \n",
      "4  Adventure|Animation|Children|Comedy|Fantasy  \n"
     ]
    }
   ],
   "source": [
    "import pandas as pd\n",
    "from datetime import datetime\n",
    "from matplotlib import pyplot as plt\n",
    "from IPython.display import SVG\n",
    "import keras\n",
    "from keras.optimizers import Adam\n",
    "from keras.utils.vis_utils import model_to_dot\n",
    "from sklearn.metrics import mean_absolute_error\n",
    "from sklearn.metrics import mean_squared_error\n",
    "from sklearn.preprocessing import MultiLabelBinarizer\n",
    "from math import sqrt\n",
    "\n",
    "ratings = pd.read_csv('ml-latest-small/ratings.csv')\n",
    "movies = pd.read_csv('ml-latest-small/movies.csv')\n",
    "\n",
    "ratings = pd.merge(ratings, movies, on='movieId')\n",
    "\n",
    "# ratings = ratings.drop('genres', 1)\n",
    "ratings.userId = ratings.userId.astype('category').cat.codes.values\n",
    "ratings.movieId = ratings.movieId.astype('category').cat.codes.values\n",
    "print(ratings.head())"
   ]
  },
  {
   "cell_type": "markdown",
   "metadata": {
    "pycharm": {
     "metadata": false,
     "name": "#%% md\n"
    }
   },
   "source": [
    "# Data Exploration "
   ]
  },
  {
   "cell_type": "code",
   "execution_count": 2,
   "metadata": {
    "pycharm": {
     "is_executing": false,
     "metadata": false,
     "name": "#%%\n"
    }
   },
   "outputs": [
    {
     "name": "stdout",
     "output_type": "stream",
     "text": [
      "Number of users: 610\n",
      "Number of movies: 9724\n"
     ]
    },
    {
     "data": {
      "text/plain": [
       "<matplotlib.axes._subplots.AxesSubplot at 0x2800bd0dc50>"
      ]
     },
     "execution_count": 2,
     "metadata": {},
     "output_type": "execute_result"
    },
    {
     "data": {
      "image/png": "[encoded data removed]",
      "text/plain": [
       "<Figure size 432x288 with 1 Axes>"
      ]
     },
     "metadata": {
      "needs_background": "light"
     },
     "output_type": "display_data"
    }
   ],
   "source": [
    "n_users, n_movies = len(ratings['userId'].unique()), len(ratings['movieId'].unique())\n",
    "\n",
    "print(\"Number of users:\",n_users)\n",
    "print(\"Number of movies:\",n_movies)\n",
    "\n",
    "#Convert timestamps to dates\n",
    "ratings['timestamp'] = ratings['timestamp'].apply(lambda x: datetime.fromtimestamp(x).strftime('%Y-%m-%d'))\n",
    "ratings['timestamp'] = pd.to_datetime(ratings['timestamp'])\n",
    "\n",
    "#plot timestamps frequencies\n",
    "ratings[\"timestamp\"].groupby(ratings[\"timestamp\"].dt.year).count().plot(kind=\"bar\",)"
   ]
  },
  {
   "cell_type": "code",
   "execution_count": 3,
   "metadata": {
    "pycharm": {
     "is_executing": false,
     "metadata": false,
     "name": "#%%\n"
    }
   },
   "outputs": [
    {
     "data": {
      "image/png": "[encoded data removed]",
      "text/plain": [
       "<Figure size 432x288 with 1 Axes>"
      ]
     },
     "metadata": {
      "needs_background": "light"
     },
     "output_type": "display_data"
    }
   ],
   "source": [
    "# Plot ratings frequencies\n",
    "ratings['rating'].groupby(ratings['rating']).count().plot(kind='bar')\n",
    "\n",
    "#split dataset based on date\n",
    "#train = ratings[(ratings['timestamp'] < '2017-07-01') ]\n",
    "#test = ratings[(ratings['timestamp'] >= '2017-07-01') ]\n",
    "ratings = ratings.drop('timestamp', 1)"
   ]
  },
  {
   "cell_type": "markdown",
   "metadata": {
    "pycharm": {
     "metadata": false,
     "name": "#%% md\n"
    }
   },
   "source": [
    "Dataset split"
   ]
  },
  {
   "cell_type": "code",
   "execution_count": 4,
   "metadata": {
    "pycharm": {
     "is_executing": false,
     "metadata": false,
     "name": "#%%\n"
    }
   },
   "outputs": [
    {
     "name": "stdout",
     "output_type": "stream",
     "text": [
      "Number of rows in test data set: 5042\n",
      "Number of rows in training data set: 95794\n"
     ]
    }
   ],
   "source": [
    "from sklearn.model_selection import train_test_split\n",
    "train, test = train_test_split(ratings, test_size=0.05)\n",
    "print(\"Number of rows in test data set:\", (len(test)))\n",
    "print(\"Number of rows in training data set:\",(len(train)))"
   ]
  },
  {
   "cell_type": "markdown",
   "metadata": {
    "pycharm": {}
   },
   "source": [
    "# Embedding only"
   ]
  },
  {
   "cell_type": "code",
   "execution_count": 5,
   "metadata": {
    "pycharm": {
     "is_executing": false,
     "metadata": false,
     "name": "#%%\n"
    }
   },
   "outputs": [
    {
     "name": "stdout",
     "output_type": "stream",
     "text": [
      "WARNING:tensorflow:From C:\\Users\\machine\\Anaconda3\\envs\\tf_gpu\\lib\\site-packages\\tensorflow\\python\\framework\\op_def_library.py:263: colocate_with (from tensorflow.python.framework.ops) is deprecated and will be removed in a future version.\n",
      "Instructions for updating:\n",
      "Colocations handled automatically by placer.\n"
     ]
    },
    {
     "data": {
      "image/svg+xml": [
       "<svg height=\"304pt\" viewBox=\"0.00 0.00 679.50 304.00\" width=\"680pt\" xmlns=\"http://www.w3.org/2000/svg\" xmlns:xlink=\"http://www.w3.org/1999/xlink\">\n",
       "<g class=\"graph\" id=\"graph0\" transform=\"scale(1 1) rotate(0) translate(4 300)\">\n",
       "<title>G</title>\n",
       "<polygon fill=\"white\" points=\"-4,4 -4,-300 675.5,-300 675.5,4 -4,4\" stroke=\"none\"/>\n",
       "<!-- 2748991752680 -->\n",
       "<g class=\"node\" id=\"node1\"><title>2748991752680</title>\n",
       "<polygon fill=\"none\" points=\"43,-249.5 43,-295.5 288,-295.5 288,-249.5 43,-249.5\" stroke=\"black\"/>\n",
       "<text font-family=\"Times New Roman,serif\" font-size=\"14.00\" text-anchor=\"middle\" x=\"102.5\" y=\"-268.8\">Movie: InputLayer</text>\n",
       "<polyline fill=\"none\" points=\"162,-249.5 162,-295.5 \" stroke=\"black\"/>\n",
       "<text font-family=\"Times New Roman,serif\" font-size=\"14.00\" text-anchor=\"middle\" x=\"190\" y=\"-280.3\">input:</text>\n",
       "<polyline fill=\"none\" points=\"162,-272.5 218,-272.5 \" stroke=\"black\"/>\n",
       "<text font-family=\"Times New Roman,serif\" font-size=\"14.00\" text-anchor=\"middle\" x=\"190\" y=\"-257.3\">output:</text>\n",
       "<polyline fill=\"none\" points=\"218,-249.5 218,-295.5 \" stroke=\"black\"/>\n",
       "<text font-family=\"Times New Roman,serif\" font-size=\"14.00\" text-anchor=\"middle\" x=\"253\" y=\"-280.3\">(None, 1)</text>\n",
       "<polyline fill=\"none\" points=\"218,-272.5 288,-272.5 \" stroke=\"black\"/>\n",
       "<text font-family=\"Times New Roman,serif\" font-size=\"14.00\" text-anchor=\"middle\" x=\"253\" y=\"-257.3\">(None, 1)</text>\n",
       "</g>\n",
       "<!-- 2748991752848 -->\n",
       "<g class=\"node\" id=\"node3\"><title>2748991752848</title>\n",
       "<polygon fill=\"none\" points=\"0,-166.5 0,-212.5 331,-212.5 331,-166.5 0,-166.5\" stroke=\"black\"/>\n",
       "<text font-family=\"Times New Roman,serif\" font-size=\"14.00\" text-anchor=\"middle\" x=\"95.5\" y=\"-185.8\">Movie-Embedding: Embedding</text>\n",
       "<polyline fill=\"none\" points=\"191,-166.5 191,-212.5 \" stroke=\"black\"/>\n",
       "<text font-family=\"Times New Roman,serif\" font-size=\"14.00\" text-anchor=\"middle\" x=\"219\" y=\"-197.3\">input:</text>\n",
       "<polyline fill=\"none\" points=\"191,-189.5 247,-189.5 \" stroke=\"black\"/>\n",
       "<text font-family=\"Times New Roman,serif\" font-size=\"14.00\" text-anchor=\"middle\" x=\"219\" y=\"-174.3\">output:</text>\n",
       "<polyline fill=\"none\" points=\"247,-166.5 247,-212.5 \" stroke=\"black\"/>\n",
       "<text font-family=\"Times New Roman,serif\" font-size=\"14.00\" text-anchor=\"middle\" x=\"289\" y=\"-197.3\">(None, 1)</text>\n",
       "<polyline fill=\"none\" points=\"247,-189.5 331,-189.5 \" stroke=\"black\"/>\n",
       "<text font-family=\"Times New Roman,serif\" font-size=\"14.00\" text-anchor=\"middle\" x=\"289\" y=\"-174.3\">(None, 1, 3)</text>\n",
       "</g>\n",
       "<!-- 2748991752680&#45;&gt;2748991752848 -->\n",
       "<g class=\"edge\" id=\"edge1\"><title>2748991752680-&gt;2748991752848</title>\n",
       "<path d=\"M165.5,-249.366C165.5,-241.152 165.5,-231.658 165.5,-222.725\" fill=\"none\" stroke=\"black\"/>\n",
       "<polygon fill=\"black\" points=\"169,-222.607 165.5,-212.607 162,-222.607 169,-222.607\" stroke=\"black\"/>\n",
       "</g>\n",
       "<!-- 2748991753688 -->\n",
       "<g class=\"node\" id=\"node2\"><title>2748991753688</title>\n",
       "<polygon fill=\"none\" points=\"392.5,-249.5 392.5,-295.5 628.5,-295.5 628.5,-249.5 392.5,-249.5\" stroke=\"black\"/>\n",
       "<text font-family=\"Times New Roman,serif\" font-size=\"14.00\" text-anchor=\"middle\" x=\"447.5\" y=\"-268.8\">User: InputLayer</text>\n",
       "<polyline fill=\"none\" points=\"502.5,-249.5 502.5,-295.5 \" stroke=\"black\"/>\n",
       "<text font-family=\"Times New Roman,serif\" font-size=\"14.00\" text-anchor=\"middle\" x=\"530.5\" y=\"-280.3\">input:</text>\n",
       "<polyline fill=\"none\" points=\"502.5,-272.5 558.5,-272.5 \" stroke=\"black\"/>\n",
       "<text font-family=\"Times New Roman,serif\" font-size=\"14.00\" text-anchor=\"middle\" x=\"530.5\" y=\"-257.3\">output:</text>\n",
       "<polyline fill=\"none\" points=\"558.5,-249.5 558.5,-295.5 \" stroke=\"black\"/>\n",
       "<text font-family=\"Times New Roman,serif\" font-size=\"14.00\" text-anchor=\"middle\" x=\"593.5\" y=\"-280.3\">(None, 1)</text>\n",
       "<polyline fill=\"none\" points=\"558.5,-272.5 628.5,-272.5 \" stroke=\"black\"/>\n",
       "<text font-family=\"Times New Roman,serif\" font-size=\"14.00\" text-anchor=\"middle\" x=\"593.5\" y=\"-257.3\">(None, 1)</text>\n",
       "</g>\n",
       "<!-- 2748991775296 -->\n",
       "<g class=\"node\" id=\"node4\"><title>2748991775296</title>\n",
       "<polygon fill=\"none\" points=\"349.5,-166.5 349.5,-212.5 671.5,-212.5 671.5,-166.5 349.5,-166.5\" stroke=\"black\"/>\n",
       "<text font-family=\"Times New Roman,serif\" font-size=\"14.00\" text-anchor=\"middle\" x=\"440.5\" y=\"-185.8\">User-Embedding: Embedding</text>\n",
       "<polyline fill=\"none\" points=\"531.5,-166.5 531.5,-212.5 \" stroke=\"black\"/>\n",
       "<text font-family=\"Times New Roman,serif\" font-size=\"14.00\" text-anchor=\"middle\" x=\"559.5\" y=\"-197.3\">input:</text>\n",
       "<polyline fill=\"none\" points=\"531.5,-189.5 587.5,-189.5 \" stroke=\"black\"/>\n",
       "<text font-family=\"Times New Roman,serif\" font-size=\"14.00\" text-anchor=\"middle\" x=\"559.5\" y=\"-174.3\">output:</text>\n",
       "<polyline fill=\"none\" points=\"587.5,-166.5 587.5,-212.5 \" stroke=\"black\"/>\n",
       "<text font-family=\"Times New Roman,serif\" font-size=\"14.00\" text-anchor=\"middle\" x=\"629.5\" y=\"-197.3\">(None, 1)</text>\n",
       "<polyline fill=\"none\" points=\"587.5,-189.5 671.5,-189.5 \" stroke=\"black\"/>\n",
       "<text font-family=\"Times New Roman,serif\" font-size=\"14.00\" text-anchor=\"middle\" x=\"629.5\" y=\"-174.3\">(None, 1, 3)</text>\n",
       "</g>\n",
       "<!-- 2748991753688&#45;&gt;2748991775296 -->\n",
       "<g class=\"edge\" id=\"edge2\"><title>2748991753688-&gt;2748991775296</title>\n",
       "<path d=\"M510.5,-249.366C510.5,-241.152 510.5,-231.658 510.5,-222.725\" fill=\"none\" stroke=\"black\"/>\n",
       "<polygon fill=\"black\" points=\"514,-222.607 510.5,-212.607 507,-222.607 514,-222.607\" stroke=\"black\"/>\n",
       "</g>\n",
       "<!-- 2748991754136 -->\n",
       "<g class=\"node\" id=\"node5\"><title>2748991754136</title>\n",
       "<polygon fill=\"none\" points=\"50.5,-83.5 50.5,-129.5 330.5,-129.5 330.5,-83.5 50.5,-83.5\" stroke=\"black\"/>\n",
       "<text font-family=\"Times New Roman,serif\" font-size=\"14.00\" text-anchor=\"middle\" x=\"120.5\" y=\"-102.8\">FlattenMovies: Flatten</text>\n",
       "<polyline fill=\"none\" points=\"190.5,-83.5 190.5,-129.5 \" stroke=\"black\"/>\n",
       "<text font-family=\"Times New Roman,serif\" font-size=\"14.00\" text-anchor=\"middle\" x=\"218.5\" y=\"-114.3\">input:</text>\n",
       "<polyline fill=\"none\" points=\"190.5,-106.5 246.5,-106.5 \" stroke=\"black\"/>\n",
       "<text font-family=\"Times New Roman,serif\" font-size=\"14.00\" text-anchor=\"middle\" x=\"218.5\" y=\"-91.3\">output:</text>\n",
       "<polyline fill=\"none\" points=\"246.5,-83.5 246.5,-129.5 \" stroke=\"black\"/>\n",
       "<text font-family=\"Times New Roman,serif\" font-size=\"14.00\" text-anchor=\"middle\" x=\"288.5\" y=\"-114.3\">(None, 1, 3)</text>\n",
       "<polyline fill=\"none\" points=\"246.5,-106.5 330.5,-106.5 \" stroke=\"black\"/>\n",
       "<text font-family=\"Times New Roman,serif\" font-size=\"14.00\" text-anchor=\"middle\" x=\"288.5\" y=\"-91.3\">(None, 3)</text>\n",
       "</g>\n",
       "<!-- 2748991752848&#45;&gt;2748991754136 -->\n",
       "<g class=\"edge\" id=\"edge3\"><title>2748991752848-&gt;2748991754136</title>\n",
       "<path d=\"M172.331,-166.366C174.894,-158.062 177.861,-148.451 180.644,-139.434\" fill=\"none\" stroke=\"black\"/>\n",
       "<polygon fill=\"black\" points=\"184.072,-140.194 183.677,-129.607 177.383,-138.13 184.072,-140.194\" stroke=\"black\"/>\n",
       "</g>\n",
       "<!-- 2748991754080 -->\n",
       "<g class=\"node\" id=\"node6\"><title>2748991754080</title>\n",
       "<polygon fill=\"none\" points=\"362,-83.5 362,-129.5 633,-129.5 633,-83.5 362,-83.5\" stroke=\"black\"/>\n",
       "<text font-family=\"Times New Roman,serif\" font-size=\"14.00\" text-anchor=\"middle\" x=\"427.5\" y=\"-102.8\">FlattenUsers: Flatten</text>\n",
       "<polyline fill=\"none\" points=\"493,-83.5 493,-129.5 \" stroke=\"black\"/>\n",
       "<text font-family=\"Times New Roman,serif\" font-size=\"14.00\" text-anchor=\"middle\" x=\"521\" y=\"-114.3\">input:</text>\n",
       "<polyline fill=\"none\" points=\"493,-106.5 549,-106.5 \" stroke=\"black\"/>\n",
       "<text font-family=\"Times New Roman,serif\" font-size=\"14.00\" text-anchor=\"middle\" x=\"521\" y=\"-91.3\">output:</text>\n",
       "<polyline fill=\"none\" points=\"549,-83.5 549,-129.5 \" stroke=\"black\"/>\n",
       "<text font-family=\"Times New Roman,serif\" font-size=\"14.00\" text-anchor=\"middle\" x=\"591\" y=\"-114.3\">(None, 1, 3)</text>\n",
       "<polyline fill=\"none\" points=\"549,-106.5 633,-106.5 \" stroke=\"black\"/>\n",
       "<text font-family=\"Times New Roman,serif\" font-size=\"14.00\" text-anchor=\"middle\" x=\"591\" y=\"-91.3\">(None, 3)</text>\n",
       "</g>\n",
       "<!-- 2748991775296&#45;&gt;2748991754080 -->\n",
       "<g class=\"edge\" id=\"edge4\"><title>2748991775296-&gt;2748991754080</title>\n",
       "<path d=\"M506.948,-166.366C505.629,-158.152 504.106,-148.658 502.672,-139.725\" fill=\"none\" stroke=\"black\"/>\n",
       "<polygon fill=\"black\" points=\"506.089,-138.926 501.048,-129.607 499.177,-140.035 506.089,-138.926\" stroke=\"black\"/>\n",
       "</g>\n",
       "<!-- 2748991753968 -->\n",
       "<g class=\"node\" id=\"node7\"><title>2748991753968</title>\n",
       "<polygon fill=\"none\" points=\"207,-0.5 207,-46.5 480,-46.5 480,-0.5 207,-0.5\" stroke=\"black\"/>\n",
       "<text font-family=\"Times New Roman,serif\" font-size=\"14.00\" text-anchor=\"middle\" x=\"245.5\" y=\"-19.8\">dot_1: Dot</text>\n",
       "<polyline fill=\"none\" points=\"284,-0.5 284,-46.5 \" stroke=\"black\"/>\n",
       "<text font-family=\"Times New Roman,serif\" font-size=\"14.00\" text-anchor=\"middle\" x=\"312\" y=\"-31.3\">input:</text>\n",
       "<polyline fill=\"none\" points=\"284,-23.5 340,-23.5 \" stroke=\"black\"/>\n",
       "<text font-family=\"Times New Roman,serif\" font-size=\"14.00\" text-anchor=\"middle\" x=\"312\" y=\"-8.3\">output:</text>\n",
       "<polyline fill=\"none\" points=\"340,-0.5 340,-46.5 \" stroke=\"black\"/>\n",
       "<text font-family=\"Times New Roman,serif\" font-size=\"14.00\" text-anchor=\"middle\" x=\"410\" y=\"-31.3\">[(None, 3), (None, 3)]</text>\n",
       "<polyline fill=\"none\" points=\"340,-23.5 480,-23.5 \" stroke=\"black\"/>\n",
       "<text font-family=\"Times New Roman,serif\" font-size=\"14.00\" text-anchor=\"middle\" x=\"410\" y=\"-8.3\">(None, 1)</text>\n",
       "</g>\n",
       "<!-- 2748991754136&#45;&gt;2748991753968 -->\n",
       "<g class=\"edge\" id=\"edge5\"><title>2748991754136-&gt;2748991753968</title>\n",
       "<path d=\"M232.308,-83.3664C250.945,-73.4998 273.067,-61.7881 292.652,-51.4194\" fill=\"none\" stroke=\"black\"/>\n",
       "<polygon fill=\"black\" points=\"294.542,-54.379 301.743,-46.6068 291.267,-48.1925 294.542,-54.379\" stroke=\"black\"/>\n",
       "</g>\n",
       "<!-- 2748991754080&#45;&gt;2748991753968 -->\n",
       "<g class=\"edge\" id=\"edge6\"><title>2748991754080-&gt;2748991753968</title>\n",
       "<path d=\"M455.419,-83.3664C436.575,-73.4551 414.192,-61.682 394.413,-51.2787\" fill=\"none\" stroke=\"black\"/>\n",
       "<polygon fill=\"black\" points=\"396.01,-48.1643 385.53,-46.6068 392.751,-54.3596 396.01,-48.1643\" stroke=\"black\"/>\n",
       "</g>\n",
       "</g>\n",
       "</svg>"
      ],
      "text/plain": [
       "<IPython.core.display.SVG object>"
      ]
     },
     "execution_count": 5,
     "metadata": {},
     "output_type": "execute_result"
    }
   ],
   "source": [
    "n_latent_factors = 3\n",
    "movie_input = keras.layers.Input(shape=[1],name='Movie')\n",
    "movie_embedding = keras.layers.Embedding(n_movies + 1, n_latent_factors, name='Movie-Embedding')(movie_input)\n",
    "movie_vec = keras.layers.Flatten(name='FlattenMovies')(movie_embedding)\n",
    "\n",
    "user_input = keras.layers.Input(shape=[1],name='User')\n",
    "user_vec = keras.layers.Flatten(name='FlattenUsers')(keras.layers.Embedding(n_users + 1, n_latent_factors,name='User-Embedding')(user_input))\n",
    "\n",
    "prod = keras.layers.dot([movie_vec,user_vec],axes=1)\n",
    "\n",
    "model = keras.Model([user_input, movie_input], prod)\n",
    "model.compile(optimizer=Adam(),loss= 'mean_squared_error')\n",
    "\n",
    "#visualize model\n",
    "SVG(model_to_dot(model,show_shapes=True, rankdir='HB').create(prog='dot', format='svg'))"
   ]
  },
  {
   "cell_type": "code",
   "execution_count": 6,
   "metadata": {
    "pycharm": {
     "is_executing": false
    }
   },
   "outputs": [
    {
     "name": "stdout",
     "output_type": "stream",
     "text": [
      "WARNING:tensorflow:From C:\\Users\\machine\\Anaconda3\\envs\\tf_gpu\\lib\\site-packages\\tensorflow\\python\\ops\\math_ops.py:3066: to_int32 (from tensorflow.python.ops.math_ops) is deprecated and will be removed in a future version.\n",
      "Instructions for updating:\n",
      "Use tf.cast instead.\n"
     ]
    },
    {
     "data": {
      "text/plain": [
       "Text(0, 0.5, 'Train Error')"
      ]
     },
     "execution_count": 6,
     "metadata": {},
     "output_type": "execute_result"
    },
    {
     "data": {
      "image/png": "[encoded data removed]",
      "text/plain": [
       "<Figure size 432x288 with 1 Axes>"
      ]
     },
     "metadata": {
      "needs_background": "light"
     },
     "output_type": "display_data"
    }
   ],
   "source": [
    "history = model.fit([train['userId'], train['movieId']], train.rating,batch_size=256, epochs=100, verbose=0)\n",
    "pd.Series(history.history['loss']).plot()\n",
    "plt.xlabel(\"Epoch\")\n",
    "plt.ylabel(\"Train Error\")"
   ]
  },
  {
   "cell_type": "code",
   "execution_count": 7,
   "metadata": {
    "pycharm": {
     "is_executing": false,
     "metadata": false,
     "name": "#%%\n"
    }
   },
   "outputs": [
    {
     "name": "stdout",
     "output_type": "stream",
     "text": [
      "MAE: 0.7537085470617503\n",
      "RMSE: 1.065096930840333\n"
     ]
    }
   ],
   "source": [
    "y_hat = model.predict([test.userId, test.movieId])\n",
    "y_true = test.rating\n",
    "print(\"MAE:\",mean_absolute_error(y_true,y_hat))\n",
    "print(\"RMSE:\",sqrt(mean_squared_error(y_true, y_hat)))"
   ]
  },
  {
   "cell_type": "markdown",
   "metadata": {},
   "source": [
    "# Non-negative Matrix factorisation (NNMF)\n",
    "The only change we need in the above model is adding an additional parameter in the embeddings."
   ]
  },
  {
   "cell_type": "code",
   "execution_count": 8,
   "metadata": {},
   "outputs": [],
   "source": [
    "from keras.constraints import non_neg\n",
    "n_latent_factors = 3\n",
    "movie_input = keras.layers.Input(shape=[1],name='Movie')\n",
    "movie_embedding = keras.layers.Embedding(n_movies + 1, n_latent_factors, name='NonNegMovie-Embedding', embeddings_constraint=non_neg())(movie_input)\n",
    "movie_vec = keras.layers.Flatten(name='FlattenMovies')(movie_embedding)\n",
    "\n",
    "user_input = keras.layers.Input(shape=[1],name='User')\n",
    "user_vec = keras.layers.Flatten(name='FlattenUsers')(keras.layers.Embedding(n_users + 1, n_latent_factors,name='NonNegUser-Embedding',embeddings_constraint=non_neg())(user_input))\n",
    "\n",
    "prod = keras.layers.dot([movie_vec, user_vec], axes=1)\n",
    "model = keras.Model([user_input, movie_input], prod)\n",
    "model.compile('adam', 'mean_squared_error')"
   ]
  },
  {
   "cell_type": "code",
   "execution_count": 9,
   "metadata": {},
   "outputs": [
    {
     "data": {
      "text/plain": [
       "Text(0, 0.5, 'Train Error')"
      ]
     },
     "execution_count": 9,
     "metadata": {},
     "output_type": "execute_result"
    },
    {
     "data": {
      "image/png": "[encoded data removed]",
      "text/plain": [
       "<Figure size 432x288 with 1 Axes>"
      ]
     },
     "metadata": {
      "needs_background": "light"
     },
     "output_type": "display_data"
    }
   ],
   "source": [
    "history = model.fit([train['userId'], train['movieId']], train.rating,batch_size=256, epochs=100, verbose=0)\n",
    "pd.Series(history.history['loss']).plot()\n",
    "plt.xlabel(\"Epoch\")\n",
    "plt.ylabel(\"Train Error\")"
   ]
  },
  {
   "cell_type": "code",
   "execution_count": 10,
   "metadata": {},
   "outputs": [
    {
     "name": "stdout",
     "output_type": "stream",
     "text": [
      "MAE: 0.7486510128351738\n",
      "RMSE: 1.0546762113721049\n"
     ]
    }
   ],
   "source": [
    "y_hat = model.predict([test.userId, test.movieId])\n",
    "y_true = test.rating\n",
    "print(\"MAE:\",mean_absolute_error(y_true,y_hat))\n",
    "print(\"RMSE:\",sqrt(mean_squared_error(y_true, y_hat)))"
   ]
  },
  {
   "cell_type": "markdown",
   "metadata": {
    "pycharm": {}
   },
   "source": [
    "# Embedding & Neural Network"
   ]
  },
  {
   "cell_type": "code",
   "execution_count": 19,
   "metadata": {
    "pycharm": {
     "is_executing": false,
     "metadata": false,
     "name": "#%%\n"
    }
   },
   "outputs": [
    {
     "data": {
      "image/svg+xml": [
       "<svg height=\"719pt\" viewBox=\"0.00 0.00 679.50 719.00\" width=\"680pt\" xmlns=\"http://www.w3.org/2000/svg\" xmlns:xlink=\"http://www.w3.org/1999/xlink\">\n",
       "<g class=\"graph\" id=\"graph0\" transform=\"scale(1 1) rotate(0) translate(4 715)\">\n",
       "<title>G</title>\n",
       "<polygon fill=\"white\" points=\"-4,4 -4,-715 675.5,-715 675.5,4 -4,4\" stroke=\"none\"/>\n",
       "<!-- 2753145961328 -->\n",
       "<g class=\"node\" id=\"node1\"><title>2753145961328</title>\n",
       "<polygon fill=\"none\" points=\"43,-664.5 43,-710.5 288,-710.5 288,-664.5 43,-664.5\" stroke=\"black\"/>\n",
       "<text font-family=\"Times New Roman,serif\" font-size=\"14.00\" text-anchor=\"middle\" x=\"102.5\" y=\"-683.8\">Movie: InputLayer</text>\n",
       "<polyline fill=\"none\" points=\"162,-664.5 162,-710.5 \" stroke=\"black\"/>\n",
       "<text font-family=\"Times New Roman,serif\" font-size=\"14.00\" text-anchor=\"middle\" x=\"190\" y=\"-695.3\">input:</text>\n",
       "<polyline fill=\"none\" points=\"162,-687.5 218,-687.5 \" stroke=\"black\"/>\n",
       "<text font-family=\"Times New Roman,serif\" font-size=\"14.00\" text-anchor=\"middle\" x=\"190\" y=\"-672.3\">output:</text>\n",
       "<polyline fill=\"none\" points=\"218,-664.5 218,-710.5 \" stroke=\"black\"/>\n",
       "<text font-family=\"Times New Roman,serif\" font-size=\"14.00\" text-anchor=\"middle\" x=\"253\" y=\"-695.3\">(None, 1)</text>\n",
       "<polyline fill=\"none\" points=\"218,-687.5 288,-687.5 \" stroke=\"black\"/>\n",
       "<text font-family=\"Times New Roman,serif\" font-size=\"14.00\" text-anchor=\"middle\" x=\"253\" y=\"-672.3\">(None, 1)</text>\n",
       "</g>\n",
       "<!-- 2753145961440 -->\n",
       "<g class=\"node\" id=\"node3\"><title>2753145961440</title>\n",
       "<polygon fill=\"none\" points=\"0,-581.5 0,-627.5 331,-627.5 331,-581.5 0,-581.5\" stroke=\"black\"/>\n",
       "<text font-family=\"Times New Roman,serif\" font-size=\"14.00\" text-anchor=\"middle\" x=\"95.5\" y=\"-600.8\">Movie-Embedding: Embedding</text>\n",
       "<polyline fill=\"none\" points=\"191,-581.5 191,-627.5 \" stroke=\"black\"/>\n",
       "<text font-family=\"Times New Roman,serif\" font-size=\"14.00\" text-anchor=\"middle\" x=\"219\" y=\"-612.3\">input:</text>\n",
       "<polyline fill=\"none\" points=\"191,-604.5 247,-604.5 \" stroke=\"black\"/>\n",
       "<text font-family=\"Times New Roman,serif\" font-size=\"14.00\" text-anchor=\"middle\" x=\"219\" y=\"-589.3\">output:</text>\n",
       "<polyline fill=\"none\" points=\"247,-581.5 247,-627.5 \" stroke=\"black\"/>\n",
       "<text font-family=\"Times New Roman,serif\" font-size=\"14.00\" text-anchor=\"middle\" x=\"289\" y=\"-612.3\">(None, 1)</text>\n",
       "<polyline fill=\"none\" points=\"247,-604.5 331,-604.5 \" stroke=\"black\"/>\n",
       "<text font-family=\"Times New Roman,serif\" font-size=\"14.00\" text-anchor=\"middle\" x=\"289\" y=\"-589.3\">(None, 1, 8)</text>\n",
       "</g>\n",
       "<!-- 2753145961328&#45;&gt;2753145961440 -->\n",
       "<g class=\"edge\" id=\"edge1\"><title>2753145961328-&gt;2753145961440</title>\n",
       "<path d=\"M165.5,-664.366C165.5,-656.152 165.5,-646.658 165.5,-637.725\" fill=\"none\" stroke=\"black\"/>\n",
       "<polygon fill=\"black\" points=\"169,-637.607 165.5,-627.607 162,-637.607 169,-637.607\" stroke=\"black\"/>\n",
       "</g>\n",
       "<!-- 2753145962392 -->\n",
       "<g class=\"node\" id=\"node2\"><title>2753145962392</title>\n",
       "<polygon fill=\"none\" points=\"392.5,-664.5 392.5,-710.5 628.5,-710.5 628.5,-664.5 392.5,-664.5\" stroke=\"black\"/>\n",
       "<text font-family=\"Times New Roman,serif\" font-size=\"14.00\" text-anchor=\"middle\" x=\"447.5\" y=\"-683.8\">User: InputLayer</text>\n",
       "<polyline fill=\"none\" points=\"502.5,-664.5 502.5,-710.5 \" stroke=\"black\"/>\n",
       "<text font-family=\"Times New Roman,serif\" font-size=\"14.00\" text-anchor=\"middle\" x=\"530.5\" y=\"-695.3\">input:</text>\n",
       "<polyline fill=\"none\" points=\"502.5,-687.5 558.5,-687.5 \" stroke=\"black\"/>\n",
       "<text font-family=\"Times New Roman,serif\" font-size=\"14.00\" text-anchor=\"middle\" x=\"530.5\" y=\"-672.3\">output:</text>\n",
       "<polyline fill=\"none\" points=\"558.5,-664.5 558.5,-710.5 \" stroke=\"black\"/>\n",
       "<text font-family=\"Times New Roman,serif\" font-size=\"14.00\" text-anchor=\"middle\" x=\"593.5\" y=\"-695.3\">(None, 1)</text>\n",
       "<polyline fill=\"none\" points=\"558.5,-687.5 628.5,-687.5 \" stroke=\"black\"/>\n",
       "<text font-family=\"Times New Roman,serif\" font-size=\"14.00\" text-anchor=\"middle\" x=\"593.5\" y=\"-672.3\">(None, 1)</text>\n",
       "</g>\n",
       "<!-- 2753145961552 -->\n",
       "<g class=\"node\" id=\"node4\"><title>2753145961552</title>\n",
       "<polygon fill=\"none\" points=\"349.5,-581.5 349.5,-627.5 671.5,-627.5 671.5,-581.5 349.5,-581.5\" stroke=\"black\"/>\n",
       "<text font-family=\"Times New Roman,serif\" font-size=\"14.00\" text-anchor=\"middle\" x=\"440.5\" y=\"-600.8\">User-Embedding: Embedding</text>\n",
       "<polyline fill=\"none\" points=\"531.5,-581.5 531.5,-627.5 \" stroke=\"black\"/>\n",
       "<text font-family=\"Times New Roman,serif\" font-size=\"14.00\" text-anchor=\"middle\" x=\"559.5\" y=\"-612.3\">input:</text>\n",
       "<polyline fill=\"none\" points=\"531.5,-604.5 587.5,-604.5 \" stroke=\"black\"/>\n",
       "<text font-family=\"Times New Roman,serif\" font-size=\"14.00\" text-anchor=\"middle\" x=\"559.5\" y=\"-589.3\">output:</text>\n",
       "<polyline fill=\"none\" points=\"587.5,-581.5 587.5,-627.5 \" stroke=\"black\"/>\n",
       "<text font-family=\"Times New Roman,serif\" font-size=\"14.00\" text-anchor=\"middle\" x=\"629.5\" y=\"-612.3\">(None, 1)</text>\n",
       "<polyline fill=\"none\" points=\"587.5,-604.5 671.5,-604.5 \" stroke=\"black\"/>\n",
       "<text font-family=\"Times New Roman,serif\" font-size=\"14.00\" text-anchor=\"middle\" x=\"629.5\" y=\"-589.3\">(None, 1, 5)</text>\n",
       "</g>\n",
       "<!-- 2753145962392&#45;&gt;2753145961552 -->\n",
       "<g class=\"edge\" id=\"edge2\"><title>2753145962392-&gt;2753145961552</title>\n",
       "<path d=\"M510.5,-664.366C510.5,-656.152 510.5,-646.658 510.5,-637.725\" fill=\"none\" stroke=\"black\"/>\n",
       "<polygon fill=\"black\" points=\"514,-637.607 510.5,-627.607 507,-637.607 514,-637.607\" stroke=\"black\"/>\n",
       "</g>\n",
       "<!-- 2753145962112 -->\n",
       "<g class=\"node\" id=\"node5\"><title>2753145962112</title>\n",
       "<polygon fill=\"none\" points=\"50.5,-498.5 50.5,-544.5 330.5,-544.5 330.5,-498.5 50.5,-498.5\" stroke=\"black\"/>\n",
       "<text font-family=\"Times New Roman,serif\" font-size=\"14.00\" text-anchor=\"middle\" x=\"120.5\" y=\"-517.8\">FlattenMovies: Flatten</text>\n",
       "<polyline fill=\"none\" points=\"190.5,-498.5 190.5,-544.5 \" stroke=\"black\"/>\n",
       "<text font-family=\"Times New Roman,serif\" font-size=\"14.00\" text-anchor=\"middle\" x=\"218.5\" y=\"-529.3\">input:</text>\n",
       "<polyline fill=\"none\" points=\"190.5,-521.5 246.5,-521.5 \" stroke=\"black\"/>\n",
       "<text font-family=\"Times New Roman,serif\" font-size=\"14.00\" text-anchor=\"middle\" x=\"218.5\" y=\"-506.3\">output:</text>\n",
       "<polyline fill=\"none\" points=\"246.5,-498.5 246.5,-544.5 \" stroke=\"black\"/>\n",
       "<text font-family=\"Times New Roman,serif\" font-size=\"14.00\" text-anchor=\"middle\" x=\"288.5\" y=\"-529.3\">(None, 1, 8)</text>\n",
       "<polyline fill=\"none\" points=\"246.5,-521.5 330.5,-521.5 \" stroke=\"black\"/>\n",
       "<text font-family=\"Times New Roman,serif\" font-size=\"14.00\" text-anchor=\"middle\" x=\"288.5\" y=\"-506.3\">(None, 8)</text>\n",
       "</g>\n",
       "<!-- 2753145961440&#45;&gt;2753145962112 -->\n",
       "<g class=\"edge\" id=\"edge3\"><title>2753145961440-&gt;2753145962112</title>\n",
       "<path d=\"M172.331,-581.366C174.894,-573.062 177.861,-563.451 180.644,-554.434\" fill=\"none\" stroke=\"black\"/>\n",
       "<polygon fill=\"black\" points=\"184.072,-555.194 183.677,-544.607 177.383,-553.13 184.072,-555.194\" stroke=\"black\"/>\n",
       "</g>\n",
       "<!-- 2753145961496 -->\n",
       "<g class=\"node\" id=\"node6\"><title>2753145961496</title>\n",
       "<polygon fill=\"none\" points=\"362,-498.5 362,-544.5 633,-544.5 633,-498.5 362,-498.5\" stroke=\"black\"/>\n",
       "<text font-family=\"Times New Roman,serif\" font-size=\"14.00\" text-anchor=\"middle\" x=\"427.5\" y=\"-517.8\">FlattenUsers: Flatten</text>\n",
       "<polyline fill=\"none\" points=\"493,-498.5 493,-544.5 \" stroke=\"black\"/>\n",
       "<text font-family=\"Times New Roman,serif\" font-size=\"14.00\" text-anchor=\"middle\" x=\"521\" y=\"-529.3\">input:</text>\n",
       "<polyline fill=\"none\" points=\"493,-521.5 549,-521.5 \" stroke=\"black\"/>\n",
       "<text font-family=\"Times New Roman,serif\" font-size=\"14.00\" text-anchor=\"middle\" x=\"521\" y=\"-506.3\">output:</text>\n",
       "<polyline fill=\"none\" points=\"549,-498.5 549,-544.5 \" stroke=\"black\"/>\n",
       "<text font-family=\"Times New Roman,serif\" font-size=\"14.00\" text-anchor=\"middle\" x=\"591\" y=\"-529.3\">(None, 1, 5)</text>\n",
       "<polyline fill=\"none\" points=\"549,-521.5 633,-521.5 \" stroke=\"black\"/>\n",
       "<text font-family=\"Times New Roman,serif\" font-size=\"14.00\" text-anchor=\"middle\" x=\"591\" y=\"-506.3\">(None, 5)</text>\n",
       "</g>\n",
       "<!-- 2753145961552&#45;&gt;2753145961496 -->\n",
       "<g class=\"edge\" id=\"edge4\"><title>2753145961552-&gt;2753145961496</title>\n",
       "<path d=\"M506.948,-581.366C505.629,-573.152 504.106,-563.658 502.672,-554.725\" fill=\"none\" stroke=\"black\"/>\n",
       "<polygon fill=\"black\" points=\"506.089,-553.926 501.048,-544.607 499.177,-555.035 506.089,-553.926\" stroke=\"black\"/>\n",
       "</g>\n",
       "<!-- 2753145962224 -->\n",
       "<g class=\"node\" id=\"node7\"><title>2753145962224</title>\n",
       "<polygon fill=\"none\" points=\"78.5,-415.5 78.5,-461.5 334.5,-461.5 334.5,-415.5 78.5,-415.5\" stroke=\"black\"/>\n",
       "<text font-family=\"Times New Roman,serif\" font-size=\"14.00\" text-anchor=\"middle\" x=\"143.5\" y=\"-434.8\">dropout_7: Dropout</text>\n",
       "<polyline fill=\"none\" points=\"208.5,-415.5 208.5,-461.5 \" stroke=\"black\"/>\n",
       "<text font-family=\"Times New Roman,serif\" font-size=\"14.00\" text-anchor=\"middle\" x=\"236.5\" y=\"-446.3\">input:</text>\n",
       "<polyline fill=\"none\" points=\"208.5,-438.5 264.5,-438.5 \" stroke=\"black\"/>\n",
       "<text font-family=\"Times New Roman,serif\" font-size=\"14.00\" text-anchor=\"middle\" x=\"236.5\" y=\"-423.3\">output:</text>\n",
       "<polyline fill=\"none\" points=\"264.5,-415.5 264.5,-461.5 \" stroke=\"black\"/>\n",
       "<text font-family=\"Times New Roman,serif\" font-size=\"14.00\" text-anchor=\"middle\" x=\"299.5\" y=\"-446.3\">(None, 8)</text>\n",
       "<polyline fill=\"none\" points=\"264.5,-438.5 334.5,-438.5 \" stroke=\"black\"/>\n",
       "<text font-family=\"Times New Roman,serif\" font-size=\"14.00\" text-anchor=\"middle\" x=\"299.5\" y=\"-423.3\">(None, 8)</text>\n",
       "</g>\n",
       "<!-- 2753145962112&#45;&gt;2753145962224 -->\n",
       "<g class=\"edge\" id=\"edge5\"><title>2753145962112-&gt;2753145962224</title>\n",
       "<path d=\"M194.872,-498.366C196.512,-490.062 198.411,-480.451 200.192,-471.434\" fill=\"none\" stroke=\"black\"/>\n",
       "<polygon fill=\"black\" points=\"203.629,-472.096 202.133,-461.607 196.762,-470.739 203.629,-472.096\" stroke=\"black\"/>\n",
       "</g>\n",
       "<!-- 2753145962280 -->\n",
       "<g class=\"node\" id=\"node8\"><title>2753145962280</title>\n",
       "<polygon fill=\"none\" points=\"360.5,-415.5 360.5,-461.5 616.5,-461.5 616.5,-415.5 360.5,-415.5\" stroke=\"black\"/>\n",
       "<text font-family=\"Times New Roman,serif\" font-size=\"14.00\" text-anchor=\"middle\" x=\"425.5\" y=\"-434.8\">dropout_8: Dropout</text>\n",
       "<polyline fill=\"none\" points=\"490.5,-415.5 490.5,-461.5 \" stroke=\"black\"/>\n",
       "<text font-family=\"Times New Roman,serif\" font-size=\"14.00\" text-anchor=\"middle\" x=\"518.5\" y=\"-446.3\">input:</text>\n",
       "<polyline fill=\"none\" points=\"490.5,-438.5 546.5,-438.5 \" stroke=\"black\"/>\n",
       "<text font-family=\"Times New Roman,serif\" font-size=\"14.00\" text-anchor=\"middle\" x=\"518.5\" y=\"-423.3\">output:</text>\n",
       "<polyline fill=\"none\" points=\"546.5,-415.5 546.5,-461.5 \" stroke=\"black\"/>\n",
       "<text font-family=\"Times New Roman,serif\" font-size=\"14.00\" text-anchor=\"middle\" x=\"581.5\" y=\"-446.3\">(None, 5)</text>\n",
       "<polyline fill=\"none\" points=\"546.5,-438.5 616.5,-438.5 \" stroke=\"black\"/>\n",
       "<text font-family=\"Times New Roman,serif\" font-size=\"14.00\" text-anchor=\"middle\" x=\"581.5\" y=\"-423.3\">(None, 5)</text>\n",
       "</g>\n",
       "<!-- 2753145961496&#45;&gt;2753145962280 -->\n",
       "<g class=\"edge\" id=\"edge6\"><title>2753145961496-&gt;2753145962280</title>\n",
       "<path d=\"M495.041,-498.366C494.128,-490.152 493.073,-480.658 492.081,-471.725\" fill=\"none\" stroke=\"black\"/>\n",
       "<polygon fill=\"black\" points=\"495.539,-471.159 490.956,-461.607 488.582,-471.932 495.539,-471.159\" stroke=\"black\"/>\n",
       "</g>\n",
       "<!-- 2753145962624 -->\n",
       "<g class=\"node\" id=\"node9\"><title>2753145962624</title>\n",
       "<polygon fill=\"none\" points=\"163,-332.5 163,-378.5 532,-378.5 532,-332.5 163,-332.5\" stroke=\"black\"/>\n",
       "<text font-family=\"Times New Roman,serif\" font-size=\"14.00\" text-anchor=\"middle\" x=\"249.5\" y=\"-351.8\">concatenate_3: Concatenate</text>\n",
       "<polyline fill=\"none\" points=\"336,-332.5 336,-378.5 \" stroke=\"black\"/>\n",
       "<text font-family=\"Times New Roman,serif\" font-size=\"14.00\" text-anchor=\"middle\" x=\"364\" y=\"-363.3\">input:</text>\n",
       "<polyline fill=\"none\" points=\"336,-355.5 392,-355.5 \" stroke=\"black\"/>\n",
       "<text font-family=\"Times New Roman,serif\" font-size=\"14.00\" text-anchor=\"middle\" x=\"364\" y=\"-340.3\">output:</text>\n",
       "<polyline fill=\"none\" points=\"392,-332.5 392,-378.5 \" stroke=\"black\"/>\n",
       "<text font-family=\"Times New Roman,serif\" font-size=\"14.00\" text-anchor=\"middle\" x=\"462\" y=\"-363.3\">[(None, 8), (None, 5)]</text>\n",
       "<polyline fill=\"none\" points=\"392,-355.5 532,-355.5 \" stroke=\"black\"/>\n",
       "<text font-family=\"Times New Roman,serif\" font-size=\"14.00\" text-anchor=\"middle\" x=\"462\" y=\"-340.3\">(None, 13)</text>\n",
       "</g>\n",
       "<!-- 2753145962224&#45;&gt;2753145962624 -->\n",
       "<g class=\"edge\" id=\"edge7\"><title>2753145962224-&gt;2753145962624</title>\n",
       "<path d=\"M245.029,-415.366C261.971,-405.634 282.038,-394.106 299.904,-383.842\" fill=\"none\" stroke=\"black\"/>\n",
       "<polygon fill=\"black\" points=\"302.09,-386.623 309.018,-378.607 298.603,-380.553 302.09,-386.623\" stroke=\"black\"/>\n",
       "</g>\n",
       "<!-- 2753145962280&#45;&gt;2753145962624 -->\n",
       "<g class=\"edge\" id=\"edge8\"><title>2753145962280-&gt;2753145962624</title>\n",
       "<path d=\"M449.971,-415.366C433.029,-405.634 412.962,-394.106 395.096,-383.842\" fill=\"none\" stroke=\"black\"/>\n",
       "<polygon fill=\"black\" points=\"396.397,-380.553 385.982,-378.607 392.91,-386.623 396.397,-380.553\" stroke=\"black\"/>\n",
       "</g>\n",
       "<!-- 2753146552840 -->\n",
       "<g class=\"node\" id=\"node10\"><title>2753146552840</title>\n",
       "<polygon fill=\"none\" points=\"199,-249.5 199,-295.5 496,-295.5 496,-249.5 199,-249.5\" stroke=\"black\"/>\n",
       "<text font-family=\"Times New Roman,serif\" font-size=\"14.00\" text-anchor=\"middle\" x=\"278\" y=\"-268.8\">FullyConnected-1: Dense</text>\n",
       "<polyline fill=\"none\" points=\"357,-249.5 357,-295.5 \" stroke=\"black\"/>\n",
       "<text font-family=\"Times New Roman,serif\" font-size=\"14.00\" text-anchor=\"middle\" x=\"385\" y=\"-280.3\">input:</text>\n",
       "<polyline fill=\"none\" points=\"357,-272.5 413,-272.5 \" stroke=\"black\"/>\n",
       "<text font-family=\"Times New Roman,serif\" font-size=\"14.00\" text-anchor=\"middle\" x=\"385\" y=\"-257.3\">output:</text>\n",
       "<polyline fill=\"none\" points=\"413,-249.5 413,-295.5 \" stroke=\"black\"/>\n",
       "<text font-family=\"Times New Roman,serif\" font-size=\"14.00\" text-anchor=\"middle\" x=\"454.5\" y=\"-280.3\">(None, 13)</text>\n",
       "<polyline fill=\"none\" points=\"413,-272.5 496,-272.5 \" stroke=\"black\"/>\n",
       "<text font-family=\"Times New Roman,serif\" font-size=\"14.00\" text-anchor=\"middle\" x=\"454.5\" y=\"-257.3\">(None, 100)</text>\n",
       "</g>\n",
       "<!-- 2753145962624&#45;&gt;2753146552840 -->\n",
       "<g class=\"edge\" id=\"edge9\"><title>2753145962624-&gt;2753146552840</title>\n",
       "<path d=\"M347.5,-332.366C347.5,-324.152 347.5,-314.658 347.5,-305.725\" fill=\"none\" stroke=\"black\"/>\n",
       "<polygon fill=\"black\" points=\"351,-305.607 347.5,-295.607 344,-305.607 351,-305.607\" stroke=\"black\"/>\n",
       "</g>\n",
       "<!-- 2753146860768 -->\n",
       "<g class=\"node\" id=\"node11\"><title>2753146860768</title>\n",
       "<polygon fill=\"none\" points=\"199,-166.5 199,-212.5 496,-212.5 496,-166.5 199,-166.5\" stroke=\"black\"/>\n",
       "<text font-family=\"Times New Roman,serif\" font-size=\"14.00\" text-anchor=\"middle\" x=\"278\" y=\"-185.8\">FullyConnected-2: Dense</text>\n",
       "<polyline fill=\"none\" points=\"357,-166.5 357,-212.5 \" stroke=\"black\"/>\n",
       "<text font-family=\"Times New Roman,serif\" font-size=\"14.00\" text-anchor=\"middle\" x=\"385\" y=\"-197.3\">input:</text>\n",
       "<polyline fill=\"none\" points=\"357,-189.5 413,-189.5 \" stroke=\"black\"/>\n",
       "<text font-family=\"Times New Roman,serif\" font-size=\"14.00\" text-anchor=\"middle\" x=\"385\" y=\"-174.3\">output:</text>\n",
       "<polyline fill=\"none\" points=\"413,-166.5 413,-212.5 \" stroke=\"black\"/>\n",
       "<text font-family=\"Times New Roman,serif\" font-size=\"14.00\" text-anchor=\"middle\" x=\"454.5\" y=\"-197.3\">(None, 100)</text>\n",
       "<polyline fill=\"none\" points=\"413,-189.5 496,-189.5 \" stroke=\"black\"/>\n",
       "<text font-family=\"Times New Roman,serif\" font-size=\"14.00\" text-anchor=\"middle\" x=\"454.5\" y=\"-174.3\">(None, 50)</text>\n",
       "</g>\n",
       "<!-- 2753146552840&#45;&gt;2753146860768 -->\n",
       "<g class=\"edge\" id=\"edge10\"><title>2753146552840-&gt;2753146860768</title>\n",
       "<path d=\"M347.5,-249.366C347.5,-241.152 347.5,-231.658 347.5,-222.725\" fill=\"none\" stroke=\"black\"/>\n",
       "<polygon fill=\"black\" points=\"351,-222.607 347.5,-212.607 344,-222.607 351,-222.607\" stroke=\"black\"/>\n",
       "</g>\n",
       "<!-- 2753147113032 -->\n",
       "<g class=\"node\" id=\"node12\"><title>2753147113032</title>\n",
       "<polygon fill=\"none\" points=\"202,-83.5 202,-129.5 493,-129.5 493,-83.5 202,-83.5\" stroke=\"black\"/>\n",
       "<text font-family=\"Times New Roman,serif\" font-size=\"14.00\" text-anchor=\"middle\" x=\"281\" y=\"-102.8\">FullyConnected-3: Dense</text>\n",
       "<polyline fill=\"none\" points=\"360,-83.5 360,-129.5 \" stroke=\"black\"/>\n",
       "<text font-family=\"Times New Roman,serif\" font-size=\"14.00\" text-anchor=\"middle\" x=\"388\" y=\"-114.3\">input:</text>\n",
       "<polyline fill=\"none\" points=\"360,-106.5 416,-106.5 \" stroke=\"black\"/>\n",
       "<text font-family=\"Times New Roman,serif\" font-size=\"14.00\" text-anchor=\"middle\" x=\"388\" y=\"-91.3\">output:</text>\n",
       "<polyline fill=\"none\" points=\"416,-83.5 416,-129.5 \" stroke=\"black\"/>\n",
       "<text font-family=\"Times New Roman,serif\" font-size=\"14.00\" text-anchor=\"middle\" x=\"454.5\" y=\"-114.3\">(None, 50)</text>\n",
       "<polyline fill=\"none\" points=\"416,-106.5 493,-106.5 \" stroke=\"black\"/>\n",
       "<text font-family=\"Times New Roman,serif\" font-size=\"14.00\" text-anchor=\"middle\" x=\"454.5\" y=\"-91.3\">(None, 20)</text>\n",
       "</g>\n",
       "<!-- 2753146860768&#45;&gt;2753147113032 -->\n",
       "<g class=\"edge\" id=\"edge11\"><title>2753146860768-&gt;2753147113032</title>\n",
       "<path d=\"M347.5,-166.366C347.5,-158.152 347.5,-148.658 347.5,-139.725\" fill=\"none\" stroke=\"black\"/>\n",
       "<polygon fill=\"black\" points=\"351,-139.607 347.5,-129.607 344,-139.607 351,-139.607\" stroke=\"black\"/>\n",
       "</g>\n",
       "<!-- 2753147112864 -->\n",
       "<g class=\"node\" id=\"node13\"><title>2753147112864</title>\n",
       "<polygon fill=\"none\" points=\"223.5,-0.5 223.5,-46.5 471.5,-46.5 471.5,-0.5 223.5,-0.5\" stroke=\"black\"/>\n",
       "<text font-family=\"Times New Roman,serif\" font-size=\"14.00\" text-anchor=\"middle\" x=\"281\" y=\"-19.8\">Activation: Dense</text>\n",
       "<polyline fill=\"none\" points=\"338.5,-0.5 338.5,-46.5 \" stroke=\"black\"/>\n",
       "<text font-family=\"Times New Roman,serif\" font-size=\"14.00\" text-anchor=\"middle\" x=\"366.5\" y=\"-31.3\">input:</text>\n",
       "<polyline fill=\"none\" points=\"338.5,-23.5 394.5,-23.5 \" stroke=\"black\"/>\n",
       "<text font-family=\"Times New Roman,serif\" font-size=\"14.00\" text-anchor=\"middle\" x=\"366.5\" y=\"-8.3\">output:</text>\n",
       "<polyline fill=\"none\" points=\"394.5,-0.5 394.5,-46.5 \" stroke=\"black\"/>\n",
       "<text font-family=\"Times New Roman,serif\" font-size=\"14.00\" text-anchor=\"middle\" x=\"433\" y=\"-31.3\">(None, 20)</text>\n",
       "<polyline fill=\"none\" points=\"394.5,-23.5 471.5,-23.5 \" stroke=\"black\"/>\n",
       "<text font-family=\"Times New Roman,serif\" font-size=\"14.00\" text-anchor=\"middle\" x=\"433\" y=\"-8.3\">(None, 1)</text>\n",
       "</g>\n",
       "<!-- 2753147113032&#45;&gt;2753147112864 -->\n",
       "<g class=\"edge\" id=\"edge12\"><title>2753147113032-&gt;2753147112864</title>\n",
       "<path d=\"M347.5,-83.3664C347.5,-75.1516 347.5,-65.6579 347.5,-56.7252\" fill=\"none\" stroke=\"black\"/>\n",
       "<polygon fill=\"black\" points=\"351,-56.6068 347.5,-46.6068 344,-56.6069 351,-56.6068\" stroke=\"black\"/>\n",
       "</g>\n",
       "</g>\n",
       "</svg>"
      ],
      "text/plain": [
       "<IPython.core.display.SVG object>"
      ]
     },
     "execution_count": 19,
     "metadata": {},
     "output_type": "execute_result"
    }
   ],
   "source": [
    "n_latent_factors_user = 5\n",
    "n_latent_factors_movie = 8\n",
    "\n",
    "movie_input = keras.layers.Input(shape=[1],name='Movie')\n",
    "movie_embedding = keras.layers.Embedding(n_movies + 1, n_latent_factors_movie, name='Movie-Embedding')(movie_input)\n",
    "movie_vec = keras.layers.Flatten(name='FlattenMovies')(movie_embedding)\n",
    "movie_vec = keras.layers.Dropout(0.5)(movie_vec)\n",
    "\n",
    "\n",
    "user_input = keras.layers.Input(shape=[1],name='User')\n",
    "user_vec = keras.layers.Flatten(name='FlattenUsers')(keras.layers.Embedding(n_users + 1, n_latent_factors_user,name='User-Embedding')(user_input))\n",
    "user_vec = keras.layers.Dropout(0.5)(user_vec)\n",
    "\n",
    "\n",
    "concat = keras.layers.concatenate([movie_vec, user_vec])\n",
    "concat_dropout = keras.layers.Dropout(0.2)(concat)\n",
    "dense = keras.layers.Dense(200,name='FullyConnected')(concat)\n",
    "dropout_1 = keras.layers.Dropout(0.2,name='Dropout')(dense)\n",
    "dense_2 = keras.layers.Dense(100,name='FullyConnected-1')(concat)\n",
    "dropout_2 = keras.layers.Dropout(0.2,name='Dropout')(dense_2)\n",
    "dense_3 = keras.layers.Dense(50,name='FullyConnected-2')(dense_2)\n",
    "dropout_3 = keras.layers.Dropout(0.2,name='Dropout')(dense_3)\n",
    "dense_4 = keras.layers.Dense(20,name='FullyConnected-3', activation='relu')(dense_3)\n",
    "\n",
    "\n",
    "result = keras.layers.Dense(1, activation='relu',name='Activation')(dense_4)\n",
    "model = keras.Model([user_input, movie_input], result)\n",
    "model.compile(optimizer=Adam(lr=0.001),loss= 'mean_squared_error')\n",
    "\n",
    "#visualize model\n",
    "SVG(model_to_dot(model,  show_shapes=True, rankdir='HB').create(prog='dot', format='svg'))"
   ]
  },
  {
   "cell_type": "code",
   "execution_count": 12,
   "metadata": {
    "pycharm": {
     "is_executing": false,
     "metadata": false,
     "name": "#%%\n"
    }
   },
   "outputs": [
    {
     "data": {
      "text/plain": [
       "Text(0, 0.5, 'Train Error')"
      ]
     },
     "execution_count": 12,
     "metadata": {},
     "output_type": "execute_result"
    },
    {
     "data": {
      "image/png": "[encoded data removed]",
      "text/plain": [
       "<Figure size 432x288 with 1 Axes>"
      ]
     },
     "metadata": {
      "needs_background": "light"
     },
     "output_type": "display_data"
    }
   ],
   "source": [
    "history = model.fit([train['userId'], train['movieId']], train.rating,batch_size=256, epochs=100, verbose=0)\n",
    "pd.Series(history.history['loss']).plot()\n",
    "plt.xlabel(\"Epoch\")\n",
    "plt.ylabel(\"Train Error\")"
   ]
  },
  {
   "cell_type": "code",
   "execution_count": 13,
   "metadata": {
    "pycharm": {
     "is_executing": false,
     "metadata": false,
     "name": "#%%\n"
    }
   },
   "outputs": [
    {
     "name": "stdout",
     "output_type": "stream",
     "text": [
      "MAE: 0.6580454582782171\n",
      "RMSE: 0.88710439128024\n"
     ]
    }
   ],
   "source": [
    "y_hat = model.predict([test.userId, test.movieId])\n",
    "y_true = test.rating\n",
    "\n",
    "print(\"MAE:\",mean_absolute_error(y_true,y_hat))\n",
    "print(\"RMSE:\",sqrt(mean_squared_error(y_true, y_hat)))"
   ]
  },
  {
   "cell_type": "markdown",
   "metadata": {
    "pycharm": {
     "is_executing": false,
     "name": "#%% md\n"
    }
   },
   "source": [
    "# Adding Genre data to the network\n",
    "<br>\n",
    "Create one-hot encoding for Genres\n"
   ]
  },
  {
   "cell_type": "code",
   "execution_count": 14,
   "metadata": {
    "pycharm": {
     "is_executing": false,
     "metadata": false,
     "name": "#%%\n"
    }
   },
   "outputs": [
    {
     "name": "stdout",
     "output_type": "stream",
     "text": [
      "   userId  movieId  rating             title  \\\n",
      "0       0        0     4.0  Toy Story (1995)   \n",
      "1       4        0     4.0  Toy Story (1995)   \n",
      "2       6        0     4.5  Toy Story (1995)   \n",
      "3      14        0     2.5  Toy Story (1995)   \n",
      "4      16        0     4.5  Toy Story (1995)   \n",
      "\n",
      "                                              genres  \n",
      "0  [Adventure, Animation, Children, Comedy, Fantasy]  \n",
      "1  [Adventure, Animation, Children, Comedy, Fantasy]  \n",
      "2  [Adventure, Animation, Children, Comedy, Fantasy]  \n",
      "3  [Adventure, Animation, Children, Comedy, Fantasy]  \n",
      "4  [Adventure, Animation, Children, Comedy, Fantasy]  \n",
      "(100836, 20)\n"
     ]
    }
   ],
   "source": [
    "ratings['genres'] = ratings.genres.apply(lambda x: x.split(\"|\"))\n",
    "movies['genres'] = movies.genres.apply(lambda x: x.split(\"|\"))\n",
    "\n",
    "one_hot = MultiLabelBinarizer()\n",
    "one_hot.fit(movies['genres'])\n",
    "genres = one_hot.transform(ratings['genres'])\n",
    "print(ratings.head())\n",
    "print(genres.shape)"
   ]
  },
  {
   "cell_type": "markdown",
   "metadata": {
    "pycharm": {
     "is_executing": false,
     "metadata": false,
     "name": "#%% md\n"
    }
   },
   "source": [
    "The total genres that the encoder used were 20. <br>\n",
    "With this way we generate a (n_movies, 20) matrix having ones on genres that a specific movie has."
   ]
  },
  {
   "cell_type": "markdown",
   "metadata": {
    "pycharm": {
     "metadata": false,
     "name": "#%% md\n"
    }
   },
   "source": [
    "Split the dataset taking into consideration that we also need to split the genres array"
   ]
  },
  {
   "cell_type": "code",
   "execution_count": 15,
   "metadata": {
    "pycharm": {
     "metadata": false,
     "name": "#%%\n"
    }
   },
   "outputs": [],
   "source": [
    "train, test ,genres_train, genres_test = train_test_split(ratings,genres, test_size=0.05)"
   ]
  },
  {
   "cell_type": "code",
   "execution_count": 16,
   "metadata": {
    "pycharm": {
     "is_executing": false,
     "metadata": false,
     "name": "#%% \n"
    }
   },
   "outputs": [
    {
     "data": {
      "image/svg+xml": [
       "<svg height=\"719pt\" viewBox=\"0.00 0.00 873.00 719.00\" width=\"873pt\" xmlns=\"http://www.w3.org/2000/svg\" xmlns:xlink=\"http://www.w3.org/1999/xlink\">\n",
       "<g class=\"graph\" id=\"graph0\" transform=\"scale(1 1) rotate(0) translate(4 715)\">\n",
       "<title>G</title>\n",
       "<polygon fill=\"white\" points=\"-4,4 -4,-715 869,-715 869,4 -4,4\" stroke=\"none\"/>\n",
       "<!-- 2748986681832 -->\n",
       "<g class=\"node\" id=\"node1\"><title>2748986681832</title>\n",
       "<polygon fill=\"none\" points=\"43,-664.5 43,-710.5 288,-710.5 288,-664.5 43,-664.5\" stroke=\"black\"/>\n",
       "<text font-family=\"Times New Roman,serif\" font-size=\"14.00\" text-anchor=\"middle\" x=\"102.5\" y=\"-683.8\">Movie: InputLayer</text>\n",
       "<polyline fill=\"none\" points=\"162,-664.5 162,-710.5 \" stroke=\"black\"/>\n",
       "<text font-family=\"Times New Roman,serif\" font-size=\"14.00\" text-anchor=\"middle\" x=\"190\" y=\"-695.3\">input:</text>\n",
       "<polyline fill=\"none\" points=\"162,-687.5 218,-687.5 \" stroke=\"black\"/>\n",
       "<text font-family=\"Times New Roman,serif\" font-size=\"14.00\" text-anchor=\"middle\" x=\"190\" y=\"-672.3\">output:</text>\n",
       "<polyline fill=\"none\" points=\"218,-664.5 218,-710.5 \" stroke=\"black\"/>\n",
       "<text font-family=\"Times New Roman,serif\" font-size=\"14.00\" text-anchor=\"middle\" x=\"253\" y=\"-695.3\">(None, 1)</text>\n",
       "<polyline fill=\"none\" points=\"218,-687.5 288,-687.5 \" stroke=\"black\"/>\n",
       "<text font-family=\"Times New Roman,serif\" font-size=\"14.00\" text-anchor=\"middle\" x=\"253\" y=\"-672.3\">(None, 1)</text>\n",
       "</g>\n",
       "<!-- 2748986681944 -->\n",
       "<g class=\"node\" id=\"node3\"><title>2748986681944</title>\n",
       "<polygon fill=\"none\" points=\"0,-581.5 0,-627.5 331,-627.5 331,-581.5 0,-581.5\" stroke=\"black\"/>\n",
       "<text font-family=\"Times New Roman,serif\" font-size=\"14.00\" text-anchor=\"middle\" x=\"95.5\" y=\"-600.8\">Movie-Embedding: Embedding</text>\n",
       "<polyline fill=\"none\" points=\"191,-581.5 191,-627.5 \" stroke=\"black\"/>\n",
       "<text font-family=\"Times New Roman,serif\" font-size=\"14.00\" text-anchor=\"middle\" x=\"219\" y=\"-612.3\">input:</text>\n",
       "<polyline fill=\"none\" points=\"191,-604.5 247,-604.5 \" stroke=\"black\"/>\n",
       "<text font-family=\"Times New Roman,serif\" font-size=\"14.00\" text-anchor=\"middle\" x=\"219\" y=\"-589.3\">output:</text>\n",
       "<polyline fill=\"none\" points=\"247,-581.5 247,-627.5 \" stroke=\"black\"/>\n",
       "<text font-family=\"Times New Roman,serif\" font-size=\"14.00\" text-anchor=\"middle\" x=\"289\" y=\"-612.3\">(None, 1)</text>\n",
       "<polyline fill=\"none\" points=\"247,-604.5 331,-604.5 \" stroke=\"black\"/>\n",
       "<text font-family=\"Times New Roman,serif\" font-size=\"14.00\" text-anchor=\"middle\" x=\"289\" y=\"-589.3\">(None, 1, 8)</text>\n",
       "</g>\n",
       "<!-- 2748986681832&#45;&gt;2748986681944 -->\n",
       "<g class=\"edge\" id=\"edge1\"><title>2748986681832-&gt;2748986681944</title>\n",
       "<path d=\"M165.5,-664.366C165.5,-656.152 165.5,-646.658 165.5,-637.725\" fill=\"none\" stroke=\"black\"/>\n",
       "<polygon fill=\"black\" points=\"169,-637.607 165.5,-627.607 162,-637.607 169,-637.607\" stroke=\"black\"/>\n",
       "</g>\n",
       "<!-- 2748986682896 -->\n",
       "<g class=\"node\" id=\"node2\"><title>2748986682896</title>\n",
       "<polygon fill=\"none\" points=\"392.5,-664.5 392.5,-710.5 628.5,-710.5 628.5,-664.5 392.5,-664.5\" stroke=\"black\"/>\n",
       "<text font-family=\"Times New Roman,serif\" font-size=\"14.00\" text-anchor=\"middle\" x=\"447.5\" y=\"-683.8\">User: InputLayer</text>\n",
       "<polyline fill=\"none\" points=\"502.5,-664.5 502.5,-710.5 \" stroke=\"black\"/>\n",
       "<text font-family=\"Times New Roman,serif\" font-size=\"14.00\" text-anchor=\"middle\" x=\"530.5\" y=\"-695.3\">input:</text>\n",
       "<polyline fill=\"none\" points=\"502.5,-687.5 558.5,-687.5 \" stroke=\"black\"/>\n",
       "<text font-family=\"Times New Roman,serif\" font-size=\"14.00\" text-anchor=\"middle\" x=\"530.5\" y=\"-672.3\">output:</text>\n",
       "<polyline fill=\"none\" points=\"558.5,-664.5 558.5,-710.5 \" stroke=\"black\"/>\n",
       "<text font-family=\"Times New Roman,serif\" font-size=\"14.00\" text-anchor=\"middle\" x=\"593.5\" y=\"-695.3\">(None, 1)</text>\n",
       "<polyline fill=\"none\" points=\"558.5,-687.5 628.5,-687.5 \" stroke=\"black\"/>\n",
       "<text font-family=\"Times New Roman,serif\" font-size=\"14.00\" text-anchor=\"middle\" x=\"593.5\" y=\"-672.3\">(None, 1)</text>\n",
       "</g>\n",
       "<!-- 2748986682560 -->\n",
       "<g class=\"node\" id=\"node4\"><title>2748986682560</title>\n",
       "<polygon fill=\"none\" points=\"349.5,-581.5 349.5,-627.5 671.5,-627.5 671.5,-581.5 349.5,-581.5\" stroke=\"black\"/>\n",
       "<text font-family=\"Times New Roman,serif\" font-size=\"14.00\" text-anchor=\"middle\" x=\"440.5\" y=\"-600.8\">User-Embedding: Embedding</text>\n",
       "<polyline fill=\"none\" points=\"531.5,-581.5 531.5,-627.5 \" stroke=\"black\"/>\n",
       "<text font-family=\"Times New Roman,serif\" font-size=\"14.00\" text-anchor=\"middle\" x=\"559.5\" y=\"-612.3\">input:</text>\n",
       "<polyline fill=\"none\" points=\"531.5,-604.5 587.5,-604.5 \" stroke=\"black\"/>\n",
       "<text font-family=\"Times New Roman,serif\" font-size=\"14.00\" text-anchor=\"middle\" x=\"559.5\" y=\"-589.3\">output:</text>\n",
       "<polyline fill=\"none\" points=\"587.5,-581.5 587.5,-627.5 \" stroke=\"black\"/>\n",
       "<text font-family=\"Times New Roman,serif\" font-size=\"14.00\" text-anchor=\"middle\" x=\"629.5\" y=\"-612.3\">(None, 1)</text>\n",
       "<polyline fill=\"none\" points=\"587.5,-604.5 671.5,-604.5 \" stroke=\"black\"/>\n",
       "<text font-family=\"Times New Roman,serif\" font-size=\"14.00\" text-anchor=\"middle\" x=\"629.5\" y=\"-589.3\">(None, 1, 5)</text>\n",
       "</g>\n",
       "<!-- 2748986682896&#45;&gt;2748986682560 -->\n",
       "<g class=\"edge\" id=\"edge2\"><title>2748986682896-&gt;2748986682560</title>\n",
       "<path d=\"M510.5,-664.366C510.5,-656.152 510.5,-646.658 510.5,-637.725\" fill=\"none\" stroke=\"black\"/>\n",
       "<polygon fill=\"black\" points=\"514,-637.607 510.5,-627.607 507,-637.607 514,-637.607\" stroke=\"black\"/>\n",
       "</g>\n",
       "<!-- 2748986683064 -->\n",
       "<g class=\"node\" id=\"node5\"><title>2748986683064</title>\n",
       "<polygon fill=\"none\" points=\"38.5,-498.5 38.5,-544.5 318.5,-544.5 318.5,-498.5 38.5,-498.5\" stroke=\"black\"/>\n",
       "<text font-family=\"Times New Roman,serif\" font-size=\"14.00\" text-anchor=\"middle\" x=\"108.5\" y=\"-517.8\">FlattenMovies: Flatten</text>\n",
       "<polyline fill=\"none\" points=\"178.5,-498.5 178.5,-544.5 \" stroke=\"black\"/>\n",
       "<text font-family=\"Times New Roman,serif\" font-size=\"14.00\" text-anchor=\"middle\" x=\"206.5\" y=\"-529.3\">input:</text>\n",
       "<polyline fill=\"none\" points=\"178.5,-521.5 234.5,-521.5 \" stroke=\"black\"/>\n",
       "<text font-family=\"Times New Roman,serif\" font-size=\"14.00\" text-anchor=\"middle\" x=\"206.5\" y=\"-506.3\">output:</text>\n",
       "<polyline fill=\"none\" points=\"234.5,-498.5 234.5,-544.5 \" stroke=\"black\"/>\n",
       "<text font-family=\"Times New Roman,serif\" font-size=\"14.00\" text-anchor=\"middle\" x=\"276.5\" y=\"-529.3\">(None, 1, 8)</text>\n",
       "<polyline fill=\"none\" points=\"234.5,-521.5 318.5,-521.5 \" stroke=\"black\"/>\n",
       "<text font-family=\"Times New Roman,serif\" font-size=\"14.00\" text-anchor=\"middle\" x=\"276.5\" y=\"-506.3\">(None, 8)</text>\n",
       "</g>\n",
       "<!-- 2748986681944&#45;&gt;2748986683064 -->\n",
       "<g class=\"edge\" id=\"edge3\"><title>2748986681944-&gt;2748986683064</title>\n",
       "<path d=\"M169.052,-581.366C170.371,-573.152 171.894,-563.658 173.328,-554.725\" fill=\"none\" stroke=\"black\"/>\n",
       "<polygon fill=\"black\" points=\"176.823,-555.035 174.952,-544.607 169.911,-553.926 176.823,-555.035\" stroke=\"black\"/>\n",
       "</g>\n",
       "<!-- 2748986682056 -->\n",
       "<g class=\"node\" id=\"node6\"><title>2748986682056</title>\n",
       "<polygon fill=\"none\" points=\"362,-498.5 362,-544.5 633,-544.5 633,-498.5 362,-498.5\" stroke=\"black\"/>\n",
       "<text font-family=\"Times New Roman,serif\" font-size=\"14.00\" text-anchor=\"middle\" x=\"427.5\" y=\"-517.8\">FlattenUsers: Flatten</text>\n",
       "<polyline fill=\"none\" points=\"493,-498.5 493,-544.5 \" stroke=\"black\"/>\n",
       "<text font-family=\"Times New Roman,serif\" font-size=\"14.00\" text-anchor=\"middle\" x=\"521\" y=\"-529.3\">input:</text>\n",
       "<polyline fill=\"none\" points=\"493,-521.5 549,-521.5 \" stroke=\"black\"/>\n",
       "<text font-family=\"Times New Roman,serif\" font-size=\"14.00\" text-anchor=\"middle\" x=\"521\" y=\"-506.3\">output:</text>\n",
       "<polyline fill=\"none\" points=\"549,-498.5 549,-544.5 \" stroke=\"black\"/>\n",
       "<text font-family=\"Times New Roman,serif\" font-size=\"14.00\" text-anchor=\"middle\" x=\"591\" y=\"-529.3\">(None, 1, 5)</text>\n",
       "<polyline fill=\"none\" points=\"549,-521.5 633,-521.5 \" stroke=\"black\"/>\n",
       "<text font-family=\"Times New Roman,serif\" font-size=\"14.00\" text-anchor=\"middle\" x=\"591\" y=\"-506.3\">(None, 5)</text>\n",
       "</g>\n",
       "<!-- 2748986682560&#45;&gt;2748986682056 -->\n",
       "<g class=\"edge\" id=\"edge4\"><title>2748986682560-&gt;2748986682056</title>\n",
       "<path d=\"M506.948,-581.366C505.629,-573.152 504.106,-563.658 502.672,-554.725\" fill=\"none\" stroke=\"black\"/>\n",
       "<polygon fill=\"black\" points=\"506.089,-553.926 501.048,-544.607 499.177,-555.035 506.089,-553.926\" stroke=\"black\"/>\n",
       "</g>\n",
       "<!-- 2748986682728 -->\n",
       "<g class=\"node\" id=\"node7\"><title>2748986682728</title>\n",
       "<polygon fill=\"none\" points=\"55.5,-415.5 55.5,-461.5 311.5,-461.5 311.5,-415.5 55.5,-415.5\" stroke=\"black\"/>\n",
       "<text font-family=\"Times New Roman,serif\" font-size=\"14.00\" text-anchor=\"middle\" x=\"120.5\" y=\"-434.8\">dropout_4: Dropout</text>\n",
       "<polyline fill=\"none\" points=\"185.5,-415.5 185.5,-461.5 \" stroke=\"black\"/>\n",
       "<text font-family=\"Times New Roman,serif\" font-size=\"14.00\" text-anchor=\"middle\" x=\"213.5\" y=\"-446.3\">input:</text>\n",
       "<polyline fill=\"none\" points=\"185.5,-438.5 241.5,-438.5 \" stroke=\"black\"/>\n",
       "<text font-family=\"Times New Roman,serif\" font-size=\"14.00\" text-anchor=\"middle\" x=\"213.5\" y=\"-423.3\">output:</text>\n",
       "<polyline fill=\"none\" points=\"241.5,-415.5 241.5,-461.5 \" stroke=\"black\"/>\n",
       "<text font-family=\"Times New Roman,serif\" font-size=\"14.00\" text-anchor=\"middle\" x=\"276.5\" y=\"-446.3\">(None, 8)</text>\n",
       "<polyline fill=\"none\" points=\"241.5,-438.5 311.5,-438.5 \" stroke=\"black\"/>\n",
       "<text font-family=\"Times New Roman,serif\" font-size=\"14.00\" text-anchor=\"middle\" x=\"276.5\" y=\"-423.3\">(None, 8)</text>\n",
       "</g>\n",
       "<!-- 2748986683064&#45;&gt;2748986682728 -->\n",
       "<g class=\"edge\" id=\"edge5\"><title>2748986683064-&gt;2748986682728</title>\n",
       "<path d=\"M179.866,-498.366C180.373,-490.152 180.959,-480.658 181.511,-471.725\" fill=\"none\" stroke=\"black\"/>\n",
       "<polygon fill=\"black\" points=\"185.013,-471.804 182.135,-461.607 178.026,-471.372 185.013,-471.804\" stroke=\"black\"/>\n",
       "</g>\n",
       "<!-- 2748986682000 -->\n",
       "<g class=\"node\" id=\"node8\"><title>2748986682000</title>\n",
       "<polygon fill=\"none\" points=\"339.5,-415.5 339.5,-461.5 595.5,-461.5 595.5,-415.5 339.5,-415.5\" stroke=\"black\"/>\n",
       "<text font-family=\"Times New Roman,serif\" font-size=\"14.00\" text-anchor=\"middle\" x=\"404.5\" y=\"-434.8\">dropout_5: Dropout</text>\n",
       "<polyline fill=\"none\" points=\"469.5,-415.5 469.5,-461.5 \" stroke=\"black\"/>\n",
       "<text font-family=\"Times New Roman,serif\" font-size=\"14.00\" text-anchor=\"middle\" x=\"497.5\" y=\"-446.3\">input:</text>\n",
       "<polyline fill=\"none\" points=\"469.5,-438.5 525.5,-438.5 \" stroke=\"black\"/>\n",
       "<text font-family=\"Times New Roman,serif\" font-size=\"14.00\" text-anchor=\"middle\" x=\"497.5\" y=\"-423.3\">output:</text>\n",
       "<polyline fill=\"none\" points=\"525.5,-415.5 525.5,-461.5 \" stroke=\"black\"/>\n",
       "<text font-family=\"Times New Roman,serif\" font-size=\"14.00\" text-anchor=\"middle\" x=\"560.5\" y=\"-446.3\">(None, 5)</text>\n",
       "<polyline fill=\"none\" points=\"525.5,-438.5 595.5,-438.5 \" stroke=\"black\"/>\n",
       "<text font-family=\"Times New Roman,serif\" font-size=\"14.00\" text-anchor=\"middle\" x=\"560.5\" y=\"-423.3\">(None, 5)</text>\n",
       "</g>\n",
       "<!-- 2748986682056&#45;&gt;2748986682000 -->\n",
       "<g class=\"edge\" id=\"edge6\"><title>2748986682056-&gt;2748986682000</title>\n",
       "<path d=\"M489.302,-498.366C486.194,-489.973 482.591,-480.245 479.22,-471.143\" fill=\"none\" stroke=\"black\"/>\n",
       "<polygon fill=\"black\" points=\"482.443,-469.769 475.688,-461.607 475.879,-472.2 482.443,-469.769\" stroke=\"black\"/>\n",
       "</g>\n",
       "<!-- 2748986718920 -->\n",
       "<g class=\"node\" id=\"node10\"><title>2748986718920</title>\n",
       "<polygon fill=\"none\" points=\"249.5,-332.5 249.5,-378.5 685.5,-378.5 685.5,-332.5 249.5,-332.5\" stroke=\"black\"/>\n",
       "<text font-family=\"Times New Roman,serif\" font-size=\"14.00\" text-anchor=\"middle\" x=\"336\" y=\"-351.8\">concatenate_2: Concatenate</text>\n",
       "<polyline fill=\"none\" points=\"422.5,-332.5 422.5,-378.5 \" stroke=\"black\"/>\n",
       "<text font-family=\"Times New Roman,serif\" font-size=\"14.00\" text-anchor=\"middle\" x=\"450.5\" y=\"-363.3\">input:</text>\n",
       "<polyline fill=\"none\" points=\"422.5,-355.5 478.5,-355.5 \" stroke=\"black\"/>\n",
       "<text font-family=\"Times New Roman,serif\" font-size=\"14.00\" text-anchor=\"middle\" x=\"450.5\" y=\"-340.3\">output:</text>\n",
       "<polyline fill=\"none\" points=\"478.5,-332.5 478.5,-378.5 \" stroke=\"black\"/>\n",
       "<text font-family=\"Times New Roman,serif\" font-size=\"14.00\" text-anchor=\"middle\" x=\"582\" y=\"-363.3\">[(None, 8), (None, 5), (None, 20)]</text>\n",
       "<polyline fill=\"none\" points=\"478.5,-355.5 685.5,-355.5 \" stroke=\"black\"/>\n",
       "<text font-family=\"Times New Roman,serif\" font-size=\"14.00\" text-anchor=\"middle\" x=\"582\" y=\"-340.3\">(None, 33)</text>\n",
       "</g>\n",
       "<!-- 2748986682728&#45;&gt;2748986718920 -->\n",
       "<g class=\"edge\" id=\"edge7\"><title>2748986682728-&gt;2748986718920</title>\n",
       "<path d=\"M260.729,-415.473C297.67,-404.937 342.054,-392.279 380.215,-381.395\" fill=\"none\" stroke=\"black\"/>\n",
       "<polygon fill=\"black\" points=\"381.63,-384.631 390.286,-378.522 379.71,-377.899 381.63,-384.631\" stroke=\"black\"/>\n",
       "</g>\n",
       "<!-- 2748986682000&#45;&gt;2748986718920 -->\n",
       "<g class=\"edge\" id=\"edge8\"><title>2748986682000-&gt;2748986718920</title>\n",
       "<path d=\"M467.5,-415.366C467.5,-407.152 467.5,-397.658 467.5,-388.725\" fill=\"none\" stroke=\"black\"/>\n",
       "<polygon fill=\"black\" points=\"471,-388.607 467.5,-378.607 464,-388.607 471,-388.607\" stroke=\"black\"/>\n",
       "</g>\n",
       "<!-- 2748986719256 -->\n",
       "<g class=\"node\" id=\"node9\"><title>2748986719256</title>\n",
       "<polygon fill=\"none\" points=\"614,-415.5 614,-461.5 865,-461.5 865,-415.5 614,-415.5\" stroke=\"black\"/>\n",
       "<text font-family=\"Times New Roman,serif\" font-size=\"14.00\" text-anchor=\"middle\" x=\"673\" y=\"-434.8\">Genre: InputLayer</text>\n",
       "<polyline fill=\"none\" points=\"732,-415.5 732,-461.5 \" stroke=\"black\"/>\n",
       "<text font-family=\"Times New Roman,serif\" font-size=\"14.00\" text-anchor=\"middle\" x=\"760\" y=\"-446.3\">input:</text>\n",
       "<polyline fill=\"none\" points=\"732,-438.5 788,-438.5 \" stroke=\"black\"/>\n",
       "<text font-family=\"Times New Roman,serif\" font-size=\"14.00\" text-anchor=\"middle\" x=\"760\" y=\"-423.3\">output:</text>\n",
       "<polyline fill=\"none\" points=\"788,-415.5 788,-461.5 \" stroke=\"black\"/>\n",
       "<text font-family=\"Times New Roman,serif\" font-size=\"14.00\" text-anchor=\"middle\" x=\"826.5\" y=\"-446.3\">(None, 20)</text>\n",
       "<polyline fill=\"none\" points=\"788,-438.5 865,-438.5 \" stroke=\"black\"/>\n",
       "<text font-family=\"Times New Roman,serif\" font-size=\"14.00\" text-anchor=\"middle\" x=\"826.5\" y=\"-423.3\">(None, 20)</text>\n",
       "</g>\n",
       "<!-- 2748986719256&#45;&gt;2748986718920 -->\n",
       "<g class=\"edge\" id=\"edge9\"><title>2748986719256-&gt;2748986718920</title>\n",
       "<path d=\"M665.534,-415.473C630.154,-404.937 587.645,-392.279 551.097,-381.395\" fill=\"none\" stroke=\"black\"/>\n",
       "<polygon fill=\"black\" points=\"552.034,-378.022 541.451,-378.522 550.036,-384.731 552.034,-378.022\" stroke=\"black\"/>\n",
       "</g>\n",
       "<!-- 2748996105048 -->\n",
       "<g class=\"node\" id=\"node11\"><title>2748996105048</title>\n",
       "<polygon fill=\"none\" points=\"319,-249.5 319,-295.5 616,-295.5 616,-249.5 319,-249.5\" stroke=\"black\"/>\n",
       "<text font-family=\"Times New Roman,serif\" font-size=\"14.00\" text-anchor=\"middle\" x=\"398\" y=\"-268.8\">FullyConnected-1: Dense</text>\n",
       "<polyline fill=\"none\" points=\"477,-249.5 477,-295.5 \" stroke=\"black\"/>\n",
       "<text font-family=\"Times New Roman,serif\" font-size=\"14.00\" text-anchor=\"middle\" x=\"505\" y=\"-280.3\">input:</text>\n",
       "<polyline fill=\"none\" points=\"477,-272.5 533,-272.5 \" stroke=\"black\"/>\n",
       "<text font-family=\"Times New Roman,serif\" font-size=\"14.00\" text-anchor=\"middle\" x=\"505\" y=\"-257.3\">output:</text>\n",
       "<polyline fill=\"none\" points=\"533,-249.5 533,-295.5 \" stroke=\"black\"/>\n",
       "<text font-family=\"Times New Roman,serif\" font-size=\"14.00\" text-anchor=\"middle\" x=\"574.5\" y=\"-280.3\">(None, 33)</text>\n",
       "<polyline fill=\"none\" points=\"533,-272.5 616,-272.5 \" stroke=\"black\"/>\n",
       "<text font-family=\"Times New Roman,serif\" font-size=\"14.00\" text-anchor=\"middle\" x=\"574.5\" y=\"-257.3\">(None, 100)</text>\n",
       "</g>\n",
       "<!-- 2748986718920&#45;&gt;2748996105048 -->\n",
       "<g class=\"edge\" id=\"edge10\"><title>2748986718920-&gt;2748996105048</title>\n",
       "<path d=\"M467.5,-332.366C467.5,-324.152 467.5,-314.658 467.5,-305.725\" fill=\"none\" stroke=\"black\"/>\n",
       "<polygon fill=\"black\" points=\"471,-305.607 467.5,-295.607 464,-305.607 471,-305.607\" stroke=\"black\"/>\n",
       "</g>\n",
       "<!-- 2748996550384 -->\n",
       "<g class=\"node\" id=\"node12\"><title>2748996550384</title>\n",
       "<polygon fill=\"none\" points=\"319,-166.5 319,-212.5 616,-212.5 616,-166.5 319,-166.5\" stroke=\"black\"/>\n",
       "<text font-family=\"Times New Roman,serif\" font-size=\"14.00\" text-anchor=\"middle\" x=\"398\" y=\"-185.8\">FullyConnected-2: Dense</text>\n",
       "<polyline fill=\"none\" points=\"477,-166.5 477,-212.5 \" stroke=\"black\"/>\n",
       "<text font-family=\"Times New Roman,serif\" font-size=\"14.00\" text-anchor=\"middle\" x=\"505\" y=\"-197.3\">input:</text>\n",
       "<polyline fill=\"none\" points=\"477,-189.5 533,-189.5 \" stroke=\"black\"/>\n",
       "<text font-family=\"Times New Roman,serif\" font-size=\"14.00\" text-anchor=\"middle\" x=\"505\" y=\"-174.3\">output:</text>\n",
       "<polyline fill=\"none\" points=\"533,-166.5 533,-212.5 \" stroke=\"black\"/>\n",
       "<text font-family=\"Times New Roman,serif\" font-size=\"14.00\" text-anchor=\"middle\" x=\"574.5\" y=\"-197.3\">(None, 100)</text>\n",
       "<polyline fill=\"none\" points=\"533,-189.5 616,-189.5 \" stroke=\"black\"/>\n",
       "<text font-family=\"Times New Roman,serif\" font-size=\"14.00\" text-anchor=\"middle\" x=\"574.5\" y=\"-174.3\">(None, 50)</text>\n",
       "</g>\n",
       "<!-- 2748996105048&#45;&gt;2748996550384 -->\n",
       "<g class=\"edge\" id=\"edge11\"><title>2748996105048-&gt;2748996550384</title>\n",
       "<path d=\"M467.5,-249.366C467.5,-241.152 467.5,-231.658 467.5,-222.725\" fill=\"none\" stroke=\"black\"/>\n",
       "<polygon fill=\"black\" points=\"471,-222.607 467.5,-212.607 464,-222.607 471,-222.607\" stroke=\"black\"/>\n",
       "</g>\n",
       "<!-- 2748996807536 -->\n",
       "<g class=\"node\" id=\"node13\"><title>2748996807536</title>\n",
       "<polygon fill=\"none\" points=\"322,-83.5 322,-129.5 613,-129.5 613,-83.5 322,-83.5\" stroke=\"black\"/>\n",
       "<text font-family=\"Times New Roman,serif\" font-size=\"14.00\" text-anchor=\"middle\" x=\"401\" y=\"-102.8\">FullyConnected-3: Dense</text>\n",
       "<polyline fill=\"none\" points=\"480,-83.5 480,-129.5 \" stroke=\"black\"/>\n",
       "<text font-family=\"Times New Roman,serif\" font-size=\"14.00\" text-anchor=\"middle\" x=\"508\" y=\"-114.3\">input:</text>\n",
       "<polyline fill=\"none\" points=\"480,-106.5 536,-106.5 \" stroke=\"black\"/>\n",
       "<text font-family=\"Times New Roman,serif\" font-size=\"14.00\" text-anchor=\"middle\" x=\"508\" y=\"-91.3\">output:</text>\n",
       "<polyline fill=\"none\" points=\"536,-83.5 536,-129.5 \" stroke=\"black\"/>\n",
       "<text font-family=\"Times New Roman,serif\" font-size=\"14.00\" text-anchor=\"middle\" x=\"574.5\" y=\"-114.3\">(None, 50)</text>\n",
       "<polyline fill=\"none\" points=\"536,-106.5 613,-106.5 \" stroke=\"black\"/>\n",
       "<text font-family=\"Times New Roman,serif\" font-size=\"14.00\" text-anchor=\"middle\" x=\"574.5\" y=\"-91.3\">(None, 20)</text>\n",
       "</g>\n",
       "<!-- 2748996550384&#45;&gt;2748996807536 -->\n",
       "<g class=\"edge\" id=\"edge12\"><title>2748996550384-&gt;2748996807536</title>\n",
       "<path d=\"M467.5,-166.366C467.5,-158.152 467.5,-148.658 467.5,-139.725\" fill=\"none\" stroke=\"black\"/>\n",
       "<polygon fill=\"black\" points=\"471,-139.607 467.5,-129.607 464,-139.607 471,-139.607\" stroke=\"black\"/>\n",
       "</g>\n",
       "<!-- 2748996808376 -->\n",
       "<g class=\"node\" id=\"node14\"><title>2748996808376</title>\n",
       "<polygon fill=\"none\" points=\"343.5,-0.5 343.5,-46.5 591.5,-46.5 591.5,-0.5 343.5,-0.5\" stroke=\"black\"/>\n",
       "<text font-family=\"Times New Roman,serif\" font-size=\"14.00\" text-anchor=\"middle\" x=\"401\" y=\"-19.8\">Activation: Dense</text>\n",
       "<polyline fill=\"none\" points=\"458.5,-0.5 458.5,-46.5 \" stroke=\"black\"/>\n",
       "<text font-family=\"Times New Roman,serif\" font-size=\"14.00\" text-anchor=\"middle\" x=\"486.5\" y=\"-31.3\">input:</text>\n",
       "<polyline fill=\"none\" points=\"458.5,-23.5 514.5,-23.5 \" stroke=\"black\"/>\n",
       "<text font-family=\"Times New Roman,serif\" font-size=\"14.00\" text-anchor=\"middle\" x=\"486.5\" y=\"-8.3\">output:</text>\n",
       "<polyline fill=\"none\" points=\"514.5,-0.5 514.5,-46.5 \" stroke=\"black\"/>\n",
       "<text font-family=\"Times New Roman,serif\" font-size=\"14.00\" text-anchor=\"middle\" x=\"553\" y=\"-31.3\">(None, 20)</text>\n",
       "<polyline fill=\"none\" points=\"514.5,-23.5 591.5,-23.5 \" stroke=\"black\"/>\n",
       "<text font-family=\"Times New Roman,serif\" font-size=\"14.00\" text-anchor=\"middle\" x=\"553\" y=\"-8.3\">(None, 1)</text>\n",
       "</g>\n",
       "<!-- 2748996807536&#45;&gt;2748996808376 -->\n",
       "<g class=\"edge\" id=\"edge13\"><title>2748996807536-&gt;2748996808376</title>\n",
       "<path d=\"M467.5,-83.3664C467.5,-75.1516 467.5,-65.6579 467.5,-56.7252\" fill=\"none\" stroke=\"black\"/>\n",
       "<polygon fill=\"black\" points=\"471,-56.6068 467.5,-46.6068 464,-56.6069 471,-56.6068\" stroke=\"black\"/>\n",
       "</g>\n",
       "</g>\n",
       "</svg>"
      ],
      "text/plain": [
       "<IPython.core.display.SVG object>"
      ]
     },
     "execution_count": 16,
     "metadata": {},
     "output_type": "execute_result"
    }
   ],
   "source": [
    "# Keras model\n",
    "n_latent_factors_user = 5\n",
    "n_latent_factors_movie = 8\n",
    "\n",
    "movie_input = keras.layers.Input(shape=[1],name='Movie')\n",
    "movie_embedding = keras.layers.Embedding(n_movies + 1, n_latent_factors_movie, name='Movie-Embedding')(movie_input)\n",
    "movie_vec = keras.layers.Flatten(name='FlattenMovies')(movie_embedding)\n",
    "movie_vec = keras.layers.Dropout(0.5)(movie_vec)\n",
    "\n",
    "\n",
    "user_input = keras.layers.Input(shape=[1],name='User')\n",
    "user_vec = keras.layers.Flatten(name='FlattenUsers')(keras.layers.Embedding(n_users + 1, n_latent_factors_user,name='User-Embedding')(user_input))\n",
    "user_vec = keras.layers.Dropout(0.5)(user_vec)\n",
    "\n",
    "genre_input = keras.layers.Input(shape=[20],name='Genre')\n",
    "# genre_vec = keras.layers.Flatten(name='FlattenGenre')(keras.layers.Embedding(20, 7 ,name='Genre-Embedding')(genre_input))\n",
    "\n",
    "\n",
    "concat = keras.layers.concatenate([movie_vec, user_vec,genre_input])\n",
    "concat_dropout = keras.layers.Dropout(0.2)(concat)\n",
    "dense = keras.layers.Dense(200,name='FullyConnected')(concat)\n",
    "dropout_1 = keras.layers.Dropout(0.2,name='Dropout')(dense)\n",
    "dense_2 = keras.layers.Dense(100,name='FullyConnected-1')(concat)\n",
    "dropout_2 = keras.layers.Dropout(0.2,name='Dropout')(dense_2)\n",
    "dense_3 = keras.layers.Dense(50,name='FullyConnected-2')(dense_2)\n",
    "dropout_3 = keras.layers.Dropout(0.2,name='Dropout')(dense_3)\n",
    "dense_4 = keras.layers.Dense(20,name='FullyConnected-3', activation='relu')(dense_3)\n",
    "\n",
    "\n",
    "result = keras.layers.Dense(1, activation='relu',name='Activation')(dense_4)\n",
    "model = keras.Model([user_input, movie_input,genre_input], result)\n",
    "model.compile(optimizer=Adam(lr=0.001),loss= 'mean_squared_error')\n",
    "\n",
    "#visualize model\n",
    "SVG(model_to_dot(model,  show_shapes=True, rankdir='HB').create(prog='dot', format='svg'))"
   ]
  },
  {
   "cell_type": "code",
   "execution_count": 17,
   "metadata": {
    "pycharm": {
     "metadata": false,
     "name": "#%%\n"
    }
   },
   "outputs": [
    {
     "data": {
      "text/plain": [
       "Text(0, 0.5, 'Train Error')"
      ]
     },
     "execution_count": 17,
     "metadata": {},
     "output_type": "execute_result"
    },
    {
     "data": {
      "image/png": "[encoded data removed]",
      "text/plain": [
       "<Figure size 432x288 with 1 Axes>"
      ]
     },
     "metadata": {
      "needs_background": "light"
     },
     "output_type": "display_data"
    }
   ],
   "source": [
    "history = model.fit([train['userId'], train['movieId'],genres_train], train.rating,batch_size=256, epochs=100, verbose=0)\n",
    "pd.Series(history.history['loss']).plot()\n",
    "plt.xlabel(\"Epoch\")\n",
    "plt.ylabel(\"Train Error\")"
   ]
  },
  {
   "cell_type": "code",
   "execution_count": 18,
   "metadata": {
    "pycharm": {
     "is_executing": false,
     "metadata": false,
     "name": "#%%\n"
    }
   },
   "outputs": [
    {
     "name": "stdout",
     "output_type": "stream",
     "text": [
      "MAE: 0.666730809902114\n",
      "RMSE: 0.8909131757332502\n"
     ]
    }
   ],
   "source": [
    "y_hat = model.predict([test.userId, test.movieId,genres_test])\n",
    "y_true = test.rating\n",
    "\n",
    "print(\"MAE:\",mean_absolute_error(y_true,y_hat))\n",
    "print(\"RMSE:\",sqrt(mean_squared_error(y_true, y_hat)))"
   ]
  }
 ],
 "metadata": {
  "kernelspec": {
   "display_name": "TF GPU",
   "language": "python",
   "name": "tf-gpu"
  },
  "language_info": {
   "codemirror_mode": {
    "name": "ipython",
    "version": 3
   },
   "file_extension": ".py",
   "mimetype": "text/x-python",
   "name": "python",
   "nbconvert_exporter": "python",
   "pygments_lexer": "ipython3",
   "version": "3.6.8"
  }
 },
 "nbformat": 4,
 "nbformat_minor": 1
}
