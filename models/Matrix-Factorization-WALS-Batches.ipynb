{
 "cells": [
  {
   "cell_type": "markdown",
   "metadata": {},
   "source": [
    "### Utilities"
   ]
  },
  {
   "cell_type": "code",
   "execution_count": 1,
   "metadata": {},
   "outputs": [],
   "source": [
    "import matplotlib.pyplot as plt\n",
    "from sklearn.model_selection import train_test_split\n",
    "from scipy.sparse import coo_matrix\n",
    "\n",
    "from sklearn.metrics import mean_squared_error as MSE\n",
    "from sklearn.metrics import mean_absolute_error as MAE\n",
    "\n",
    "from tensorflow.python.ops import array_ops\n",
    "from tensorflow.python.framework import dtypes\n",
    "from tensorflow.python.framework import sparse_tensor\n",
    "from tensorflow.python.ops import sparse_ops\n",
    "from tensorflow.contrib.factorization.python.ops import factorization_ops\n",
    "from tensorflow.contrib.factorization.python.ops import factorization_ops_test_utils\n",
    "\n",
    "import tensorflow as tf\n",
    "import pandas as pd\n",
    "import numpy as np\n",
    "import math\n",
    "import os\n",
    "\n",
    "np_matrix_to_tf_sparse = factorization_ops_test_utils.np_matrix_to_tf_sparse\n",
    "\n",
    "\n",
    "def np_matrix_to_tf_sparse(np_matrix, i,\n",
    "                           row_slices=None,\n",
    "                           col_slices=None,\n",
    "                           transpose=False,\n",
    "                           shuffle=False):\n",
    "  \"\"\"Simple util to slice non-zero np matrix elements as tf.SparseTensor.\"\"\"\n",
    "  indices = np.nonzero(np_matrix)\n",
    "\n",
    "  # Only allow slices of whole rows or whole columns.\n",
    "  assert not (row_slices is not None and col_slices is not None)\n",
    "\n",
    "  if row_slices is not None:\n",
    "    selected_ind = np.concatenate([np.where(indices[0] == (r-i))[0] for r in row_slices], 0)\n",
    "    in_real = (indices[0][selected_ind], indices[1][selected_ind])\n",
    "    indices = (indices[0][selected_ind]+i, indices[1][selected_ind])\n",
    "\n",
    "  # if col_slices is not None:\n",
    "  #   selected_ind = np.concatenate([np.where(indices[1] == c)[0] for c in col_slices], 0)\n",
    "  #   indices = (indices[0][selected_ind], indices[1][selected_ind])\n",
    "  #   in_real = indices\n",
    "\n",
    "  if shuffle:\n",
    "    shuffled_ind = [x for x in range(len(indices[0]))]\n",
    "    random.shuffle(shuffled_ind)\n",
    "    indices = (indices[0][shuffled_ind], indices[1][shuffled_ind])\n",
    "\n",
    "  ind = (np.concatenate((np.expand_dims(indices[1], 1), np.expand_dims(indices[0], 1)), 1).astype(np.int64) if\n",
    "         transpose else np.concatenate((np.expand_dims(indices[0], 1), np.expand_dims(indices[1], 1)), 1).astype(np.int64))\n",
    "\n",
    "  val = np_matrix[in_real].astype(np.float32)\n",
    "  shape = (np.array([max(indices[1]) + 1, max(indices[0]) + 1]).astype(np.int64)\n",
    "           if transpose else np.array(\n",
    "               [max(indices[0]) + 1, max(indices[1]) + 1]).astype(np.int64))\n",
    "  return sparse_tensor.SparseTensor(ind, val, shape)\n",
    "\n",
    "\n",
    "def get_MAE(output_row, output_col, actual):\n",
    "    mae = 0\n",
    "    for i in range(actual.data.shape[0]):\n",
    "        row_pred = output_row[actual.row[i]]\n",
    "        col_pred = output_col[actual.col[i]]\n",
    "        mae += abs(actual.data[i] - np.dot(row_pred, col_pred))\n",
    "    mae /= actual.data.shape[0]\n",
    "    return mae\n",
    "\n",
    "def get_RMSE(output_row, output_col, actual):\n",
    "    mse = 0\n",
    "    for i in range(actual.data.shape[0]):\n",
    "        row_pred = output_row[actual.row[i]]\n",
    "        col_pred = output_col[actual.col[i]]\n",
    "        err = actual.data[i] - np.dot(row_pred, col_pred)\n",
    "        mse += err * err\n",
    "    mse /= actual.data.shape[0]\n",
    "    rmse = math.sqrt(mse)\n",
    "    return rmse\n",
    "\n",
    "def evaluate_model(sess, train_sparse, test_sparse, row_factor, col_factor):\n",
    "\n",
    "    train_rmse = get_RMSE(row_factor, col_factor, train_sparse)\n",
    "    test_rmse = get_RMSE(row_factor, col_factor, test_sparse)    \n",
    "\n",
    "#     print('train RMSE: ', train_rmse)\n",
    "#     print('test RMSE: ', test_rmse)\n",
    "    tf.logging.info('train RMSE = %f' % train_rmse)\n",
    "    tf.logging.info('test RMSE = %f' % test_rmse)\n",
    "\n",
    "    train_mae = get_MAE(row_factor, col_factor, train_sparse)\n",
    "    test_mae = get_MAE(row_factor, col_factor, test_sparse)    \n",
    "#     print('train MAE: ', train_mae)\n",
    "#     print('test MAE: ', test_mae)\n",
    "\n",
    "    tf.logging.info('train MAE = %f' % train_mae)\n",
    "    tf.logging.info('test MAE = %f' % test_mae)\n"
   ]
  },
  {
   "cell_type": "markdown",
   "metadata": {},
   "source": [
    "### Loading Dataset"
   ]
  },
  {
   "cell_type": "code",
   "execution_count": 2,
   "metadata": {},
   "outputs": [
    {
     "name": "stdout",
     "output_type": "stream",
     "text": [
      "\n",
      "Loading Dataset....\n",
      "\n"
     ]
    }
   ],
   "source": [
    "print(\"\\nLoading Dataset....\\n\")\n",
    "\n",
    "\n",
    "input_file = '../datasets/ml-latest-small/ratings.csv'\n",
    "headers = ['userId', 'movieId', 'rating', 'timestamp']\n",
    "header_row = None\n",
    "ratings_df = pd.read_csv(input_file, sep=\",\", names=headers, header=header_row, skiprows = 1,\n",
    "                         dtype={'userId': np.int32, 'movieId': np.int32, \n",
    "                                'rating': np.float32,'timestamp': np.int32,\n",
    "                         })\n",
    "\n",
    "\n",
    "# ratings_df = ratings_df.head(len(ratings_df)//10)\n"
   ]
  },
  {
   "cell_type": "markdown",
   "metadata": {},
   "source": [
    "### Data Preprocessing"
   ]
  },
  {
   "cell_type": "code",
   "execution_count": 3,
   "metadata": {},
   "outputs": [
    {
     "name": "stdout",
     "output_type": "stream",
     "text": [
      "\n",
      "Data Preprocessing....\n",
      "\n",
      "610 9724\n"
     ]
    }
   ],
   "source": [
    "print(\"\\nData Preprocessing....\\n\")\n",
    "\n",
    "np_users = ratings_df.userId.values\n",
    "np_items = ratings_df.movieId.values\n",
    "\n",
    "unique_users = np.unique(np_users)\n",
    "unique_items = np.unique(np_items)\n",
    "\n",
    "n_users = unique_users.shape[0]\n",
    "n_items = unique_items.shape[0]\n",
    "\n",
    "print(n_users, n_items)\n",
    "\n",
    "max_item = unique_items[-1]\n",
    "\n",
    "# Reconstruct the ratings set's user/movie indices\n",
    "np_users = ratings_df.userId.values\n",
    "np_users[:] -= 1 # Make users zero-indexed\n",
    "\n",
    "# Mapping unique items down to an array 0..n_items-1\n",
    "z = np.zeros(max_item+1, dtype=int)\n",
    "z[unique_items] = np.arange(n_items)\n",
    "movies_map = z[np_items]\n",
    "\n",
    "np_ratings = ratings_df.rating.values\n",
    "# print(np_ratings.shape[0])\n",
    "ratings = np.zeros((np_ratings.shape[0], 3), dtype=object)\n",
    "# ratings[:, 0] = np_users\n",
    "ratings[:, 0] = np_users\n",
    "ratings[:, 1] = movies_map\n",
    "ratings[:, 2] = np_ratings\n",
    "\n",
    "X_train, X_test = train_test_split(ratings, train_size=0.8)\n",
    "\n",
    "# Ignoring timestamp\n",
    "user_train, movie_train, rating_train = zip(*X_train)\n",
    "train_sparse = coo_matrix((rating_train, (user_train, movie_train)), shape=(n_users, n_items))\n",
    "# print(train_sparse)\n",
    "\n",
    "user_test, movie_test, rating_test = zip(*X_test)\n",
    "test_sparse = coo_matrix((rating_test, (user_test, movie_test)), shape=(n_users, n_items))\n",
    "# print(test_sparse)"
   ]
  },
  {
   "cell_type": "markdown",
   "metadata": {},
   "source": [
    "### Building the Model\n",
    "\n"
   ]
  },
  {
   "cell_type": "code",
   "execution_count": 4,
   "metadata": {},
   "outputs": [
    {
     "name": "stdout",
     "output_type": "stream",
     "text": [
      "\n",
      "Building Model....\n",
      "\n",
      "WARNING:tensorflow:From /home/calliope/anaconda3/envs/tf_gpu/lib/python3.7/site-packages/tensorflow/python/framework/op_def_library.py:263: colocate_with (from tensorflow.python.framework.ops) is deprecated and will be removed in a future version.\n",
      "Instructions for updating:\n",
      "Colocations handled automatically by placer.\n"
     ]
    }
   ],
   "source": [
    "print(\"\\nBuilding Model....\\n\")\n",
    "\n",
    "# Default hyperparameters\n",
    "DEFAULT_PARAMS = {\n",
    "    'weights': True,\n",
    "    'latent_factors': 5,\n",
    "    'num_iters': 20,\n",
    "    'regularization': 0.07,\n",
    "    'unobs_weight': 0.01,\n",
    "    'wt_type': 0,\n",
    "    'feature_wt_factor': 130.0,\n",
    "    'feature_wt_exp': 0.08,\n",
    "    'delimiter': '\\t'\n",
    "}\n",
    "\n",
    "# Parameters optimized with hypertuning for the MovieLens data set\n",
    "OPTIMIZED_PARAMS = {\n",
    "    'latent_factors': 34,\n",
    "    'regularization': 9.83,\n",
    "    'unobs_weight': 0.001,\n",
    "    'feature_wt_factor': 189.8,\n",
    "}\n",
    "\n",
    "params = OPTIMIZED_PARAMS\n",
    "\n",
    "# Create WALS model\n",
    "num_rows = train_sparse.shape[0]\n",
    "num_cols = train_sparse.shape[1]\n",
    "\n",
    "row_wts = np.ones(num_rows)\n",
    "    \n",
    "p = (train_sparse > 0.0).sum(0)\n",
    "p = p.astype(\"float32\")\n",
    "p[p==0] = 0.0001\n",
    "frac = np.array(1.0/p)\n",
    "frac[np.ma.masked_invalid(frac).mask] = 0.0\n",
    "\n",
    "col_wts = np.array(params['feature_wt_factor'] * frac).flatten()\n",
    "assert np.isfinite(col_wts).sum() == col_wts.shape[0]\n",
    "\n",
    "row_factor = None\n",
    "col_factor = None\n",
    "\n",
    "\n",
    "sess = tf.Session()  #graph=input_tensor.graph)\n",
    "\n",
    "model = factorization_ops.WALSModel(num_rows, num_cols, \n",
    "                                    n_components=params['latent_factors'],\n",
    "                                    # num_row_shards=2,\n",
    "                                    # num_col_shards=3,\n",
    "                                    unobserved_weight=params['unobs_weight'],\n",
    "                                    regularization=params['regularization'],\n",
    "                                    row_weights=row_wts, \n",
    "                                    col_weights=col_wts)\n",
    "\n",
    "sess = tf.Session()\n",
    "\n",
    "sess.run(model.initialize_op)\n",
    "sess.run(model.worker_init)\n",
    "\n",
    "sp_feeder_row = array_ops.sparse_placeholder(dtypes.float32)\n",
    "(_, slice_row, unreg_loss_row, reg_row, _) = model.update_row_factors(sp_input=sp_feeder_row, transpose_input=False)\n",
    "factor_loss_row = unreg_loss_row + reg_row\n",
    "\n",
    "\n",
    "sp_feeder_col = array_ops.sparse_placeholder(dtypes.float32)\n",
    "(_, slice_col, unreg_loss_col, reg_col,_) = model.update_col_factors(sp_input=sp_feeder_col, transpose_input=True)\n",
    "factor_loss_col = unreg_loss_col + reg_col"
   ]
  },
  {
   "cell_type": "markdown",
   "metadata": {},
   "source": [
    "### Slicing Dataset to batches"
   ]
  },
  {
   "cell_type": "code",
   "execution_count": 6,
   "metadata": {},
   "outputs": [
    {
     "name": "stdout",
     "output_type": "stream",
     "text": [
      "\n",
      "Preparation for Training....\n",
      "\n",
      "610 2\n",
      "9724 37\n"
     ]
    }
   ],
   "source": [
    "print(\"\\nPreparation for Training....\\n\")\n",
    "\n",
    "# ~~~~~~~~~~~~~~~~~~~~~~~~~~~~~~~~~~~~~~~~~~~~~~~~~~~~~~~~~~~~~~~~~~~~~~~~~~~~~~~~~~~~~~~~~~~~~~~#\n",
    "batch = 256\n",
    "X_train = train_sparse.tocsr()\n",
    "\n",
    "k_rows = num_rows // batch\n",
    "k_cols = num_cols // batch\n",
    "\n",
    "print(num_rows, k_rows)\n",
    "print(num_cols, k_cols)\n",
    "\n",
    "# ~~~~~~~~~ Cutting smaller Row Slices - mini batching ~~~~~~~~~ #\n",
    "input_scattered_rows = []\n",
    "for i in range(k_rows+1):\n",
    "\n",
    "    to = (i+1)*batch\n",
    "    if to > num_rows:\n",
    "        to = num_rows\n",
    "\n",
    "    x = X_train[i*batch : (i+1)*batch]\n",
    "    x = x.toarray()\n",
    "    slice = np_matrix_to_tf_sparse(x, i*batch, row_slices=np.arange(i*batch, to)).eval(session=sess)\n",
    "    input_scattered_rows.append(slice)\n",
    "\n",
    "    \n",
    "# ~~~~~~~~~ Cutting smaller Column Slices - mini batching ~~~~~~~~~ #\n",
    "input_scattered_cols = []\n",
    "for i in range(k_cols+1):\n",
    "\n",
    "    to = (i+1)*batch\n",
    "    if to > num_cols:\n",
    "        to = num_cols\n",
    "\n",
    "    x = X_train[:, i*batch : (i+1)*batch]\n",
    "    x = np.transpose(x.toarray())\n",
    "\n",
    "    slice = np_matrix_to_tf_sparse(x, i*batch, row_slices=np.arange(i*batch, to)).eval(session=sess)\n",
    "    input_scattered_cols.append(slice)\n",
    "\n",
    "# ~~~~~~~~~~~~~~~~~~~~~~~~~~~~~~~~~~~~~~~~~~~~~~~~~~~~~~~~~~~~~~~~~~~~~~~~~~~~~~~~~~~~~~~~~~~~~~~#"
   ]
  },
  {
   "cell_type": "markdown",
   "metadata": {},
   "source": [
    "### Training Phase"
   ]
  },
  {
   "cell_type": "code",
   "execution_count": 7,
   "metadata": {},
   "outputs": [
    {
     "name": "stdout",
     "output_type": "stream",
     "text": [
      "\n",
      "Training....\n",
      "\n"
     ]
    },
    {
     "ename": "InternalError",
     "evalue": "Blas GEMM launch failed : a.shape=(9724, 5), b.shape=(9724, 5), m=5, n=5, k=9724\n\t [[node row_prepare_gramian/MatMul (defined at <ipython-input-4-8aaba854a6a4>:42) ]]\n\nCaused by op 'row_prepare_gramian/MatMul', defined at:\n  File \"/home/calliope/anaconda3/envs/tf_gpu/lib/python3.7/runpy.py\", line 193, in _run_module_as_main\n    \"__main__\", mod_spec)\n  File \"/home/calliope/anaconda3/envs/tf_gpu/lib/python3.7/runpy.py\", line 85, in _run_code\n    exec(code, run_globals)\n  File \"/home/calliope/anaconda3/envs/tf_gpu/lib/python3.7/site-packages/ipykernel_launcher.py\", line 16, in <module>\n    app.launch_new_instance()\n  File \"/home/calliope/anaconda3/envs/tf_gpu/lib/python3.7/site-packages/traitlets/config/application.py\", line 658, in launch_instance\n    app.start()\n  File \"/home/calliope/anaconda3/envs/tf_gpu/lib/python3.7/site-packages/ipykernel/kernelapp.py\", line 505, in start\n    self.io_loop.start()\n  File \"/home/calliope/anaconda3/envs/tf_gpu/lib/python3.7/site-packages/tornado/platform/asyncio.py\", line 148, in start\n    self.asyncio_loop.run_forever()\n  File \"/home/calliope/anaconda3/envs/tf_gpu/lib/python3.7/asyncio/base_events.py\", line 539, in run_forever\n    self._run_once()\n  File \"/home/calliope/anaconda3/envs/tf_gpu/lib/python3.7/asyncio/base_events.py\", line 1775, in _run_once\n    handle._run()\n  File \"/home/calliope/anaconda3/envs/tf_gpu/lib/python3.7/asyncio/events.py\", line 88, in _run\n    self._context.run(self._callback, *self._args)\n  File \"/home/calliope/anaconda3/envs/tf_gpu/lib/python3.7/site-packages/tornado/ioloop.py\", line 690, in <lambda>\n    lambda f: self._run_callback(functools.partial(callback, future))\n  File \"/home/calliope/anaconda3/envs/tf_gpu/lib/python3.7/site-packages/tornado/ioloop.py\", line 743, in _run_callback\n    ret = callback()\n  File \"/home/calliope/anaconda3/envs/tf_gpu/lib/python3.7/site-packages/tornado/gen.py\", line 781, in inner\n    self.run()\n  File \"/home/calliope/anaconda3/envs/tf_gpu/lib/python3.7/site-packages/tornado/gen.py\", line 742, in run\n    yielded = self.gen.send(value)\n  File \"/home/calliope/anaconda3/envs/tf_gpu/lib/python3.7/site-packages/ipykernel/kernelbase.py\", line 365, in process_one\n    yield gen.maybe_future(dispatch(*args))\n  File \"/home/calliope/anaconda3/envs/tf_gpu/lib/python3.7/site-packages/tornado/gen.py\", line 209, in wrapper\n    yielded = next(result)\n  File \"/home/calliope/anaconda3/envs/tf_gpu/lib/python3.7/site-packages/ipykernel/kernelbase.py\", line 272, in dispatch_shell\n    yield gen.maybe_future(handler(stream, idents, msg))\n  File \"/home/calliope/anaconda3/envs/tf_gpu/lib/python3.7/site-packages/tornado/gen.py\", line 209, in wrapper\n    yielded = next(result)\n  File \"/home/calliope/anaconda3/envs/tf_gpu/lib/python3.7/site-packages/ipykernel/kernelbase.py\", line 542, in execute_request\n    user_expressions, allow_stdin,\n  File \"/home/calliope/anaconda3/envs/tf_gpu/lib/python3.7/site-packages/tornado/gen.py\", line 209, in wrapper\n    yielded = next(result)\n  File \"/home/calliope/anaconda3/envs/tf_gpu/lib/python3.7/site-packages/ipykernel/ipkernel.py\", line 294, in do_execute\n    res = shell.run_cell(code, store_history=store_history, silent=silent)\n  File \"/home/calliope/anaconda3/envs/tf_gpu/lib/python3.7/site-packages/ipykernel/zmqshell.py\", line 536, in run_cell\n    return super(ZMQInteractiveShell, self).run_cell(*args, **kwargs)\n  File \"/home/calliope/anaconda3/envs/tf_gpu/lib/python3.7/site-packages/IPython/core/interactiveshell.py\", line 2848, in run_cell\n    raw_cell, store_history, silent, shell_futures)\n  File \"/home/calliope/anaconda3/envs/tf_gpu/lib/python3.7/site-packages/IPython/core/interactiveshell.py\", line 2874, in _run_cell\n    return runner(coro)\n  File \"/home/calliope/anaconda3/envs/tf_gpu/lib/python3.7/site-packages/IPython/core/async_helpers.py\", line 67, in _pseudo_sync_runner\n    coro.send(None)\n  File \"/home/calliope/anaconda3/envs/tf_gpu/lib/python3.7/site-packages/IPython/core/interactiveshell.py\", line 3049, in run_cell_async\n    interactivity=interactivity, compiler=compiler, result=result)\n  File \"/home/calliope/anaconda3/envs/tf_gpu/lib/python3.7/site-packages/IPython/core/interactiveshell.py\", line 3214, in run_ast_nodes\n    if (yield from self.run_code(code, result)):\n  File \"/home/calliope/anaconda3/envs/tf_gpu/lib/python3.7/site-packages/IPython/core/interactiveshell.py\", line 3296, in run_code\n    exec(code_obj, self.user_global_ns, self.user_ns)\n  File \"<ipython-input-4-8aaba854a6a4>\", line 42, in <module>\n    col_weights=col_wts)\n  File \"/home/calliope/anaconda3/envs/tf_gpu/lib/python3.7/site-packages/tensorflow/contrib/factorization/python/ops/factorization_ops.py\", line 291, in __init__\n    self._col_factors, self._col_gramian)\n  File \"/home/calliope/anaconda3/envs/tf_gpu/lib/python3.7/site-packages/tensorflow/contrib/factorization/python/ops/factorization_ops.py\", line 468, in _prepare_gramian\n    partial_gramians.append(math_ops.matmul(f, f, transpose_a=True))\n  File \"/home/calliope/anaconda3/envs/tf_gpu/lib/python3.7/site-packages/tensorflow/python/ops/math_ops.py\", line 2455, in matmul\n    a, b, transpose_a=transpose_a, transpose_b=transpose_b, name=name)\n  File \"/home/calliope/anaconda3/envs/tf_gpu/lib/python3.7/site-packages/tensorflow/python/ops/gen_math_ops.py\", line 5333, in mat_mul\n    name=name)\n  File \"/home/calliope/anaconda3/envs/tf_gpu/lib/python3.7/site-packages/tensorflow/python/framework/op_def_library.py\", line 788, in _apply_op_helper\n    op_def=op_def)\n  File \"/home/calliope/anaconda3/envs/tf_gpu/lib/python3.7/site-packages/tensorflow/python/util/deprecation.py\", line 507, in new_func\n    return func(*args, **kwargs)\n  File \"/home/calliope/anaconda3/envs/tf_gpu/lib/python3.7/site-packages/tensorflow/python/framework/ops.py\", line 3300, in create_op\n    op_def=op_def)\n  File \"/home/calliope/anaconda3/envs/tf_gpu/lib/python3.7/site-packages/tensorflow/python/framework/ops.py\", line 1801, in __init__\n    self._traceback = tf_stack.extract_stack()\n\nInternalError (see above for traceback): Blas GEMM launch failed : a.shape=(9724, 5), b.shape=(9724, 5), m=5, n=5, k=9724\n\t [[node row_prepare_gramian/MatMul (defined at <ipython-input-4-8aaba854a6a4>:42) ]]\n",
     "output_type": "error",
     "traceback": [
      "\u001b[0;31m---------------------------------------------------------------------------\u001b[0m",
      "\u001b[0;31mInternalError\u001b[0m                             Traceback (most recent call last)",
      "\u001b[0;32m~/anaconda3/envs/tf_gpu/lib/python3.7/site-packages/tensorflow/python/client/session.py\u001b[0m in \u001b[0;36m_do_call\u001b[0;34m(self, fn, *args)\u001b[0m\n\u001b[1;32m   1333\u001b[0m     \u001b[0;32mtry\u001b[0m\u001b[0;34m:\u001b[0m\u001b[0;34m\u001b[0m\u001b[0;34m\u001b[0m\u001b[0m\n\u001b[0;32m-> 1334\u001b[0;31m       \u001b[0;32mreturn\u001b[0m \u001b[0mfn\u001b[0m\u001b[0;34m(\u001b[0m\u001b[0;34m*\u001b[0m\u001b[0margs\u001b[0m\u001b[0;34m)\u001b[0m\u001b[0;34m\u001b[0m\u001b[0;34m\u001b[0m\u001b[0m\n\u001b[0m\u001b[1;32m   1335\u001b[0m     \u001b[0;32mexcept\u001b[0m \u001b[0merrors\u001b[0m\u001b[0;34m.\u001b[0m\u001b[0mOpError\u001b[0m \u001b[0;32mas\u001b[0m \u001b[0me\u001b[0m\u001b[0;34m:\u001b[0m\u001b[0;34m\u001b[0m\u001b[0;34m\u001b[0m\u001b[0m\n",
      "\u001b[0;32m~/anaconda3/envs/tf_gpu/lib/python3.7/site-packages/tensorflow/python/client/session.py\u001b[0m in \u001b[0;36m_run_fn\u001b[0;34m(feed_dict, fetch_list, target_list, options, run_metadata)\u001b[0m\n\u001b[1;32m   1318\u001b[0m       return self._call_tf_sessionrun(\n\u001b[0;32m-> 1319\u001b[0;31m           options, feed_dict, fetch_list, target_list, run_metadata)\n\u001b[0m\u001b[1;32m   1320\u001b[0m \u001b[0;34m\u001b[0m\u001b[0m\n",
      "\u001b[0;32m~/anaconda3/envs/tf_gpu/lib/python3.7/site-packages/tensorflow/python/client/session.py\u001b[0m in \u001b[0;36m_call_tf_sessionrun\u001b[0;34m(self, options, feed_dict, fetch_list, target_list, run_metadata)\u001b[0m\n\u001b[1;32m   1406\u001b[0m         \u001b[0mself\u001b[0m\u001b[0;34m.\u001b[0m\u001b[0m_session\u001b[0m\u001b[0;34m,\u001b[0m \u001b[0moptions\u001b[0m\u001b[0;34m,\u001b[0m \u001b[0mfeed_dict\u001b[0m\u001b[0;34m,\u001b[0m \u001b[0mfetch_list\u001b[0m\u001b[0;34m,\u001b[0m \u001b[0mtarget_list\u001b[0m\u001b[0;34m,\u001b[0m\u001b[0;34m\u001b[0m\u001b[0;34m\u001b[0m\u001b[0m\n\u001b[0;32m-> 1407\u001b[0;31m         run_metadata)\n\u001b[0m\u001b[1;32m   1408\u001b[0m \u001b[0;34m\u001b[0m\u001b[0m\n",
      "\u001b[0;31mInternalError\u001b[0m: Blas GEMM launch failed : a.shape=(9724, 5), b.shape=(9724, 5), m=5, n=5, k=9724\n\t [[{{node row_prepare_gramian/MatMul}}]]",
      "\nDuring handling of the above exception, another exception occurred:\n",
      "\u001b[0;31mInternalError\u001b[0m                             Traceback (most recent call last)",
      "\u001b[0;32m<ipython-input-7-0b8e3ef89888>\u001b[0m in \u001b[0;36m<module>\u001b[0;34m\u001b[0m\n\u001b[1;32m      5\u001b[0m     \u001b[0;31m#####################################################################################\u001b[0m\u001b[0;34m\u001b[0m\u001b[0;34m\u001b[0m\u001b[0;34m\u001b[0m\u001b[0m\n\u001b[1;32m      6\u001b[0m     \u001b[0;31m# ROW SWEEP\u001b[0m\u001b[0;34m\u001b[0m\u001b[0;34m\u001b[0m\u001b[0;34m\u001b[0m\u001b[0m\n\u001b[0;32m----> 7\u001b[0;31m     \u001b[0mmodel\u001b[0m\u001b[0;34m.\u001b[0m\u001b[0mrow_update_prep_gramian_op\u001b[0m\u001b[0;34m.\u001b[0m\u001b[0mrun\u001b[0m\u001b[0;34m(\u001b[0m\u001b[0msession\u001b[0m\u001b[0;34m=\u001b[0m\u001b[0msess\u001b[0m\u001b[0;34m)\u001b[0m                  \u001b[0;31m# Step 1\u001b[0m\u001b[0;34m\u001b[0m\u001b[0;34m\u001b[0m\u001b[0m\n\u001b[0m\u001b[1;32m      8\u001b[0m     \u001b[0mmodel\u001b[0m\u001b[0;34m.\u001b[0m\u001b[0minitialize_row_update_op\u001b[0m\u001b[0;34m.\u001b[0m\u001b[0mrun\u001b[0m\u001b[0;34m(\u001b[0m\u001b[0msession\u001b[0m\u001b[0;34m=\u001b[0m\u001b[0msess\u001b[0m\u001b[0;34m)\u001b[0m                    \u001b[0;31m# Step 2\u001b[0m\u001b[0;34m\u001b[0m\u001b[0;34m\u001b[0m\u001b[0m\n\u001b[1;32m      9\u001b[0m     \u001b[0;32mfor\u001b[0m \u001b[0minp\u001b[0m \u001b[0;32min\u001b[0m \u001b[0minput_scattered_rows\u001b[0m\u001b[0;34m:\u001b[0m\u001b[0;34m\u001b[0m\u001b[0;34m\u001b[0m\u001b[0m\n",
      "\u001b[0;32m~/anaconda3/envs/tf_gpu/lib/python3.7/site-packages/tensorflow/python/framework/ops.py\u001b[0m in \u001b[0;36mrun\u001b[0;34m(self, feed_dict, session)\u001b[0m\n\u001b[1;32m   2448\u001b[0m         \u001b[0mnone\u001b[0m\u001b[0;34m,\u001b[0m \u001b[0mthe\u001b[0m \u001b[0mdefault\u001b[0m \u001b[0msession\u001b[0m \u001b[0mwill\u001b[0m \u001b[0mbe\u001b[0m \u001b[0mused\u001b[0m\u001b[0;34m.\u001b[0m\u001b[0;34m\u001b[0m\u001b[0;34m\u001b[0m\u001b[0m\n\u001b[1;32m   2449\u001b[0m     \"\"\"\n\u001b[0;32m-> 2450\u001b[0;31m     \u001b[0m_run_using_default_session\u001b[0m\u001b[0;34m(\u001b[0m\u001b[0mself\u001b[0m\u001b[0;34m,\u001b[0m \u001b[0mfeed_dict\u001b[0m\u001b[0;34m,\u001b[0m \u001b[0mself\u001b[0m\u001b[0;34m.\u001b[0m\u001b[0mgraph\u001b[0m\u001b[0;34m,\u001b[0m \u001b[0msession\u001b[0m\u001b[0;34m)\u001b[0m\u001b[0;34m\u001b[0m\u001b[0;34m\u001b[0m\u001b[0m\n\u001b[0m\u001b[1;32m   2451\u001b[0m \u001b[0;34m\u001b[0m\u001b[0m\n\u001b[1;32m   2452\u001b[0m \u001b[0m_gradient_registry\u001b[0m \u001b[0;34m=\u001b[0m \u001b[0mregistry\u001b[0m\u001b[0;34m.\u001b[0m\u001b[0mRegistry\u001b[0m\u001b[0;34m(\u001b[0m\u001b[0;34m\"gradient\"\u001b[0m\u001b[0;34m)\u001b[0m\u001b[0;34m\u001b[0m\u001b[0;34m\u001b[0m\u001b[0m\n",
      "\u001b[0;32m~/anaconda3/envs/tf_gpu/lib/python3.7/site-packages/tensorflow/python/framework/ops.py\u001b[0m in \u001b[0;36m_run_using_default_session\u001b[0;34m(operation, feed_dict, graph, session)\u001b[0m\n\u001b[1;32m   5214\u001b[0m                        \u001b[0;34m\"the operation's graph is different from the session's \"\u001b[0m\u001b[0;34m\u001b[0m\u001b[0;34m\u001b[0m\u001b[0m\n\u001b[1;32m   5215\u001b[0m                        \"graph.\")\n\u001b[0;32m-> 5216\u001b[0;31m   \u001b[0msession\u001b[0m\u001b[0;34m.\u001b[0m\u001b[0mrun\u001b[0m\u001b[0;34m(\u001b[0m\u001b[0moperation\u001b[0m\u001b[0;34m,\u001b[0m \u001b[0mfeed_dict\u001b[0m\u001b[0;34m)\u001b[0m\u001b[0;34m\u001b[0m\u001b[0;34m\u001b[0m\u001b[0m\n\u001b[0m\u001b[1;32m   5217\u001b[0m \u001b[0;34m\u001b[0m\u001b[0m\n\u001b[1;32m   5218\u001b[0m \u001b[0;34m\u001b[0m\u001b[0m\n",
      "\u001b[0;32m~/anaconda3/envs/tf_gpu/lib/python3.7/site-packages/tensorflow/python/client/session.py\u001b[0m in \u001b[0;36mrun\u001b[0;34m(self, fetches, feed_dict, options, run_metadata)\u001b[0m\n\u001b[1;32m    927\u001b[0m     \u001b[0;32mtry\u001b[0m\u001b[0;34m:\u001b[0m\u001b[0;34m\u001b[0m\u001b[0;34m\u001b[0m\u001b[0m\n\u001b[1;32m    928\u001b[0m       result = self._run(None, fetches, feed_dict, options_ptr,\n\u001b[0;32m--> 929\u001b[0;31m                          run_metadata_ptr)\n\u001b[0m\u001b[1;32m    930\u001b[0m       \u001b[0;32mif\u001b[0m \u001b[0mrun_metadata\u001b[0m\u001b[0;34m:\u001b[0m\u001b[0;34m\u001b[0m\u001b[0;34m\u001b[0m\u001b[0m\n\u001b[1;32m    931\u001b[0m         \u001b[0mproto_data\u001b[0m \u001b[0;34m=\u001b[0m \u001b[0mtf_session\u001b[0m\u001b[0;34m.\u001b[0m\u001b[0mTF_GetBuffer\u001b[0m\u001b[0;34m(\u001b[0m\u001b[0mrun_metadata_ptr\u001b[0m\u001b[0;34m)\u001b[0m\u001b[0;34m\u001b[0m\u001b[0;34m\u001b[0m\u001b[0m\n",
      "\u001b[0;32m~/anaconda3/envs/tf_gpu/lib/python3.7/site-packages/tensorflow/python/client/session.py\u001b[0m in \u001b[0;36m_run\u001b[0;34m(self, handle, fetches, feed_dict, options, run_metadata)\u001b[0m\n\u001b[1;32m   1150\u001b[0m     \u001b[0;32mif\u001b[0m \u001b[0mfinal_fetches\u001b[0m \u001b[0;32mor\u001b[0m \u001b[0mfinal_targets\u001b[0m \u001b[0;32mor\u001b[0m \u001b[0;34m(\u001b[0m\u001b[0mhandle\u001b[0m \u001b[0;32mand\u001b[0m \u001b[0mfeed_dict_tensor\u001b[0m\u001b[0;34m)\u001b[0m\u001b[0;34m:\u001b[0m\u001b[0;34m\u001b[0m\u001b[0;34m\u001b[0m\u001b[0m\n\u001b[1;32m   1151\u001b[0m       results = self._do_run(handle, final_targets, final_fetches,\n\u001b[0;32m-> 1152\u001b[0;31m                              feed_dict_tensor, options, run_metadata)\n\u001b[0m\u001b[1;32m   1153\u001b[0m     \u001b[0;32melse\u001b[0m\u001b[0;34m:\u001b[0m\u001b[0;34m\u001b[0m\u001b[0;34m\u001b[0m\u001b[0m\n\u001b[1;32m   1154\u001b[0m       \u001b[0mresults\u001b[0m \u001b[0;34m=\u001b[0m \u001b[0;34m[\u001b[0m\u001b[0;34m]\u001b[0m\u001b[0;34m\u001b[0m\u001b[0;34m\u001b[0m\u001b[0m\n",
      "\u001b[0;32m~/anaconda3/envs/tf_gpu/lib/python3.7/site-packages/tensorflow/python/client/session.py\u001b[0m in \u001b[0;36m_do_run\u001b[0;34m(self, handle, target_list, fetch_list, feed_dict, options, run_metadata)\u001b[0m\n\u001b[1;32m   1326\u001b[0m     \u001b[0;32mif\u001b[0m \u001b[0mhandle\u001b[0m \u001b[0;32mis\u001b[0m \u001b[0;32mNone\u001b[0m\u001b[0;34m:\u001b[0m\u001b[0;34m\u001b[0m\u001b[0;34m\u001b[0m\u001b[0m\n\u001b[1;32m   1327\u001b[0m       return self._do_call(_run_fn, feeds, fetches, targets, options,\n\u001b[0;32m-> 1328\u001b[0;31m                            run_metadata)\n\u001b[0m\u001b[1;32m   1329\u001b[0m     \u001b[0;32melse\u001b[0m\u001b[0;34m:\u001b[0m\u001b[0;34m\u001b[0m\u001b[0;34m\u001b[0m\u001b[0m\n\u001b[1;32m   1330\u001b[0m       \u001b[0;32mreturn\u001b[0m \u001b[0mself\u001b[0m\u001b[0;34m.\u001b[0m\u001b[0m_do_call\u001b[0m\u001b[0;34m(\u001b[0m\u001b[0m_prun_fn\u001b[0m\u001b[0;34m,\u001b[0m \u001b[0mhandle\u001b[0m\u001b[0;34m,\u001b[0m \u001b[0mfeeds\u001b[0m\u001b[0;34m,\u001b[0m \u001b[0mfetches\u001b[0m\u001b[0;34m)\u001b[0m\u001b[0;34m\u001b[0m\u001b[0;34m\u001b[0m\u001b[0m\n",
      "\u001b[0;32m~/anaconda3/envs/tf_gpu/lib/python3.7/site-packages/tensorflow/python/client/session.py\u001b[0m in \u001b[0;36m_do_call\u001b[0;34m(self, fn, *args)\u001b[0m\n\u001b[1;32m   1346\u001b[0m           \u001b[0;32mpass\u001b[0m\u001b[0;34m\u001b[0m\u001b[0;34m\u001b[0m\u001b[0m\n\u001b[1;32m   1347\u001b[0m       \u001b[0mmessage\u001b[0m \u001b[0;34m=\u001b[0m \u001b[0merror_interpolation\u001b[0m\u001b[0;34m.\u001b[0m\u001b[0minterpolate\u001b[0m\u001b[0;34m(\u001b[0m\u001b[0mmessage\u001b[0m\u001b[0;34m,\u001b[0m \u001b[0mself\u001b[0m\u001b[0;34m.\u001b[0m\u001b[0m_graph\u001b[0m\u001b[0;34m)\u001b[0m\u001b[0;34m\u001b[0m\u001b[0;34m\u001b[0m\u001b[0m\n\u001b[0;32m-> 1348\u001b[0;31m       \u001b[0;32mraise\u001b[0m \u001b[0mtype\u001b[0m\u001b[0;34m(\u001b[0m\u001b[0me\u001b[0m\u001b[0;34m)\u001b[0m\u001b[0;34m(\u001b[0m\u001b[0mnode_def\u001b[0m\u001b[0;34m,\u001b[0m \u001b[0mop\u001b[0m\u001b[0;34m,\u001b[0m \u001b[0mmessage\u001b[0m\u001b[0;34m)\u001b[0m\u001b[0;34m\u001b[0m\u001b[0;34m\u001b[0m\u001b[0m\n\u001b[0m\u001b[1;32m   1349\u001b[0m \u001b[0;34m\u001b[0m\u001b[0m\n\u001b[1;32m   1350\u001b[0m   \u001b[0;32mdef\u001b[0m \u001b[0m_extend_graph\u001b[0m\u001b[0;34m(\u001b[0m\u001b[0mself\u001b[0m\u001b[0;34m)\u001b[0m\u001b[0;34m:\u001b[0m\u001b[0;34m\u001b[0m\u001b[0;34m\u001b[0m\u001b[0m\n",
      "\u001b[0;31mInternalError\u001b[0m: Blas GEMM launch failed : a.shape=(9724, 5), b.shape=(9724, 5), m=5, n=5, k=9724\n\t [[node row_prepare_gramian/MatMul (defined at <ipython-input-4-8aaba854a6a4>:42) ]]\n\nCaused by op 'row_prepare_gramian/MatMul', defined at:\n  File \"/home/calliope/anaconda3/envs/tf_gpu/lib/python3.7/runpy.py\", line 193, in _run_module_as_main\n    \"__main__\", mod_spec)\n  File \"/home/calliope/anaconda3/envs/tf_gpu/lib/python3.7/runpy.py\", line 85, in _run_code\n    exec(code, run_globals)\n  File \"/home/calliope/anaconda3/envs/tf_gpu/lib/python3.7/site-packages/ipykernel_launcher.py\", line 16, in <module>\n    app.launch_new_instance()\n  File \"/home/calliope/anaconda3/envs/tf_gpu/lib/python3.7/site-packages/traitlets/config/application.py\", line 658, in launch_instance\n    app.start()\n  File \"/home/calliope/anaconda3/envs/tf_gpu/lib/python3.7/site-packages/ipykernel/kernelapp.py\", line 505, in start\n    self.io_loop.start()\n  File \"/home/calliope/anaconda3/envs/tf_gpu/lib/python3.7/site-packages/tornado/platform/asyncio.py\", line 148, in start\n    self.asyncio_loop.run_forever()\n  File \"/home/calliope/anaconda3/envs/tf_gpu/lib/python3.7/asyncio/base_events.py\", line 539, in run_forever\n    self._run_once()\n  File \"/home/calliope/anaconda3/envs/tf_gpu/lib/python3.7/asyncio/base_events.py\", line 1775, in _run_once\n    handle._run()\n  File \"/home/calliope/anaconda3/envs/tf_gpu/lib/python3.7/asyncio/events.py\", line 88, in _run\n    self._context.run(self._callback, *self._args)\n  File \"/home/calliope/anaconda3/envs/tf_gpu/lib/python3.7/site-packages/tornado/ioloop.py\", line 690, in <lambda>\n    lambda f: self._run_callback(functools.partial(callback, future))\n  File \"/home/calliope/anaconda3/envs/tf_gpu/lib/python3.7/site-packages/tornado/ioloop.py\", line 743, in _run_callback\n    ret = callback()\n  File \"/home/calliope/anaconda3/envs/tf_gpu/lib/python3.7/site-packages/tornado/gen.py\", line 781, in inner\n    self.run()\n  File \"/home/calliope/anaconda3/envs/tf_gpu/lib/python3.7/site-packages/tornado/gen.py\", line 742, in run\n    yielded = self.gen.send(value)\n  File \"/home/calliope/anaconda3/envs/tf_gpu/lib/python3.7/site-packages/ipykernel/kernelbase.py\", line 365, in process_one\n    yield gen.maybe_future(dispatch(*args))\n  File \"/home/calliope/anaconda3/envs/tf_gpu/lib/python3.7/site-packages/tornado/gen.py\", line 209, in wrapper\n    yielded = next(result)\n  File \"/home/calliope/anaconda3/envs/tf_gpu/lib/python3.7/site-packages/ipykernel/kernelbase.py\", line 272, in dispatch_shell\n    yield gen.maybe_future(handler(stream, idents, msg))\n  File \"/home/calliope/anaconda3/envs/tf_gpu/lib/python3.7/site-packages/tornado/gen.py\", line 209, in wrapper\n    yielded = next(result)\n  File \"/home/calliope/anaconda3/envs/tf_gpu/lib/python3.7/site-packages/ipykernel/kernelbase.py\", line 542, in execute_request\n    user_expressions, allow_stdin,\n  File \"/home/calliope/anaconda3/envs/tf_gpu/lib/python3.7/site-packages/tornado/gen.py\", line 209, in wrapper\n    yielded = next(result)\n  File \"/home/calliope/anaconda3/envs/tf_gpu/lib/python3.7/site-packages/ipykernel/ipkernel.py\", line 294, in do_execute\n    res = shell.run_cell(code, store_history=store_history, silent=silent)\n  File \"/home/calliope/anaconda3/envs/tf_gpu/lib/python3.7/site-packages/ipykernel/zmqshell.py\", line 536, in run_cell\n    return super(ZMQInteractiveShell, self).run_cell(*args, **kwargs)\n  File \"/home/calliope/anaconda3/envs/tf_gpu/lib/python3.7/site-packages/IPython/core/interactiveshell.py\", line 2848, in run_cell\n    raw_cell, store_history, silent, shell_futures)\n  File \"/home/calliope/anaconda3/envs/tf_gpu/lib/python3.7/site-packages/IPython/core/interactiveshell.py\", line 2874, in _run_cell\n    return runner(coro)\n  File \"/home/calliope/anaconda3/envs/tf_gpu/lib/python3.7/site-packages/IPython/core/async_helpers.py\", line 67, in _pseudo_sync_runner\n    coro.send(None)\n  File \"/home/calliope/anaconda3/envs/tf_gpu/lib/python3.7/site-packages/IPython/core/interactiveshell.py\", line 3049, in run_cell_async\n    interactivity=interactivity, compiler=compiler, result=result)\n  File \"/home/calliope/anaconda3/envs/tf_gpu/lib/python3.7/site-packages/IPython/core/interactiveshell.py\", line 3214, in run_ast_nodes\n    if (yield from self.run_code(code, result)):\n  File \"/home/calliope/anaconda3/envs/tf_gpu/lib/python3.7/site-packages/IPython/core/interactiveshell.py\", line 3296, in run_code\n    exec(code_obj, self.user_global_ns, self.user_ns)\n  File \"<ipython-input-4-8aaba854a6a4>\", line 42, in <module>\n    col_weights=col_wts)\n  File \"/home/calliope/anaconda3/envs/tf_gpu/lib/python3.7/site-packages/tensorflow/contrib/factorization/python/ops/factorization_ops.py\", line 291, in __init__\n    self._col_factors, self._col_gramian)\n  File \"/home/calliope/anaconda3/envs/tf_gpu/lib/python3.7/site-packages/tensorflow/contrib/factorization/python/ops/factorization_ops.py\", line 468, in _prepare_gramian\n    partial_gramians.append(math_ops.matmul(f, f, transpose_a=True))\n  File \"/home/calliope/anaconda3/envs/tf_gpu/lib/python3.7/site-packages/tensorflow/python/ops/math_ops.py\", line 2455, in matmul\n    a, b, transpose_a=transpose_a, transpose_b=transpose_b, name=name)\n  File \"/home/calliope/anaconda3/envs/tf_gpu/lib/python3.7/site-packages/tensorflow/python/ops/gen_math_ops.py\", line 5333, in mat_mul\n    name=name)\n  File \"/home/calliope/anaconda3/envs/tf_gpu/lib/python3.7/site-packages/tensorflow/python/framework/op_def_library.py\", line 788, in _apply_op_helper\n    op_def=op_def)\n  File \"/home/calliope/anaconda3/envs/tf_gpu/lib/python3.7/site-packages/tensorflow/python/util/deprecation.py\", line 507, in new_func\n    return func(*args, **kwargs)\n  File \"/home/calliope/anaconda3/envs/tf_gpu/lib/python3.7/site-packages/tensorflow/python/framework/ops.py\", line 3300, in create_op\n    op_def=op_def)\n  File \"/home/calliope/anaconda3/envs/tf_gpu/lib/python3.7/site-packages/tensorflow/python/framework/ops.py\", line 1801, in __init__\n    self._traceback = tf_stack.extract_stack()\n\nInternalError (see above for traceback): Blas GEMM launch failed : a.shape=(9724, 5), b.shape=(9724, 5), m=5, n=5, k=9724\n\t [[node row_prepare_gramian/MatMul (defined at <ipython-input-4-8aaba854a6a4>:42) ]]\n"
     ]
    }
   ],
   "source": [
    "print(\"\\nTraining....\\n\")\n",
    "num_iterations = 1\n",
    "for i in range(num_iterations):\n",
    "\n",
    "    #####################################################################################\n",
    "    # ROW SWEEP\n",
    "    model.row_update_prep_gramian_op.run(session=sess)                  # Step 1\n",
    "    model.initialize_row_update_op.run(session=sess)                    # Step 2\n",
    "    for inp in input_scattered_rows:\n",
    "        feed_dict = {sp_feeder_row: inp}\n",
    "        slice_row.run(session=sess, feed_dict=feed_dict)                # Step 3\n",
    "    row_factors = [x.eval(session=sess) for x in model.row_factors]\n",
    "\n",
    "    # COLUMN SWEEP\n",
    "    model.col_update_prep_gramian_op.run(session=sess)                  # Step 1\n",
    "    model.initialize_col_update_op.run(session=sess)                    # Step 2\n",
    "    for inp in input_scattered_cols:\n",
    "        feed_dict = {sp_feeder_col: inp}\n",
    "        slice_col.run(session=sess, feed_dict=feed_dict)                # Step 3\n",
    "    col_factors = [x.eval(session=sess) for x in model.col_factors]\n",
    "    #####################################################################################\n",
    "\n",
    "    if i%2 == 0:\n",
    "        print(\"\\nEvaluating..: \", i, \"/\", num_iterations)\n",
    "        evaluate_model(sess, train_sparse, test_sparse, row_factors[0], col_factors[0])\n",
    "\n",
    "# if num_iterations%3 == 0:\n",
    "print(\"\\nEvaluating..: \", num_iterations, \"/\", num_iterations)\n",
    "evaluate_model(sess, train_sparse, test_sparse, row_factors[0], col_factors[0])"
   ]
  },
  {
   "cell_type": "code",
   "execution_count": 11,
   "metadata": {},
   "outputs": [],
   "source": [
    "sess.close()"
   ]
  },
  {
   "cell_type": "markdown",
   "metadata": {},
   "source": [
    "### Save Model"
   ]
  },
  {
   "cell_type": "code",
   "execution_count": 14,
   "metadata": {},
   "outputs": [],
   "source": [
    "print(\"\\Saving Model....\\n\")\n",
    "\n",
    "# Evaluate output factor matrices\n",
    "output_row = row_factor.eval(session=sess)\n",
    "output_col = col_factor.eval(session=sess)\n",
    "\n",
    "model_dir = os.path.join(\"Saved-Models\", 'WALS')\n",
    "os.makedirs(model_dir)\n",
    "np.save(os.path.join(model_dir, 'user'), np_users)\n",
    "np.save(os.path.join(model_dir, 'movie'), movies_map)\n",
    "np.save(os.path.join(model_dir, 'row'), output_row)\n",
    "np.save(os.path.join(model_dir, 'col'), output_col)"
   ]
  },
  {
   "cell_type": "markdown",
   "metadata": {},
   "source": [
    "### Results\n",
    "Compute RMSE and MAE between predicted and actual ratings."
   ]
  },
  {
   "cell_type": "code",
   "execution_count": 2,
   "metadata": {},
   "outputs": [],
   "source": [
    "evaluate_model(sess, train_sparse, test_sparse, row_factor, col_factor)"
   ]
  },
  {
   "cell_type": "markdown",
   "metadata": {},
   "source": [
    "### Make Recommendations"
   ]
  },
  {
   "cell_type": "code",
   "execution_count": null,
   "metadata": {},
   "outputs": [],
   "source": [
    "# int k = 5\n"
   ]
  }
 ],
 "metadata": {
  "kernelspec": {
   "display_name": "Python (tf_gpu)",
   "language": "python",
   "name": "tf_gpu"
  },
  "language_info": {
   "codemirror_mode": {
    "name": "ipython",
    "version": 3
   },
   "file_extension": ".py",
   "mimetype": "text/x-python",
   "name": "python",
   "nbconvert_exporter": "python",
   "pygments_lexer": "ipython3",
   "version": "3.7.3"
  }
 },
 "nbformat": 4,
 "nbformat_minor": 2
}
