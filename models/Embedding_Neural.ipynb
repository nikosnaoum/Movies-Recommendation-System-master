{
 "cells": [
  {
   "cell_type": "code",
   "execution_count": 1,
   "metadata": {
    "pycharm": {
     "is_executing": false,
     "metadata": false,
     "name": "#%%\n"
    }
   },
   "outputs": [
    {
     "name": "stderr",
     "output_type": "stream",
     "text": [
      "Using TensorFlow backend.\n"
     ]
    },
    {
     "data": {
      "text/plain": [
       "['/job:localhost/replica:0/task:0/device:GPU:0']"
      ]
     },
     "execution_count": 1,
     "metadata": {},
     "output_type": "execute_result"
    }
   ],
   "source": [
    "import pandas as pd\n",
    "from matplotlib import pyplot as plt\n",
    "from IPython.display import SVG\n",
    "import keras\n",
    "from keras.optimizers import Adam\n",
    "from keras.utils.vis_utils import model_to_dot\n",
    "from sklearn.metrics import mean_absolute_error\n",
    "from sklearn.metrics import mean_squared_error\n",
    "from math import sqrt\n",
    "from keras import backend as K\n",
    "from sklearn.model_selection import train_test_split\n",
    "from keras.models import load_model\n",
    "\n",
    "\n",
    "\n",
    "K.tensorflow_backend._get_available_gpus()"
   ]
  },
  {
   "cell_type": "code",
   "execution_count": 2,
   "metadata": {
    "pycharm": {
     "metadata": false,
     "name": "#%%\n"
    }
   },
   "outputs": [
    {
     "name": "stdout",
     "output_type": "stream",
     "text": [
      "   userId  movieId  rating   timestamp             title  \\\n",
      "0       0        0     4.0   964982703  Toy Story (1995)   \n",
      "1       4        0     4.0   847434962  Toy Story (1995)   \n",
      "2       6        0     4.5  1106635946  Toy Story (1995)   \n",
      "3      14        0     2.5  1510577970  Toy Story (1995)   \n",
      "4      16        0     4.5  1305696483  Toy Story (1995)   \n",
      "\n",
      "                                        genres  \n",
      "0  Adventure|Animation|Children|Comedy|Fantasy  \n",
      "1  Adventure|Animation|Children|Comedy|Fantasy  \n",
      "2  Adventure|Animation|Children|Comedy|Fantasy  \n",
      "3  Adventure|Animation|Children|Comedy|Fantasy  \n",
      "4  Adventure|Animation|Children|Comedy|Fantasy  \n"
     ]
    }
   ],
   "source": [
    "ratings = pd.read_csv('ml-latest-small/ratings.csv')\n",
    "movies = pd.read_csv('ml-latest-small/movies.csv')\n",
    "\n",
    "#ratings = pd.read_csv('ml-20m/ratings.csv')\n",
    "#movies = pd.read_csv('ml-20m/movies.csv')\n",
    "#print(movies.head())\n",
    "\n",
    "ratings = pd.merge(ratings, movies, on='movieId')\n",
    "\n",
    "ratings.userId = ratings.userId.astype('category').cat.codes.values\n",
    "ratings.movieId = ratings.movieId.astype('category').cat.codes.values\n",
    "print(ratings.head())"
   ]
  },
  {
   "cell_type": "markdown",
   "metadata": {
    "pycharm": {
     "metadata": false
    }
   },
   "source": [
    "Dataset split"
   ]
  },
  {
   "cell_type": "code",
   "execution_count": 3,
   "metadata": {
    "pycharm": {
     "metadata": false,
     "name": "#%%\n"
    }
   },
   "outputs": [
    {
     "name": "stdout",
     "output_type": "stream",
     "text": [
      "Number of users: 610\n",
      "Number of movies: 9724\n",
      "Number of rows in test data set: 5042\n",
      "Number of rows in training data set: 95794\n"
     ]
    }
   ],
   "source": [
    "n_users, n_movies = len(ratings['userId'].unique()), len(ratings['movieId'].unique())\n",
    "print(\"Number of users:\",n_users)\n",
    "print(\"Number of movies:\",n_movies)\n",
    "\n",
    "\n",
    "train, test = train_test_split(ratings, test_size=0.05)\n",
    "print(\"Number of rows in test data set:\", (len(test)))\n",
    "print(\"Number of rows in training data set:\",(len(train)))"
   ]
  },
  {
   "cell_type": "code",
   "execution_count": 4,
   "metadata": {
    "pycharm": {
     "metadata": false,
     "name": "#%%\n"
    }
   },
   "outputs": [
    {
     "name": "stdout",
     "output_type": "stream",
     "text": [
      "WARNING:tensorflow:From C:\\Users\\machine\\Anaconda3\\envs\\tf_gpu\\lib\\site-packages\\tensorflow\\python\\framework\\op_def_library.py:263: colocate_with (from tensorflow.python.framework.ops) is deprecated and will be removed in a future version.\n",
      "Instructions for updating:\n",
      "Colocations handled automatically by placer.\n",
      "WARNING:tensorflow:From C:\\Users\\machine\\Anaconda3\\envs\\tf_gpu\\lib\\site-packages\\keras\\backend\\tensorflow_backend.py:3445: calling dropout (from tensorflow.python.ops.nn_ops) with keep_prob is deprecated and will be removed in a future version.\n",
      "Instructions for updating:\n",
      "Please use `rate` instead of `keep_prob`. Rate should be set to `rate = 1 - keep_prob`.\n"
     ]
    },
    {
     "data": {
      "image/svg+xml": [
       "<svg height=\"719pt\" viewBox=\"0.00 0.00 679.50 719.00\" width=\"680pt\" xmlns=\"http://www.w3.org/2000/svg\" xmlns:xlink=\"http://www.w3.org/1999/xlink\">\n",
       "<g class=\"graph\" id=\"graph0\" transform=\"scale(1 1) rotate(0) translate(4 715)\">\n",
       "<title>G</title>\n",
       "<polygon fill=\"white\" points=\"-4,4 -4,-715 675.5,-715 675.5,4 -4,4\" stroke=\"none\"/>\n",
       "<!-- 1712752486160 -->\n",
       "<g class=\"node\" id=\"node1\"><title>1712752486160</title>\n",
       "<polygon fill=\"none\" points=\"43,-664.5 43,-710.5 288,-710.5 288,-664.5 43,-664.5\" stroke=\"black\"/>\n",
       "<text font-family=\"Times New Roman,serif\" font-size=\"14.00\" text-anchor=\"middle\" x=\"102.5\" y=\"-683.8\">Movie: InputLayer</text>\n",
       "<polyline fill=\"none\" points=\"162,-664.5 162,-710.5 \" stroke=\"black\"/>\n",
       "<text font-family=\"Times New Roman,serif\" font-size=\"14.00\" text-anchor=\"middle\" x=\"190\" y=\"-695.3\">input:</text>\n",
       "<polyline fill=\"none\" points=\"162,-687.5 218,-687.5 \" stroke=\"black\"/>\n",
       "<text font-family=\"Times New Roman,serif\" font-size=\"14.00\" text-anchor=\"middle\" x=\"190\" y=\"-672.3\">output:</text>\n",
       "<polyline fill=\"none\" points=\"218,-664.5 218,-710.5 \" stroke=\"black\"/>\n",
       "<text font-family=\"Times New Roman,serif\" font-size=\"14.00\" text-anchor=\"middle\" x=\"253\" y=\"-695.3\">(None, 1)</text>\n",
       "<polyline fill=\"none\" points=\"218,-687.5 288,-687.5 \" stroke=\"black\"/>\n",
       "<text font-family=\"Times New Roman,serif\" font-size=\"14.00\" text-anchor=\"middle\" x=\"253\" y=\"-672.3\">(None, 1)</text>\n",
       "</g>\n",
       "<!-- 1712752486272 -->\n",
       "<g class=\"node\" id=\"node3\"><title>1712752486272</title>\n",
       "<polygon fill=\"none\" points=\"0,-581.5 0,-627.5 331,-627.5 331,-581.5 0,-581.5\" stroke=\"black\"/>\n",
       "<text font-family=\"Times New Roman,serif\" font-size=\"14.00\" text-anchor=\"middle\" x=\"95.5\" y=\"-600.8\">Movie-Embedding: Embedding</text>\n",
       "<polyline fill=\"none\" points=\"191,-581.5 191,-627.5 \" stroke=\"black\"/>\n",
       "<text font-family=\"Times New Roman,serif\" font-size=\"14.00\" text-anchor=\"middle\" x=\"219\" y=\"-612.3\">input:</text>\n",
       "<polyline fill=\"none\" points=\"191,-604.5 247,-604.5 \" stroke=\"black\"/>\n",
       "<text font-family=\"Times New Roman,serif\" font-size=\"14.00\" text-anchor=\"middle\" x=\"219\" y=\"-589.3\">output:</text>\n",
       "<polyline fill=\"none\" points=\"247,-581.5 247,-627.5 \" stroke=\"black\"/>\n",
       "<text font-family=\"Times New Roman,serif\" font-size=\"14.00\" text-anchor=\"middle\" x=\"289\" y=\"-612.3\">(None, 1)</text>\n",
       "<polyline fill=\"none\" points=\"247,-604.5 331,-604.5 \" stroke=\"black\"/>\n",
       "<text font-family=\"Times New Roman,serif\" font-size=\"14.00\" text-anchor=\"middle\" x=\"289\" y=\"-589.3\">(None, 1, 8)</text>\n",
       "</g>\n",
       "<!-- 1712752486160&#45;&gt;1712752486272 -->\n",
       "<g class=\"edge\" id=\"edge1\"><title>1712752486160-&gt;1712752486272</title>\n",
       "<path d=\"M165.5,-664.366C165.5,-656.152 165.5,-646.658 165.5,-637.725\" fill=\"none\" stroke=\"black\"/>\n",
       "<polygon fill=\"black\" points=\"169,-637.607 165.5,-627.607 162,-637.607 169,-637.607\" stroke=\"black\"/>\n",
       "</g>\n",
       "<!-- 1712752486216 -->\n",
       "<g class=\"node\" id=\"node2\"><title>1712752486216</title>\n",
       "<polygon fill=\"none\" points=\"392.5,-664.5 392.5,-710.5 628.5,-710.5 628.5,-664.5 392.5,-664.5\" stroke=\"black\"/>\n",
       "<text font-family=\"Times New Roman,serif\" font-size=\"14.00\" text-anchor=\"middle\" x=\"447.5\" y=\"-683.8\">User: InputLayer</text>\n",
       "<polyline fill=\"none\" points=\"502.5,-664.5 502.5,-710.5 \" stroke=\"black\"/>\n",
       "<text font-family=\"Times New Roman,serif\" font-size=\"14.00\" text-anchor=\"middle\" x=\"530.5\" y=\"-695.3\">input:</text>\n",
       "<polyline fill=\"none\" points=\"502.5,-687.5 558.5,-687.5 \" stroke=\"black\"/>\n",
       "<text font-family=\"Times New Roman,serif\" font-size=\"14.00\" text-anchor=\"middle\" x=\"530.5\" y=\"-672.3\">output:</text>\n",
       "<polyline fill=\"none\" points=\"558.5,-664.5 558.5,-710.5 \" stroke=\"black\"/>\n",
       "<text font-family=\"Times New Roman,serif\" font-size=\"14.00\" text-anchor=\"middle\" x=\"593.5\" y=\"-695.3\">(None, 1)</text>\n",
       "<polyline fill=\"none\" points=\"558.5,-687.5 628.5,-687.5 \" stroke=\"black\"/>\n",
       "<text font-family=\"Times New Roman,serif\" font-size=\"14.00\" text-anchor=\"middle\" x=\"593.5\" y=\"-672.3\">(None, 1)</text>\n",
       "</g>\n",
       "<!-- 1712752487280 -->\n",
       "<g class=\"node\" id=\"node4\"><title>1712752487280</title>\n",
       "<polygon fill=\"none\" points=\"349.5,-581.5 349.5,-627.5 671.5,-627.5 671.5,-581.5 349.5,-581.5\" stroke=\"black\"/>\n",
       "<text font-family=\"Times New Roman,serif\" font-size=\"14.00\" text-anchor=\"middle\" x=\"440.5\" y=\"-600.8\">User-Embedding: Embedding</text>\n",
       "<polyline fill=\"none\" points=\"531.5,-581.5 531.5,-627.5 \" stroke=\"black\"/>\n",
       "<text font-family=\"Times New Roman,serif\" font-size=\"14.00\" text-anchor=\"middle\" x=\"559.5\" y=\"-612.3\">input:</text>\n",
       "<polyline fill=\"none\" points=\"531.5,-604.5 587.5,-604.5 \" stroke=\"black\"/>\n",
       "<text font-family=\"Times New Roman,serif\" font-size=\"14.00\" text-anchor=\"middle\" x=\"559.5\" y=\"-589.3\">output:</text>\n",
       "<polyline fill=\"none\" points=\"587.5,-581.5 587.5,-627.5 \" stroke=\"black\"/>\n",
       "<text font-family=\"Times New Roman,serif\" font-size=\"14.00\" text-anchor=\"middle\" x=\"629.5\" y=\"-612.3\">(None, 1)</text>\n",
       "<polyline fill=\"none\" points=\"587.5,-604.5 671.5,-604.5 \" stroke=\"black\"/>\n",
       "<text font-family=\"Times New Roman,serif\" font-size=\"14.00\" text-anchor=\"middle\" x=\"629.5\" y=\"-589.3\">(None, 1, 5)</text>\n",
       "</g>\n",
       "<!-- 1712752486216&#45;&gt;1712752487280 -->\n",
       "<g class=\"edge\" id=\"edge2\"><title>1712752486216-&gt;1712752487280</title>\n",
       "<path d=\"M510.5,-664.366C510.5,-656.152 510.5,-646.658 510.5,-637.725\" fill=\"none\" stroke=\"black\"/>\n",
       "<polygon fill=\"black\" points=\"514,-637.607 510.5,-627.607 507,-637.607 514,-637.607\" stroke=\"black\"/>\n",
       "</g>\n",
       "<!-- 1712752487000 -->\n",
       "<g class=\"node\" id=\"node5\"><title>1712752487000</title>\n",
       "<polygon fill=\"none\" points=\"50.5,-498.5 50.5,-544.5 330.5,-544.5 330.5,-498.5 50.5,-498.5\" stroke=\"black\"/>\n",
       "<text font-family=\"Times New Roman,serif\" font-size=\"14.00\" text-anchor=\"middle\" x=\"120.5\" y=\"-517.8\">FlattenMovies: Flatten</text>\n",
       "<polyline fill=\"none\" points=\"190.5,-498.5 190.5,-544.5 \" stroke=\"black\"/>\n",
       "<text font-family=\"Times New Roman,serif\" font-size=\"14.00\" text-anchor=\"middle\" x=\"218.5\" y=\"-529.3\">input:</text>\n",
       "<polyline fill=\"none\" points=\"190.5,-521.5 246.5,-521.5 \" stroke=\"black\"/>\n",
       "<text font-family=\"Times New Roman,serif\" font-size=\"14.00\" text-anchor=\"middle\" x=\"218.5\" y=\"-506.3\">output:</text>\n",
       "<polyline fill=\"none\" points=\"246.5,-498.5 246.5,-544.5 \" stroke=\"black\"/>\n",
       "<text font-family=\"Times New Roman,serif\" font-size=\"14.00\" text-anchor=\"middle\" x=\"288.5\" y=\"-529.3\">(None, 1, 8)</text>\n",
       "<polyline fill=\"none\" points=\"246.5,-521.5 330.5,-521.5 \" stroke=\"black\"/>\n",
       "<text font-family=\"Times New Roman,serif\" font-size=\"14.00\" text-anchor=\"middle\" x=\"288.5\" y=\"-506.3\">(None, 8)</text>\n",
       "</g>\n",
       "<!-- 1712752486272&#45;&gt;1712752487000 -->\n",
       "<g class=\"edge\" id=\"edge3\"><title>1712752486272-&gt;1712752487000</title>\n",
       "<path d=\"M172.331,-581.366C174.894,-573.062 177.861,-563.451 180.644,-554.434\" fill=\"none\" stroke=\"black\"/>\n",
       "<polygon fill=\"black\" points=\"184.072,-555.194 183.677,-544.607 177.383,-553.13 184.072,-555.194\" stroke=\"black\"/>\n",
       "</g>\n",
       "<!-- 1712752486944 -->\n",
       "<g class=\"node\" id=\"node6\"><title>1712752486944</title>\n",
       "<polygon fill=\"none\" points=\"362,-498.5 362,-544.5 633,-544.5 633,-498.5 362,-498.5\" stroke=\"black\"/>\n",
       "<text font-family=\"Times New Roman,serif\" font-size=\"14.00\" text-anchor=\"middle\" x=\"427.5\" y=\"-517.8\">FlattenUsers: Flatten</text>\n",
       "<polyline fill=\"none\" points=\"493,-498.5 493,-544.5 \" stroke=\"black\"/>\n",
       "<text font-family=\"Times New Roman,serif\" font-size=\"14.00\" text-anchor=\"middle\" x=\"521\" y=\"-529.3\">input:</text>\n",
       "<polyline fill=\"none\" points=\"493,-521.5 549,-521.5 \" stroke=\"black\"/>\n",
       "<text font-family=\"Times New Roman,serif\" font-size=\"14.00\" text-anchor=\"middle\" x=\"521\" y=\"-506.3\">output:</text>\n",
       "<polyline fill=\"none\" points=\"549,-498.5 549,-544.5 \" stroke=\"black\"/>\n",
       "<text font-family=\"Times New Roman,serif\" font-size=\"14.00\" text-anchor=\"middle\" x=\"591\" y=\"-529.3\">(None, 1, 5)</text>\n",
       "<polyline fill=\"none\" points=\"549,-521.5 633,-521.5 \" stroke=\"black\"/>\n",
       "<text font-family=\"Times New Roman,serif\" font-size=\"14.00\" text-anchor=\"middle\" x=\"591\" y=\"-506.3\">(None, 5)</text>\n",
       "</g>\n",
       "<!-- 1712752487280&#45;&gt;1712752486944 -->\n",
       "<g class=\"edge\" id=\"edge4\"><title>1712752487280-&gt;1712752486944</title>\n",
       "<path d=\"M506.948,-581.366C505.629,-573.152 504.106,-563.658 502.672,-554.725\" fill=\"none\" stroke=\"black\"/>\n",
       "<polygon fill=\"black\" points=\"506.089,-553.926 501.048,-544.607 499.177,-555.035 506.089,-553.926\" stroke=\"black\"/>\n",
       "</g>\n",
       "<!-- 1712752487056 -->\n",
       "<g class=\"node\" id=\"node7\"><title>1712752487056</title>\n",
       "<polygon fill=\"none\" points=\"78.5,-415.5 78.5,-461.5 334.5,-461.5 334.5,-415.5 78.5,-415.5\" stroke=\"black\"/>\n",
       "<text font-family=\"Times New Roman,serif\" font-size=\"14.00\" text-anchor=\"middle\" x=\"143.5\" y=\"-434.8\">dropout_1: Dropout</text>\n",
       "<polyline fill=\"none\" points=\"208.5,-415.5 208.5,-461.5 \" stroke=\"black\"/>\n",
       "<text font-family=\"Times New Roman,serif\" font-size=\"14.00\" text-anchor=\"middle\" x=\"236.5\" y=\"-446.3\">input:</text>\n",
       "<polyline fill=\"none\" points=\"208.5,-438.5 264.5,-438.5 \" stroke=\"black\"/>\n",
       "<text font-family=\"Times New Roman,serif\" font-size=\"14.00\" text-anchor=\"middle\" x=\"236.5\" y=\"-423.3\">output:</text>\n",
       "<polyline fill=\"none\" points=\"264.5,-415.5 264.5,-461.5 \" stroke=\"black\"/>\n",
       "<text font-family=\"Times New Roman,serif\" font-size=\"14.00\" text-anchor=\"middle\" x=\"299.5\" y=\"-446.3\">(None, 8)</text>\n",
       "<polyline fill=\"none\" points=\"264.5,-438.5 334.5,-438.5 \" stroke=\"black\"/>\n",
       "<text font-family=\"Times New Roman,serif\" font-size=\"14.00\" text-anchor=\"middle\" x=\"299.5\" y=\"-423.3\">(None, 8)</text>\n",
       "</g>\n",
       "<!-- 1712752487000&#45;&gt;1712752487056 -->\n",
       "<g class=\"edge\" id=\"edge5\"><title>1712752487000-&gt;1712752487056</title>\n",
       "<path d=\"M194.872,-498.366C196.512,-490.062 198.411,-480.451 200.192,-471.434\" fill=\"none\" stroke=\"black\"/>\n",
       "<polygon fill=\"black\" points=\"203.629,-472.096 202.133,-461.607 196.762,-470.739 203.629,-472.096\" stroke=\"black\"/>\n",
       "</g>\n",
       "<!-- 1712752488064 -->\n",
       "<g class=\"node\" id=\"node8\"><title>1712752488064</title>\n",
       "<polygon fill=\"none\" points=\"360.5,-415.5 360.5,-461.5 616.5,-461.5 616.5,-415.5 360.5,-415.5\" stroke=\"black\"/>\n",
       "<text font-family=\"Times New Roman,serif\" font-size=\"14.00\" text-anchor=\"middle\" x=\"425.5\" y=\"-434.8\">dropout_2: Dropout</text>\n",
       "<polyline fill=\"none\" points=\"490.5,-415.5 490.5,-461.5 \" stroke=\"black\"/>\n",
       "<text font-family=\"Times New Roman,serif\" font-size=\"14.00\" text-anchor=\"middle\" x=\"518.5\" y=\"-446.3\">input:</text>\n",
       "<polyline fill=\"none\" points=\"490.5,-438.5 546.5,-438.5 \" stroke=\"black\"/>\n",
       "<text font-family=\"Times New Roman,serif\" font-size=\"14.00\" text-anchor=\"middle\" x=\"518.5\" y=\"-423.3\">output:</text>\n",
       "<polyline fill=\"none\" points=\"546.5,-415.5 546.5,-461.5 \" stroke=\"black\"/>\n",
       "<text font-family=\"Times New Roman,serif\" font-size=\"14.00\" text-anchor=\"middle\" x=\"581.5\" y=\"-446.3\">(None, 5)</text>\n",
       "<polyline fill=\"none\" points=\"546.5,-438.5 616.5,-438.5 \" stroke=\"black\"/>\n",
       "<text font-family=\"Times New Roman,serif\" font-size=\"14.00\" text-anchor=\"middle\" x=\"581.5\" y=\"-423.3\">(None, 5)</text>\n",
       "</g>\n",
       "<!-- 1712752486944&#45;&gt;1712752488064 -->\n",
       "<g class=\"edge\" id=\"edge6\"><title>1712752486944-&gt;1712752488064</title>\n",
       "<path d=\"M495.041,-498.366C494.128,-490.152 493.073,-480.658 492.081,-471.725\" fill=\"none\" stroke=\"black\"/>\n",
       "<polygon fill=\"black\" points=\"495.539,-471.159 490.956,-461.607 488.582,-471.932 495.539,-471.159\" stroke=\"black\"/>\n",
       "</g>\n",
       "<!-- 1712752463824 -->\n",
       "<g class=\"node\" id=\"node9\"><title>1712752463824</title>\n",
       "<polygon fill=\"none\" points=\"163,-332.5 163,-378.5 532,-378.5 532,-332.5 163,-332.5\" stroke=\"black\"/>\n",
       "<text font-family=\"Times New Roman,serif\" font-size=\"14.00\" text-anchor=\"middle\" x=\"249.5\" y=\"-351.8\">concatenate_1: Concatenate</text>\n",
       "<polyline fill=\"none\" points=\"336,-332.5 336,-378.5 \" stroke=\"black\"/>\n",
       "<text font-family=\"Times New Roman,serif\" font-size=\"14.00\" text-anchor=\"middle\" x=\"364\" y=\"-363.3\">input:</text>\n",
       "<polyline fill=\"none\" points=\"336,-355.5 392,-355.5 \" stroke=\"black\"/>\n",
       "<text font-family=\"Times New Roman,serif\" font-size=\"14.00\" text-anchor=\"middle\" x=\"364\" y=\"-340.3\">output:</text>\n",
       "<polyline fill=\"none\" points=\"392,-332.5 392,-378.5 \" stroke=\"black\"/>\n",
       "<text font-family=\"Times New Roman,serif\" font-size=\"14.00\" text-anchor=\"middle\" x=\"462\" y=\"-363.3\">[(None, 8), (None, 5)]</text>\n",
       "<polyline fill=\"none\" points=\"392,-355.5 532,-355.5 \" stroke=\"black\"/>\n",
       "<text font-family=\"Times New Roman,serif\" font-size=\"14.00\" text-anchor=\"middle\" x=\"462\" y=\"-340.3\">(None, 13)</text>\n",
       "</g>\n",
       "<!-- 1712752487056&#45;&gt;1712752463824 -->\n",
       "<g class=\"edge\" id=\"edge7\"><title>1712752487056-&gt;1712752463824</title>\n",
       "<path d=\"M245.029,-415.366C261.971,-405.634 282.038,-394.106 299.904,-383.842\" fill=\"none\" stroke=\"black\"/>\n",
       "<polygon fill=\"black\" points=\"302.09,-386.623 309.018,-378.607 298.603,-380.553 302.09,-386.623\" stroke=\"black\"/>\n",
       "</g>\n",
       "<!-- 1712752488064&#45;&gt;1712752463824 -->\n",
       "<g class=\"edge\" id=\"edge8\"><title>1712752488064-&gt;1712752463824</title>\n",
       "<path d=\"M449.971,-415.366C433.029,-405.634 412.962,-394.106 395.096,-383.842\" fill=\"none\" stroke=\"black\"/>\n",
       "<polygon fill=\"black\" points=\"396.397,-380.553 385.982,-378.607 392.91,-386.623 396.397,-380.553\" stroke=\"black\"/>\n",
       "</g>\n",
       "<!-- 1712753114528 -->\n",
       "<g class=\"node\" id=\"node10\"><title>1712753114528</title>\n",
       "<polygon fill=\"none\" points=\"199,-249.5 199,-295.5 496,-295.5 496,-249.5 199,-249.5\" stroke=\"black\"/>\n",
       "<text font-family=\"Times New Roman,serif\" font-size=\"14.00\" text-anchor=\"middle\" x=\"278\" y=\"-268.8\">FullyConnected-1: Dense</text>\n",
       "<polyline fill=\"none\" points=\"357,-249.5 357,-295.5 \" stroke=\"black\"/>\n",
       "<text font-family=\"Times New Roman,serif\" font-size=\"14.00\" text-anchor=\"middle\" x=\"385\" y=\"-280.3\">input:</text>\n",
       "<polyline fill=\"none\" points=\"357,-272.5 413,-272.5 \" stroke=\"black\"/>\n",
       "<text font-family=\"Times New Roman,serif\" font-size=\"14.00\" text-anchor=\"middle\" x=\"385\" y=\"-257.3\">output:</text>\n",
       "<polyline fill=\"none\" points=\"413,-249.5 413,-295.5 \" stroke=\"black\"/>\n",
       "<text font-family=\"Times New Roman,serif\" font-size=\"14.00\" text-anchor=\"middle\" x=\"454.5\" y=\"-280.3\">(None, 13)</text>\n",
       "<polyline fill=\"none\" points=\"413,-272.5 496,-272.5 \" stroke=\"black\"/>\n",
       "<text font-family=\"Times New Roman,serif\" font-size=\"14.00\" text-anchor=\"middle\" x=\"454.5\" y=\"-257.3\">(None, 100)</text>\n",
       "</g>\n",
       "<!-- 1712752463824&#45;&gt;1712753114528 -->\n",
       "<g class=\"edge\" id=\"edge9\"><title>1712752463824-&gt;1712753114528</title>\n",
       "<path d=\"M347.5,-332.366C347.5,-324.152 347.5,-314.658 347.5,-305.725\" fill=\"none\" stroke=\"black\"/>\n",
       "<polygon fill=\"black\" points=\"351,-305.607 347.5,-295.607 344,-305.607 351,-305.607\" stroke=\"black\"/>\n",
       "</g>\n",
       "<!-- 1712757454440 -->\n",
       "<g class=\"node\" id=\"node11\"><title>1712757454440</title>\n",
       "<polygon fill=\"none\" points=\"199,-166.5 199,-212.5 496,-212.5 496,-166.5 199,-166.5\" stroke=\"black\"/>\n",
       "<text font-family=\"Times New Roman,serif\" font-size=\"14.00\" text-anchor=\"middle\" x=\"278\" y=\"-185.8\">FullyConnected-2: Dense</text>\n",
       "<polyline fill=\"none\" points=\"357,-166.5 357,-212.5 \" stroke=\"black\"/>\n",
       "<text font-family=\"Times New Roman,serif\" font-size=\"14.00\" text-anchor=\"middle\" x=\"385\" y=\"-197.3\">input:</text>\n",
       "<polyline fill=\"none\" points=\"357,-189.5 413,-189.5 \" stroke=\"black\"/>\n",
       "<text font-family=\"Times New Roman,serif\" font-size=\"14.00\" text-anchor=\"middle\" x=\"385\" y=\"-174.3\">output:</text>\n",
       "<polyline fill=\"none\" points=\"413,-166.5 413,-212.5 \" stroke=\"black\"/>\n",
       "<text font-family=\"Times New Roman,serif\" font-size=\"14.00\" text-anchor=\"middle\" x=\"454.5\" y=\"-197.3\">(None, 100)</text>\n",
       "<polyline fill=\"none\" points=\"413,-189.5 496,-189.5 \" stroke=\"black\"/>\n",
       "<text font-family=\"Times New Roman,serif\" font-size=\"14.00\" text-anchor=\"middle\" x=\"454.5\" y=\"-174.3\">(None, 50)</text>\n",
       "</g>\n",
       "<!-- 1712753114528&#45;&gt;1712757454440 -->\n",
       "<g class=\"edge\" id=\"edge10\"><title>1712753114528-&gt;1712757454440</title>\n",
       "<path d=\"M347.5,-249.366C347.5,-241.152 347.5,-231.658 347.5,-222.725\" fill=\"none\" stroke=\"black\"/>\n",
       "<polygon fill=\"black\" points=\"351,-222.607 347.5,-212.607 344,-222.607 351,-222.607\" stroke=\"black\"/>\n",
       "</g>\n",
       "<!-- 1712757582032 -->\n",
       "<g class=\"node\" id=\"node12\"><title>1712757582032</title>\n",
       "<polygon fill=\"none\" points=\"202,-83.5 202,-129.5 493,-129.5 493,-83.5 202,-83.5\" stroke=\"black\"/>\n",
       "<text font-family=\"Times New Roman,serif\" font-size=\"14.00\" text-anchor=\"middle\" x=\"281\" y=\"-102.8\">FullyConnected-3: Dense</text>\n",
       "<polyline fill=\"none\" points=\"360,-83.5 360,-129.5 \" stroke=\"black\"/>\n",
       "<text font-family=\"Times New Roman,serif\" font-size=\"14.00\" text-anchor=\"middle\" x=\"388\" y=\"-114.3\">input:</text>\n",
       "<polyline fill=\"none\" points=\"360,-106.5 416,-106.5 \" stroke=\"black\"/>\n",
       "<text font-family=\"Times New Roman,serif\" font-size=\"14.00\" text-anchor=\"middle\" x=\"388\" y=\"-91.3\">output:</text>\n",
       "<polyline fill=\"none\" points=\"416,-83.5 416,-129.5 \" stroke=\"black\"/>\n",
       "<text font-family=\"Times New Roman,serif\" font-size=\"14.00\" text-anchor=\"middle\" x=\"454.5\" y=\"-114.3\">(None, 50)</text>\n",
       "<polyline fill=\"none\" points=\"416,-106.5 493,-106.5 \" stroke=\"black\"/>\n",
       "<text font-family=\"Times New Roman,serif\" font-size=\"14.00\" text-anchor=\"middle\" x=\"454.5\" y=\"-91.3\">(None, 20)</text>\n",
       "</g>\n",
       "<!-- 1712757454440&#45;&gt;1712757582032 -->\n",
       "<g class=\"edge\" id=\"edge11\"><title>1712757454440-&gt;1712757582032</title>\n",
       "<path d=\"M347.5,-166.366C347.5,-158.152 347.5,-148.658 347.5,-139.725\" fill=\"none\" stroke=\"black\"/>\n",
       "<polygon fill=\"black\" points=\"351,-139.607 347.5,-129.607 344,-139.607 351,-139.607\" stroke=\"black\"/>\n",
       "</g>\n",
       "<!-- 1712757726512 -->\n",
       "<g class=\"node\" id=\"node13\"><title>1712757726512</title>\n",
       "<polygon fill=\"none\" points=\"223.5,-0.5 223.5,-46.5 471.5,-46.5 471.5,-0.5 223.5,-0.5\" stroke=\"black\"/>\n",
       "<text font-family=\"Times New Roman,serif\" font-size=\"14.00\" text-anchor=\"middle\" x=\"281\" y=\"-19.8\">Activation: Dense</text>\n",
       "<polyline fill=\"none\" points=\"338.5,-0.5 338.5,-46.5 \" stroke=\"black\"/>\n",
       "<text font-family=\"Times New Roman,serif\" font-size=\"14.00\" text-anchor=\"middle\" x=\"366.5\" y=\"-31.3\">input:</text>\n",
       "<polyline fill=\"none\" points=\"338.5,-23.5 394.5,-23.5 \" stroke=\"black\"/>\n",
       "<text font-family=\"Times New Roman,serif\" font-size=\"14.00\" text-anchor=\"middle\" x=\"366.5\" y=\"-8.3\">output:</text>\n",
       "<polyline fill=\"none\" points=\"394.5,-0.5 394.5,-46.5 \" stroke=\"black\"/>\n",
       "<text font-family=\"Times New Roman,serif\" font-size=\"14.00\" text-anchor=\"middle\" x=\"433\" y=\"-31.3\">(None, 20)</text>\n",
       "<polyline fill=\"none\" points=\"394.5,-23.5 471.5,-23.5 \" stroke=\"black\"/>\n",
       "<text font-family=\"Times New Roman,serif\" font-size=\"14.00\" text-anchor=\"middle\" x=\"433\" y=\"-8.3\">(None, 1)</text>\n",
       "</g>\n",
       "<!-- 1712757582032&#45;&gt;1712757726512 -->\n",
       "<g class=\"edge\" id=\"edge12\"><title>1712757582032-&gt;1712757726512</title>\n",
       "<path d=\"M347.5,-83.3664C347.5,-75.1516 347.5,-65.6579 347.5,-56.7252\" fill=\"none\" stroke=\"black\"/>\n",
       "<polygon fill=\"black\" points=\"351,-56.6068 347.5,-46.6068 344,-56.6069 351,-56.6068\" stroke=\"black\"/>\n",
       "</g>\n",
       "</g>\n",
       "</svg>"
      ],
      "text/plain": [
       "<IPython.core.display.SVG object>"
      ]
     },
     "execution_count": 4,
     "metadata": {},
     "output_type": "execute_result"
    }
   ],
   "source": [
    "n_latent_factors_user = 5\n",
    "n_latent_factors_movie = 8\n",
    "\n",
    "movie_input = keras.layers.Input(shape=[1],name='Movie')\n",
    "movie_embedding = keras.layers.Embedding(n_movies + 1, n_latent_factors_movie, name='Movie-Embedding')(movie_input)\n",
    "movie_vec = keras.layers.Flatten(name='FlattenMovies')(movie_embedding)\n",
    "movie_vec = keras.layers.Dropout(0.5)(movie_vec)\n",
    "\n",
    "\n",
    "user_input = keras.layers.Input(shape=[1],name='User')\n",
    "user_vec = keras.layers.Flatten(name='FlattenUsers')(keras.layers.Embedding(n_users + 1, n_latent_factors_user,name='User-Embedding')(user_input))\n",
    "user_vec = keras.layers.Dropout(0.5)(user_vec)\n",
    "\n",
    "\n",
    "concat = keras.layers.concatenate([movie_vec, user_vec])\n",
    "concat_dropout = keras.layers.Dropout(0.2)(concat)\n",
    "dense = keras.layers.Dense(200,name='FullyConnected')(concat)\n",
    "dropout_1 = keras.layers.Dropout(0.2,name='Dropout')(dense)\n",
    "dense_2 = keras.layers.Dense(100,name='FullyConnected-1')(concat)\n",
    "dropout_2 = keras.layers.Dropout(0.2,name='Dropout')(dense_2)\n",
    "dense_3 = keras.layers.Dense(50,name='FullyConnected-2')(dense_2)\n",
    "dropout_3 = keras.layers.Dropout(0.2,name='Dropout')(dense_3)\n",
    "dense_4 = keras.layers.Dense(20,name='FullyConnected-3', activation='relu')(dense_3)\n",
    "\n",
    "\n",
    "result = keras.layers.Dense(1, activation='relu',name='Activation')(dense_4)\n",
    "model = keras.Model([user_input, movie_input], result)\n",
    "model.compile(optimizer=Adam(lr=0.001),loss= 'mean_absolute_error')\n",
    "\n",
    "#visualize model\n",
    "SVG(model_to_dot(model,  show_shapes=True, rankdir='HB').create(prog='dot', format='svg'))"
   ]
  },
  {
   "cell_type": "code",
   "execution_count": 5,
   "metadata": {},
   "outputs": [],
   "source": [
    "#model = load_model('neural.h5')"
   ]
  },
  {
   "cell_type": "code",
   "execution_count": 6,
   "metadata": {
    "pycharm": {
     "metadata": false,
     "name": "#%%\n"
    }
   },
   "outputs": [
    {
     "name": "stdout",
     "output_type": "stream",
     "text": [
      "WARNING:tensorflow:From C:\\Users\\machine\\Anaconda3\\envs\\tf_gpu\\lib\\site-packages\\tensorflow\\python\\ops\\math_ops.py:3066: to_int32 (from tensorflow.python.ops.math_ops) is deprecated and will be removed in a future version.\n",
      "Instructions for updating:\n",
      "Use tf.cast instead.\n"
     ]
    },
    {
     "data": {
      "image/png": "[encoded data removed]",
      "text/plain": [
       "<Figure size 432x288 with 1 Axes>"
      ]
     },
     "metadata": {
      "needs_background": "light"
     },
     "output_type": "display_data"
    }
   ],
   "source": [
    "history = model.fit([train['userId'], train['movieId']], train.rating,batch_size=256, epochs=200, verbose=0)\n",
    "pd.Series(history.history['loss']).plot()\n",
    "plt.xlabel(\"Epoch\")\n",
    "plt.ylabel(\"Train Error\")\n",
    "model.save('Saved-Models/Neural/model.h5')\n",
    "#model.save_weights('neural-weights.h5')"
   ]
  },
  {
   "cell_type": "code",
   "execution_count": 7,
   "metadata": {
    "pycharm": {
     "metadata": false,
     "name": "#%%\n"
    }
   },
   "outputs": [
    {
     "name": "stdout",
     "output_type": "stream",
     "text": [
      "MAE: 0.6531527786205705\n",
      "RMSE: 0.875585111707352\n"
     ]
    }
   ],
   "source": [
    "y_hat = model.predict([test.userId, test.movieId])\n",
    "y_true = test.rating\n",
    "\n",
    "print(\"MAE:\",mean_absolute_error(y_true,y_hat))\n",
    "print(\"RMSE:\",sqrt(mean_squared_error(y_true, y_hat)))"
   ]
  },
  {
   "cell_type": "markdown",
   "metadata": {},
   "source": [
    "# Get predictions for a random user"
   ]
  },
  {
   "cell_type": "code",
   "execution_count": 12,
   "metadata": {},
   "outputs": [
    {
     "name": "stdout",
     "output_type": "stream",
     "text": [
      "       userId  movieId  rating   timestamp                             title  \\\n",
      "76910     140     2650     5.0  1513132182                 Caddyshack (1980)   \n",
      "54801     140     6134     5.0  1513130007             V for Vendetta (2006)   \n",
      "14364     140     2224     5.0  1513130645                 Fight Club (1999)   \n",
      "42348     140     7022     5.0  1513129898                         Up (2009)   \n",
      "17101     140     6693     5.0  1513129850           Dark Knight, The (2008)   \n",
      "43330     140     8354     5.0  1513132133  Grand Budapest Hotel, The (2014)   \n",
      "47223     140     6755     5.0  1513130248                     WALL·E (2008)   \n",
      "48167     140     8673     5.0  1513129876                   Deadpool (2016)   \n",
      "51305     140     7396     5.0  1513130508        Social Network, The (2010)   \n",
      "15697     140     2670     5.0  1513130008                  Gladiator (2000)   \n",
      "\n",
      "                                            genres  \n",
      "76910                                       Comedy  \n",
      "54801                  Action|Sci-Fi|Thriller|IMAX  \n",
      "14364                  Action|Crime|Drama|Thriller  \n",
      "42348           Adventure|Animation|Children|Drama  \n",
      "17101                      Action|Crime|Drama|IMAX  \n",
      "43330                                 Comedy|Drama  \n",
      "47223  Adventure|Animation|Children|Romance|Sci-Fi  \n",
      "48167               Action|Adventure|Comedy|Sci-Fi  \n",
      "51305                                        Drama  \n",
      "15697                       Action|Adventure|Drama  \n"
     ]
    }
   ],
   "source": [
    "userId=140\n",
    "original_ratings = ratings[ratings['userId']==userId]\n",
    "original_ratings = original_ratings.sort_values(by=['rating'],ascending=False)\n",
    "print(original_ratings.head(10))"
   ]
  },
  {
   "cell_type": "code",
   "execution_count": 13,
   "metadata": {},
   "outputs": [
    {
     "name": "stdout",
     "output_type": "stream",
     "text": [
      "      rating  movieId                                            title  \\\n",
      "0   4.448627     5423                        Unfaithfully Yours (1948)   \n",
      "1   4.383366     4116                                   Android (1982)   \n",
      "3   4.372422     8821                                      Seve (2014)   \n",
      "4   4.366920     3729                                 Hangar 18 (1980)   \n",
      "6   4.358639     3903                               The Big Bus (1976)   \n",
      "7   4.347296     5476  Holy Mountain, The (Montaña sagrada, La) (1973)   \n",
      "9   4.337649     9024                                 Deathgasm (2015)   \n",
      "10  4.316227     9037                     Bloodsucking Bastards (2015)   \n",
      "11  4.286379     9216                   Who Killed Chea Vichea? (2010)   \n",
      "12  4.285977     8975                    Ooops! Noah is Gone... (2015)   \n",
      "\n",
      "                    genres  \n",
      "0                   Comedy  \n",
      "1                   Sci-Fi  \n",
      "3        Documentary|Drama  \n",
      "4   Action|Sci-Fi|Thriller  \n",
      "6            Action|Comedy  \n",
      "7                    Drama  \n",
      "9            Comedy|Horror  \n",
      "10           Comedy|Horror  \n",
      "11             Documentary  \n",
      "12               Animation  \n"
     ]
    }
   ],
   "source": [
    "user = [userId] * n_movies\n",
    "movieIds = ratings['movieId'].unique()\n",
    "preds = model.predict([user, movieIds])\n",
    "\n",
    "preds = pd.DataFrame(data=preds)\n",
    "movieIds = pd.DataFrame(data=movieIds)\n",
    "\n",
    "preds2 = preds.merge(movieIds,left_index=True,right_index=True)\n",
    "preds2.columns= ['rating','movieId']\n",
    "\n",
    "preds2 = preds2.sort_values(by='rating', ascending=False)\n",
    "\n",
    "score = preds2.merge(ratings[['movieId','title','genres']], on='movieId').drop_duplicates()\n",
    "print(score.head(10))"
   ]
  },
  {
   "cell_type": "markdown",
   "metadata": {},
   "source": [
    "# Get predictions for a new user that likes 1 movie"
   ]
  },
  {
   "cell_type": "code",
   "execution_count": 10,
   "metadata": {
    "pycharm": {
     "metadata": false,
     "name": "#%%\n"
    }
   },
   "outputs": [],
   "source": [
    "def addRating(movieName,rating):\n",
    "    m = ratings.loc[ratings['title']==movieName].movieId\n",
    "    id = m.unique()\n",
    "    new_user = [610]\n",
    "    history = model.fit([new_user, id], [5] , epochs=1, verbose=0)\n",
    "    # pd.Series(history.history['loss']).plot()\n",
    "    # plt.xlabel(\"Epoch\")\n",
    "    # plt.ylabel(\"Train Error\")\n",
    "    \n",
    "    new_user = new_user * n_movies\n",
    "    movieIds = ratings['movieId'].unique()\n",
    "    preds = model.predict([new_user, movieIds])\n",
    "    \n",
    "    \n",
    "    preds = pd.DataFrame(data=preds)\n",
    "    movieIds = pd.DataFrame(data=movieIds)\n",
    "\n",
    "    \n",
    "    preds2 = preds.merge(movieIds,left_index=True,right_index=True)\n",
    "    preds2.columns= ['rating','movieId']\n",
    "    \n",
    "    preds2 = preds2.sort_values(by='rating', ascending=False)\n",
    "\n",
    "    return preds2.merge(ratings[['movieId','title','genres']], on='movieId').drop_duplicates()"
   ]
  },
  {
   "cell_type": "code",
   "execution_count": 11,
   "metadata": {
    "pycharm": {
     "metadata": false,
     "name": "#%%\n"
    }
   },
   "outputs": [
    {
     "name": "stdout",
     "output_type": "stream",
     "text": [
      "     rating  movieId                            title         genres\n",
      "0  4.698303     3903               The Big Bus (1976)  Action|Comedy\n",
      "1  4.655892     9037     Bloodsucking Bastards (2015)  Comedy|Horror\n",
      "2  4.625642     8975    Ooops! Noah is Gone... (2015)      Animation\n",
      "3  4.621127     6494  Valet, The (La doublure) (2006)         Comedy\n",
      "4  4.619104     9134             A Perfect Day (2015)   Comedy|Drama\n"
     ]
    }
   ],
   "source": [
    "preds = addRating(\"Lord of the Rings: The Fellowship of the Ring, The (2001)\",5)\n",
    "print(preds.head())"
   ]
  }
 ],
 "metadata": {
  "kernelspec": {
   "display_name": "TF GPU",
   "language": "python",
   "name": "tf-gpu"
  },
  "language_info": {
   "codemirror_mode": {
    "name": "ipython",
    "version": 3
   },
   "file_extension": ".py",
   "mimetype": "text/x-python",
   "name": "python",
   "nbconvert_exporter": "python",
   "pygments_lexer": "ipython3",
   "version": "3.6.8"
  },
  "stem_cell": {
   "cell_type": "raw",
   "metadata": {
    "pycharm": {
     "metadata": false
    }
   },
   "source": ""
  }
 },
 "nbformat": 4,
 "nbformat_minor": 1
}
