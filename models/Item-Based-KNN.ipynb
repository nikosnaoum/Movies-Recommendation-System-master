{
 "cells": [
  {
   "cell_type": "code",
   "execution_count": 25,
   "metadata": {},
   "outputs": [],
   "source": [
    "import os\n",
    "import pandas as pd\n",
    "from scipy.sparse import csr_matrix\n",
    "from sklearn.neighbors import NearestNeighbors\n",
    "import gc\n",
    "import time\n",
    "from fuzzywuzzy import fuzz\n",
    "\n",
    "# configure file path\n",
    "data_path = '../datasets/ml-latest-small/'\n",
    "movies_filename = 'movies.csv'\n",
    "ratings_filename = 'ratings.csv'\n",
    "# read data\n",
    "df_movies = pd.read_csv(\n",
    "    os.path.join(data_path, movies_filename),\n",
    "    usecols=['movieId', 'title'],\n",
    "    dtype={'movieId': 'int32', 'title': 'str'})\n",
    "\n",
    "df_ratings = pd.read_csv(\n",
    "    os.path.join(data_path, ratings_filename),\n",
    "    usecols=['userId', 'movieId', 'rating'],\n",
    "    dtype={'userId': 'int32', 'movieId': 'int32', 'rating': 'float32'})\n",
    "# print(df_movies)"
   ]
  },
  {
   "cell_type": "markdown",
   "metadata": {},
   "source": [
    "### Data Preprocessing"
   ]
  },
  {
   "cell_type": "code",
   "execution_count": 19,
   "metadata": {},
   "outputs": [
    {
     "data": {
      "text/plain": [
       "94"
      ]
     },
     "execution_count": 19,
     "metadata": {},
     "output_type": "execute_result"
    }
   ],
   "source": [
    "movie_rating_thres = 50\n",
    "user_rating_thres = 50\n",
    "\n",
    "df_movies_cnt = pd.DataFrame(df_ratings.groupby('movieId').size(), columns=['count'])\n",
    "popular_movies = list(set(df_movies_cnt.query('count >= @movie_rating_thres').index))  # noqa\n",
    "movies_filter = df_ratings.movieId.isin(popular_movies).values\n",
    "\n",
    "df_users_cnt = pd.DataFrame(df_ratings.groupby('userId').size(), columns=['count'])\n",
    "active_users = list(set(df_users_cnt.query('count >= @user_rating_thres').index))  # noqa\n",
    "users_filter = df_ratings.userId.isin(active_users).values\n",
    "\n",
    "df_ratings_filtered = df_ratings[movies_filter & users_filter]\n",
    "\n",
    "# pivot and create movie-user matrix\n",
    "movie_user_mat = df_ratings_filtered.pivot(\n",
    "    index='movieId', columns='userId', values='rating').fillna(0)\n",
    "# create mapper from movie title to index\n",
    "hashmap = {movie: i for i, movie in\n",
    "    enumerate(list(df_movies.set_index('movieId').loc[movie_user_mat.index].title)) # noqa\n",
    "}\n",
    "# transform matrix to scipy sparse matrix\n",
    "movie_user_mat_sparse = csr_matrix(movie_user_mat.values)\n",
    "\n",
    "# clean up\n",
    "del df_movies, df_movies_cnt, df_users_cnt\n",
    "del df_ratings, df_ratings_filtered, movie_user_mat\n",
    "gc.collect()\n",
    "\n",
    "#return  movie_user_mat_sparse, hashmap"
   ]
  },
  {
   "cell_type": "markdown",
   "metadata": {},
   "source": [
    "### Building Model"
   ]
  },
  {
   "cell_type": "code",
   "execution_count": 22,
   "metadata": {},
   "outputs": [],
   "source": [
    "model_knn = NearestNeighbors(metric='cosine', algorithm='brute', n_neighbors=20, n_jobs=-1)\n",
    "\n",
    "def make_recommendations(fav_movie, n_recommendations):\n",
    "\n",
    "    data = movie_user_mat_sparse\n",
    "    model_knn.fit(data)\n",
    "    # get input movie index\n",
    "    print('You have input movie:', fav_movie)\n",
    "#     idx = fuzzy_matching(hashmap, fav_movie)\n",
    "    \n",
    "    match_tuple = []\n",
    "    # get match\n",
    "    for title, idx in hashmap.items():\n",
    "        ratio = fuzz.ratio(title.lower(), fav_movie.lower())\n",
    "        if ratio >= 60:\n",
    "            match_tuple.append((title, idx, ratio))\n",
    "    # sort\n",
    "    match_tuple = sorted(match_tuple, key=lambda x: x[2])[::-1]\n",
    "    if not match_tuple:\n",
    "        print('Oops! No match is found')\n",
    "    else:\n",
    "        print('Found possible matches in our database: '\n",
    "              '{0}\\n'.format([x[0] for x in match_tuple]))\n",
    "         \n",
    "    idx = match_tuple[0][1]\n",
    "    \n",
    "    # inference\n",
    "    print('Recommendation system start to make inference')\n",
    "    print('......\\n')\n",
    "    t0 = time.time()\n",
    "    distances, indices = model_knn.kneighbors(data[idx], n_neighbors=n_recommendations+1)\n",
    "    # get list of raw idx of recommendations\n",
    "    raw_recommends = sorted(list(zip(indices.squeeze().tolist(),\n",
    "                                     distances.squeeze().tolist())),key=lambda x: x[1])[:0:-1]\n",
    "    print('It took my system {:.2f}s to make inference \\n\\'.format(time.time() - t0)')\n",
    "    \n",
    "    reverse_hashmap = {v: k for k, v in hashmap.items()}\n",
    "    print('Recommendations for {}:'.format(fav_movie))\n",
    "    for i, (idx, dist) in enumerate(raw_recommends):\n",
    "        print('{0}: {1}, with distance ''of {2}'.format(i+1, reverse_hashmap[idx], dist))"
   ]
  },
  {
   "cell_type": "markdown",
   "metadata": {},
   "source": [
    "### Get recommendations"
   ]
  },
  {
   "cell_type": "code",
   "execution_count": 24,
   "metadata": {},
   "outputs": [
    {
     "name": "stdout",
     "output_type": "stream",
     "text": [
      "You have input movie: Star Wars: Episode VI - Return of the Jedi (1983)\n",
      "Found possible matches in our database: ['Star Wars: Episode VI - Return of the Jedi (1983)', 'Star Wars: Episode III - Revenge of the Sith (2005)', 'Star Wars: Episode II - Attack of the Clones (2002)', 'Star Wars: Episode IV - A New Hope (1977)', 'Star Wars: Episode V - The Empire Strikes Back (1980)', 'Star Wars: Episode I - The Phantom Menace (1999)']\n",
      "\n",
      "Recommendation system start to make inference\n",
      "......\n",
      "\n",
      "It took my system {:.2f}s to make inference \n",
      "'.format(time.time() - t0)\n",
      "Recommendations for Star Wars: Episode VI - Return of the Jedi (1983):\n",
      "1: Independence Day (a.k.a. ID4) (1996), with distance of 0.3401036858558655\n",
      "2: Star Wars: Episode I - The Phantom Menace (1999), with distance of 0.32803618907928467\n",
      "3: Saving Private Ryan (1998), with distance of 0.3274661898612976\n",
      "4: Terminator, The (1984), with distance of 0.3177783489227295\n",
      "5: Raiders of the Lost Ark (Indiana Jones and the Raiders of the Lost Ark) (1981), with distance of 0.3055809736251831\n",
      "6: Back to the Future (1985), with distance of 0.29281699657440186\n",
      "7: Matrix, The (1999), with distance of 0.2816517949104309\n",
      "8: Indiana Jones and the Last Crusade (1989), with distance of 0.27239638566970825\n",
      "9: Star Wars: Episode IV - A New Hope (1977), with distance of 0.16931921243667603\n",
      "10: Star Wars: Episode V - The Empire Strikes Back (1980), with distance of 0.15833669900894165\n"
     ]
    }
   ],
   "source": [
    "make_recommendations(\"Star Wars: Episode VI - Return of the Jedi (1983)\", 10)"
   ]
  }
 ],
 "metadata": {
  "kernelspec": {
   "display_name": "Python 3",
   "language": "python",
   "name": "python3"
  },
  "language_info": {
   "codemirror_mode": {
    "name": "ipython",
    "version": 3
   },
   "file_extension": ".py",
   "mimetype": "text/x-python",
   "name": "python",
   "nbconvert_exporter": "python",
   "pygments_lexer": "ipython3",
   "version": "3.6.7"
  }
 },
 "nbformat": 4,
 "nbformat_minor": 2
}
